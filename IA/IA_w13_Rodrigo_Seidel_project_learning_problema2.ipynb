{
  "nbformat": 4,
  "nbformat_minor": 0,
  "metadata": {
    "colab": {
      "name": "IA-w13-Rodrigo_Seidel-project-learning-problema2",
      "provenance": [],
      "collapsed_sections": [],
      "toc_visible": true,
      "authorship_tag": "ABX9TyPkvfMFLWeb9zN65LcxnUdh",
      "include_colab_link": true
    },
    "kernelspec": {
      "name": "python3",
      "display_name": "Python 3"
    }
  },
  "cells": [
    {
      "cell_type": "markdown",
      "metadata": {
        "id": "view-in-github",
        "colab_type": "text"
      },
      "source": [
        "<a href=\"https://colab.research.google.com/github/rodseidel/mpca/blob/master/IA_w13_Rodrigo_Seidel_project_learning_problema2.ipynb\" target=\"_parent\"><img src=\"https://colab.research.google.com/assets/colab-badge.svg\" alt=\"Open In Colab\"/></a>"
      ]
    },
    {
      "cell_type": "markdown",
      "metadata": {
        "id": "0oV8qY4miPdi"
      },
      "source": [
        "#Problema 2"
      ]
    },
    {
      "cell_type": "markdown",
      "metadata": {
        "id": "i5trmEEpiWgu"
      },
      "source": [
        "O projeto consiste em usar classificadores para aprender a predizer se uma pessoa possui problemas cardíacos com base em um conjunto de informações sobre o paciente e sintomas. Para isso, será utilizada a base de dados Heart Disease UCI.\n",
        "A base de dados é representada como um arquivo CSV no qual cada linha representa os atributos do paciente (gênero, idade, se apresenta dor no peito, pressão arterial em repouso, etc.) e o resultado da análise se o paciente possui ou não problema cardíaco (campo “target” no arquivo). Os dados da base de dados devem ser pré-processados da seguinte forma: \n",
        "\n",
        "1. Separar os dados em uma matriz de features (dados de entrada) e \n",
        "um vetor coluna com as classes (última coluna – “target” – do arquivo csv).\n",
        "2. Normalizar a matriz de features de forma que os valores das colunas estejam no intervalo [0,1]. Essa transformação é importante para que a contribuição de todas as características seja\n",
        "aproximadamente a mesma. Além disso, alguns classificadores como as redes neurais funcionam melhor com dados neste intervalo. Para cada coluna, deve-se:\n",
        "* Subtrair todos os valores pelo mínimo da coluna de forma que todos os valores se tornem maiores ou iguais a zero.\n",
        "* Dividir todos os valores pelo máximo da coluna (após a subtração), de forma que todos os valores fiquem entre 0 e 1.\n",
        "3. Separar os dados em um conjunto de treinamento e um conjunto de avaliação (teste) do modelo treinado. Essa separação é importante porque alguns classificadores são muito bons em decorar o treinamento de forma que eles são capazes de classificar estes dados com 100% de acerto. Contudo, isso não necessariamente garante que eles vão ter a mesma precisão comdados diferentes do treinamento. Eles podem ser como aqueles alunos que decoram o\n",
        "resultado de 2 maçãs mais 3 maçãs, mas não sabem somar 2 laranjas e 3 laranjas. \n",
        "\n",
        "Após este pré-processamento, devem ser treinados (usando o conjunto de treino) e avaliados(usando o conjunto de teste) os classificadores K-nearest neighbours (K-NN), SVM, random forest, rede neural multilayer perceptron (MLP) e gradient boosting. Os seguintes parâmetros devem ser usados para os classificadores: \n",
        "\n",
        "Classificador e Parâmetros\n",
        "* K-NN - 5 vizinhos\n",
        "* SVM - gamma = 2, C = 1\n",
        "* Random Forest - max_depth=5, n_estimators=10\n",
        "* MLP - hidden_layer_sizes=(32, 32), max_iter=50000, batch_size=64, alpha=1e-1\n",
        "* Gradient Boosting - n_estimators=10\n",
        "\n",
        "\n",
        "Para cada classificador, deve ser exibida a matriz de confusão mostrando o resultado das classificações. Além disso, devem ser criada uma tabela comparando a acurácia, precisão, recall,\n",
        "tempo de treinamento, e tempo de inferência/predição dos classificadores. \n",
        "\n",
        "Escreva um parágrafo analisando os resultados.\n",
        "Importante: É esperado que a acurácia dos classificadores esteja entre 75% e 85% de acerto.\n",
        "\n",
        "Importante: Existem funções na biblioteca scikit-learn para realizar todas as etapas do trabalho e elas devem ser usadas.\n",
        "\n",
        "Pontos Extras: O aluno que também utilizar o algoritmo extreme gradiente boosting (XGBoost)\n",
        "receberá 2 pontos extras.\n"
      ]
    },
    {
      "cell_type": "markdown",
      "metadata": {
        "id": "O2Prnu8Kkwyc"
      },
      "source": [
        "#Imports e download arquivos externos"
      ]
    },
    {
      "cell_type": "code",
      "metadata": {
        "id": "FmENCzJvldjT",
        "outputId": "be4fc9c8-0e58-433d-eaff-3b8442aa193b",
        "colab": {
          "base_uri": "https://localhost:8080/",
          "height": 69
        }
      },
      "source": [
        "import os\n",
        "import zipfile\n",
        "import pandas as pd\n",
        "from sklearn.model_selection import train_test_split\n",
        "\n",
        "from sklearn import metrics\n",
        "from sklearn.neighbors import KNeighborsClassifier\n",
        "from sklearn.svm import SVC\n",
        "from sklearn.ensemble import RandomForestClassifier\n",
        "from sklearn.neural_network import MLPClassifier\n",
        "from sklearn.ensemble import GradientBoostingClassifier\n",
        "from xgboost import XGBClassifier\n",
        "import sklearn.metrics\n",
        "import seaborn as sns\n",
        "import numpy as np\n",
        "from timeit import default_timer as timer\n",
        "from sklearn.metrics import classification_report"
      ],
      "execution_count": null,
      "outputs": [
        {
          "output_type": "stream",
          "text": [
            "/usr/local/lib/python3.6/dist-packages/statsmodels/tools/_testing.py:19: FutureWarning: pandas.util.testing is deprecated. Use the functions in the public API at pandas.testing instead.\n",
            "  import pandas.util.testing as tm\n"
          ],
          "name": "stderr"
        }
      ]
    },
    {
      "cell_type": "code",
      "metadata": {
        "id": "RvujnPaPiMCt",
        "outputId": "6ab1b673-4376-484a-8940-a917a3522098",
        "colab": {
          "base_uri": "https://localhost:8080/",
          "height": 32
        }
      },
      "source": [
        "#IMPORT DATASET\n",
        "os.environ['KAGGLE_USERNAME'] = \"xxxxxx\" # username from the json file\n",
        "os.environ['KAGGLE_KEY'] = \"xxxxxx\" # key from the json file\n",
        "!kaggle datasets download -d ronitf/heart-disease-uci"
      ],
      "execution_count": null,
      "outputs": [
        {
          "output_type": "stream",
          "text": [
            "heart-disease-uci.zip: Skipping, found more recently modified local copy (use --force to force download)\n"
          ],
          "name": "stdout"
        }
      ]
    },
    {
      "cell_type": "code",
      "metadata": {
        "id": "oYgR-SiLlKKz"
      },
      "source": [
        "#UNZIP FILE\n",
        "zf = zipfile.ZipFile('heart-disease-uci.zip')\n",
        "zf.extractall()"
      ],
      "execution_count": null,
      "outputs": []
    },
    {
      "cell_type": "code",
      "metadata": {
        "id": "imMHJbd3lsel"
      },
      "source": [
        "#CREATES A DATAFRAME\n",
        "df = pd.read_csv(\"heart.csv\")"
      ],
      "execution_count": null,
      "outputs": []
    },
    {
      "cell_type": "markdown",
      "metadata": {
        "id": "3aoMkMHGnxI1"
      },
      "source": [
        "#Separação dos dados em matriz de features e vetor coluna com as classes target"
      ]
    },
    {
      "cell_type": "code",
      "metadata": {
        "id": "7jkwqUxAl8al",
        "outputId": "643b3299-2ede-4eb0-e55f-112485eb08b7",
        "colab": {
          "base_uri": "https://localhost:8080/",
          "height": 195
        }
      },
      "source": [
        "X =  df[[\"age\",\"sex\",\"cp\",\"trestbps\",\"chol\",\"fbs\",\"restecg\",\"thalach\",\"exang\",\"oldpeak\",\"slope\",\"ca\",\"thal\"]]\n",
        "X.head()"
      ],
      "execution_count": null,
      "outputs": [
        {
          "output_type": "execute_result",
          "data": {
            "text/html": [
              "<div>\n",
              "<style scoped>\n",
              "    .dataframe tbody tr th:only-of-type {\n",
              "        vertical-align: middle;\n",
              "    }\n",
              "\n",
              "    .dataframe tbody tr th {\n",
              "        vertical-align: top;\n",
              "    }\n",
              "\n",
              "    .dataframe thead th {\n",
              "        text-align: right;\n",
              "    }\n",
              "</style>\n",
              "<table border=\"1\" class=\"dataframe\">\n",
              "  <thead>\n",
              "    <tr style=\"text-align: right;\">\n",
              "      <th></th>\n",
              "      <th>age</th>\n",
              "      <th>sex</th>\n",
              "      <th>cp</th>\n",
              "      <th>trestbps</th>\n",
              "      <th>chol</th>\n",
              "      <th>fbs</th>\n",
              "      <th>restecg</th>\n",
              "      <th>thalach</th>\n",
              "      <th>exang</th>\n",
              "      <th>oldpeak</th>\n",
              "      <th>slope</th>\n",
              "      <th>ca</th>\n",
              "      <th>thal</th>\n",
              "    </tr>\n",
              "  </thead>\n",
              "  <tbody>\n",
              "    <tr>\n",
              "      <th>0</th>\n",
              "      <td>63</td>\n",
              "      <td>1</td>\n",
              "      <td>3</td>\n",
              "      <td>145</td>\n",
              "      <td>233</td>\n",
              "      <td>1</td>\n",
              "      <td>0</td>\n",
              "      <td>150</td>\n",
              "      <td>0</td>\n",
              "      <td>2.3</td>\n",
              "      <td>0</td>\n",
              "      <td>0</td>\n",
              "      <td>1</td>\n",
              "    </tr>\n",
              "    <tr>\n",
              "      <th>1</th>\n",
              "      <td>37</td>\n",
              "      <td>1</td>\n",
              "      <td>2</td>\n",
              "      <td>130</td>\n",
              "      <td>250</td>\n",
              "      <td>0</td>\n",
              "      <td>1</td>\n",
              "      <td>187</td>\n",
              "      <td>0</td>\n",
              "      <td>3.5</td>\n",
              "      <td>0</td>\n",
              "      <td>0</td>\n",
              "      <td>2</td>\n",
              "    </tr>\n",
              "    <tr>\n",
              "      <th>2</th>\n",
              "      <td>41</td>\n",
              "      <td>0</td>\n",
              "      <td>1</td>\n",
              "      <td>130</td>\n",
              "      <td>204</td>\n",
              "      <td>0</td>\n",
              "      <td>0</td>\n",
              "      <td>172</td>\n",
              "      <td>0</td>\n",
              "      <td>1.4</td>\n",
              "      <td>2</td>\n",
              "      <td>0</td>\n",
              "      <td>2</td>\n",
              "    </tr>\n",
              "    <tr>\n",
              "      <th>3</th>\n",
              "      <td>56</td>\n",
              "      <td>1</td>\n",
              "      <td>1</td>\n",
              "      <td>120</td>\n",
              "      <td>236</td>\n",
              "      <td>0</td>\n",
              "      <td>1</td>\n",
              "      <td>178</td>\n",
              "      <td>0</td>\n",
              "      <td>0.8</td>\n",
              "      <td>2</td>\n",
              "      <td>0</td>\n",
              "      <td>2</td>\n",
              "    </tr>\n",
              "    <tr>\n",
              "      <th>4</th>\n",
              "      <td>57</td>\n",
              "      <td>0</td>\n",
              "      <td>0</td>\n",
              "      <td>120</td>\n",
              "      <td>354</td>\n",
              "      <td>0</td>\n",
              "      <td>1</td>\n",
              "      <td>163</td>\n",
              "      <td>1</td>\n",
              "      <td>0.6</td>\n",
              "      <td>2</td>\n",
              "      <td>0</td>\n",
              "      <td>2</td>\n",
              "    </tr>\n",
              "  </tbody>\n",
              "</table>\n",
              "</div>"
            ],
            "text/plain": [
              "   age  sex  cp  trestbps  chol  fbs  ...  thalach  exang  oldpeak  slope  ca  thal\n",
              "0   63    1   3       145   233    1  ...      150      0      2.3      0   0     1\n",
              "1   37    1   2       130   250    0  ...      187      0      3.5      0   0     2\n",
              "2   41    0   1       130   204    0  ...      172      0      1.4      2   0     2\n",
              "3   56    1   1       120   236    0  ...      178      0      0.8      2   0     2\n",
              "4   57    0   0       120   354    0  ...      163      1      0.6      2   0     2\n",
              "\n",
              "[5 rows x 13 columns]"
            ]
          },
          "metadata": {
            "tags": []
          },
          "execution_count": 5
        }
      ]
    },
    {
      "cell_type": "code",
      "metadata": {
        "id": "_zTCa1l-mJVC"
      },
      "source": [
        "Y = df[[\"target\"]].values"
      ],
      "execution_count": null,
      "outputs": []
    },
    {
      "cell_type": "markdown",
      "metadata": {
        "id": "OU7LU51boA6y"
      },
      "source": [
        "#Normalização dos dados"
      ]
    },
    {
      "cell_type": "code",
      "metadata": {
        "id": "o4I5MXodnjXl"
      },
      "source": [
        "#a. Subtrair todos os valores pelo mínimo da coluna \n",
        "#* b. Dividir todos os valores pelo máximo da coluna (após a subtração)\n",
        "#X_norm = (X - X.min()) / X.max()\n",
        "\n",
        "###CORREÇÃO\n",
        "X_norm = X - X.min()\n",
        "X_norm = X_norm / X_norm.max()"
      ],
      "execution_count": null,
      "outputs": []
    },
    {
      "cell_type": "code",
      "metadata": {
        "id": "FS_E4q8Cq0Qg",
        "outputId": "335f302c-6bfb-4c30-f407-34c4dbf4b518",
        "colab": {
          "base_uri": "https://localhost:8080/",
          "height": 195
        }
      },
      "source": [
        "X_norm.head()"
      ],
      "execution_count": null,
      "outputs": [
        {
          "output_type": "execute_result",
          "data": {
            "text/html": [
              "<div>\n",
              "<style scoped>\n",
              "    .dataframe tbody tr th:only-of-type {\n",
              "        vertical-align: middle;\n",
              "    }\n",
              "\n",
              "    .dataframe tbody tr th {\n",
              "        vertical-align: top;\n",
              "    }\n",
              "\n",
              "    .dataframe thead th {\n",
              "        text-align: right;\n",
              "    }\n",
              "</style>\n",
              "<table border=\"1\" class=\"dataframe\">\n",
              "  <thead>\n",
              "    <tr style=\"text-align: right;\">\n",
              "      <th></th>\n",
              "      <th>age</th>\n",
              "      <th>sex</th>\n",
              "      <th>cp</th>\n",
              "      <th>trestbps</th>\n",
              "      <th>chol</th>\n",
              "      <th>fbs</th>\n",
              "      <th>restecg</th>\n",
              "      <th>thalach</th>\n",
              "      <th>exang</th>\n",
              "      <th>oldpeak</th>\n",
              "      <th>slope</th>\n",
              "      <th>ca</th>\n",
              "      <th>thal</th>\n",
              "    </tr>\n",
              "  </thead>\n",
              "  <tbody>\n",
              "    <tr>\n",
              "      <th>0</th>\n",
              "      <td>0.441558</td>\n",
              "      <td>1.0</td>\n",
              "      <td>1.000000</td>\n",
              "      <td>0.255</td>\n",
              "      <td>0.189716</td>\n",
              "      <td>1.0</td>\n",
              "      <td>0.0</td>\n",
              "      <td>0.391089</td>\n",
              "      <td>0.0</td>\n",
              "      <td>0.370968</td>\n",
              "      <td>0.0</td>\n",
              "      <td>0.0</td>\n",
              "      <td>0.333333</td>\n",
              "    </tr>\n",
              "    <tr>\n",
              "      <th>1</th>\n",
              "      <td>0.103896</td>\n",
              "      <td>1.0</td>\n",
              "      <td>0.666667</td>\n",
              "      <td>0.180</td>\n",
              "      <td>0.219858</td>\n",
              "      <td>0.0</td>\n",
              "      <td>0.5</td>\n",
              "      <td>0.574257</td>\n",
              "      <td>0.0</td>\n",
              "      <td>0.564516</td>\n",
              "      <td>0.0</td>\n",
              "      <td>0.0</td>\n",
              "      <td>0.666667</td>\n",
              "    </tr>\n",
              "    <tr>\n",
              "      <th>2</th>\n",
              "      <td>0.155844</td>\n",
              "      <td>0.0</td>\n",
              "      <td>0.333333</td>\n",
              "      <td>0.180</td>\n",
              "      <td>0.138298</td>\n",
              "      <td>0.0</td>\n",
              "      <td>0.0</td>\n",
              "      <td>0.500000</td>\n",
              "      <td>0.0</td>\n",
              "      <td>0.225806</td>\n",
              "      <td>1.0</td>\n",
              "      <td>0.0</td>\n",
              "      <td>0.666667</td>\n",
              "    </tr>\n",
              "    <tr>\n",
              "      <th>3</th>\n",
              "      <td>0.350649</td>\n",
              "      <td>1.0</td>\n",
              "      <td>0.333333</td>\n",
              "      <td>0.130</td>\n",
              "      <td>0.195035</td>\n",
              "      <td>0.0</td>\n",
              "      <td>0.5</td>\n",
              "      <td>0.529703</td>\n",
              "      <td>0.0</td>\n",
              "      <td>0.129032</td>\n",
              "      <td>1.0</td>\n",
              "      <td>0.0</td>\n",
              "      <td>0.666667</td>\n",
              "    </tr>\n",
              "    <tr>\n",
              "      <th>4</th>\n",
              "      <td>0.363636</td>\n",
              "      <td>0.0</td>\n",
              "      <td>0.000000</td>\n",
              "      <td>0.130</td>\n",
              "      <td>0.404255</td>\n",
              "      <td>0.0</td>\n",
              "      <td>0.5</td>\n",
              "      <td>0.455446</td>\n",
              "      <td>1.0</td>\n",
              "      <td>0.096774</td>\n",
              "      <td>1.0</td>\n",
              "      <td>0.0</td>\n",
              "      <td>0.666667</td>\n",
              "    </tr>\n",
              "  </tbody>\n",
              "</table>\n",
              "</div>"
            ],
            "text/plain": [
              "        age  sex        cp  trestbps  ...   oldpeak  slope   ca      thal\n",
              "0  0.441558  1.0  1.000000     0.255  ...  0.370968    0.0  0.0  0.333333\n",
              "1  0.103896  1.0  0.666667     0.180  ...  0.564516    0.0  0.0  0.666667\n",
              "2  0.155844  0.0  0.333333     0.180  ...  0.225806    1.0  0.0  0.666667\n",
              "3  0.350649  1.0  0.333333     0.130  ...  0.129032    1.0  0.0  0.666667\n",
              "4  0.363636  0.0  0.000000     0.130  ...  0.096774    1.0  0.0  0.666667\n",
              "\n",
              "[5 rows x 13 columns]"
            ]
          },
          "metadata": {
            "tags": []
          },
          "execution_count": 8
        }
      ]
    },
    {
      "cell_type": "markdown",
      "metadata": {
        "id": "til1ft6RvDl-"
      },
      "source": [
        "#Separação train / test"
      ]
    },
    {
      "cell_type": "code",
      "metadata": {
        "id": "YQRN5dLQvD2C",
        "outputId": "b3e1859f-e4d7-4aca-b74f-c301c30e02bc",
        "colab": {
          "base_uri": "https://localhost:8080/",
          "height": 49
        }
      },
      "source": [
        "X_train, X_test, Y_train, Y_test = train_test_split(X_norm, Y, test_size=0.3, random_state=42)\n",
        "print ('Train set:', X_train.shape,  Y_train.shape)\n",
        "print ('Test set:', X_test.shape,  Y_test.shape)"
      ],
      "execution_count": null,
      "outputs": [
        {
          "output_type": "stream",
          "text": [
            "Train set: (212, 13) (212, 1)\n",
            "Test set: (91, 13) (91, 1)\n"
          ],
          "name": "stdout"
        }
      ]
    },
    {
      "cell_type": "markdown",
      "metadata": {
        "id": "_4Z3H5SGzC9B"
      },
      "source": [
        "#Classificadores"
      ]
    },
    {
      "cell_type": "code",
      "metadata": {
        "id": "U0vGnKW6F7RE"
      },
      "source": [
        "#Preparatin to confusion matrix an others \n",
        "group_names = [\"True Negative\",\"False Positive\",\"False Negative\",\"True Positive\"]\n",
        "columns_final_report = [\"Model\",\"Accuracy\",\"Precision\",\"Recall\",\"Training Time(s)\",\"Pred Time(s)\"]\n",
        "final_report = []"
      ],
      "execution_count": null,
      "outputs": []
    },
    {
      "cell_type": "markdown",
      "metadata": {
        "id": "qwRa2r_ivrrS"
      },
      "source": [
        "#KNN"
      ]
    },
    {
      "cell_type": "code",
      "metadata": {
        "id": "EIRccibxvfgj",
        "outputId": "25dd34dc-7ab5-4037-b541-ec565099e881",
        "colab": {
          "base_uri": "https://localhost:8080/",
          "height": 69
        }
      },
      "source": [
        "#TRAIN\n",
        "start = timer()\n",
        "knn_trained = KNeighborsClassifier(n_neighbors = 5).fit(X_train,Y_train)\n",
        "end = timer()\n",
        "\n",
        "train_time_knn = end-start"
      ],
      "execution_count": null,
      "outputs": [
        {
          "output_type": "stream",
          "text": [
            "/usr/local/lib/python3.6/dist-packages/ipykernel_launcher.py:3: DataConversionWarning: A column-vector y was passed when a 1d array was expected. Please change the shape of y to (n_samples, ), for example using ravel().\n",
            "  This is separate from the ipykernel package so we can avoid doing imports until\n"
          ],
          "name": "stderr"
        }
      ]
    },
    {
      "cell_type": "code",
      "metadata": {
        "id": "uwnq-JZzKobS"
      },
      "source": [
        "#PRED\n",
        "start = timer()\n",
        "Y_predKnn = knn_trained.predict(X_test)\n",
        "end = timer() \n",
        "\n",
        "pred_time_knn = end-start"
      ],
      "execution_count": null,
      "outputs": []
    },
    {
      "cell_type": "code",
      "metadata": {
        "id": "FSQITdAtLAxj"
      },
      "source": [
        "#ACCURACY / PRECISION / RECALL\n",
        "accuracy_knn = metrics.accuracy_score(Y_test, Y_predKnn)\n",
        "precision_knn = metrics.precision_score(Y_test, Y_predKnn) \n",
        "recall_knn = metrics.recall_score(Y_test, Y_predKnn)\n",
        "\n",
        "final_report.append([\"KNN\",accuracy_knn,precision_knn,recall_knn,train_time_knn,pred_time_knn])"
      ],
      "execution_count": null,
      "outputs": []
    },
    {
      "cell_type": "markdown",
      "metadata": {
        "id": "RravGhQv42_Q"
      },
      "source": [
        "##Classification Report"
      ]
    },
    {
      "cell_type": "code",
      "metadata": {
        "id": "j4cPPXoB49Pj",
        "outputId": "748ad7d0-24fa-472a-9480-436ad6c748a7",
        "colab": {
          "base_uri": "https://localhost:8080/",
          "height": 164
        }
      },
      "source": [
        "print(classification_report(Y_test, Y_predKnn))"
      ],
      "execution_count": null,
      "outputs": [
        {
          "output_type": "stream",
          "text": [
            "              precision    recall  f1-score   support\n",
            "\n",
            "           0       0.72      0.80      0.76        41\n",
            "           1       0.82      0.74      0.78        50\n",
            "\n",
            "    accuracy                           0.77        91\n",
            "   macro avg       0.77      0.77      0.77        91\n",
            "weighted avg       0.77      0.77      0.77        91\n",
            "\n"
          ],
          "name": "stdout"
        }
      ]
    },
    {
      "cell_type": "markdown",
      "metadata": {
        "id": "AgJjg_DZHUfc"
      },
      "source": [
        "##Confusion Matrix"
      ]
    },
    {
      "cell_type": "code",
      "metadata": {
        "id": "UrvK8ALREReh",
        "outputId": "aa33ac87-c8da-43d6-d15b-4d90f1a1f17f",
        "colab": {
          "base_uri": "https://localhost:8080/",
          "height": 281
        }
      },
      "source": [
        "#CONFUSION MATRIX\n",
        "cf_matrix_knn = metrics.confusion_matrix(Y_test, Y_predKnn)\n",
        "\n",
        "group_counts = [\"{0:0.0f}\".format(value) for value in\n",
        "                cf_matrix_knn.flatten()]\n",
        "group_percentages = [\"{0:.2%}\".format(value) for value in\n",
        "                     cf_matrix_knn.flatten()/np.sum(cf_matrix_knn)]\n",
        "labels = [f\"{v1}\\n{v2}\\n{v3}\" for v1, v2, v3 in\n",
        "          zip(group_names,group_counts,group_percentages)]\n",
        "labels = np.asarray(labels).reshape(2,2)\n",
        "sns.heatmap(cf_matrix_knn, annot=labels, fmt='', cmap='Blues')"
      ],
      "execution_count": null,
      "outputs": [
        {
          "output_type": "execute_result",
          "data": {
            "text/plain": [
              "<matplotlib.axes._subplots.AxesSubplot at 0x7f248f03c860>"
            ]
          },
          "metadata": {
            "tags": []
          },
          "execution_count": 16
        },
        {
          "output_type": "display_data",
          "data": {
            "image/png": "[encoded data removed]",
            "text/plain": [
              "<Figure size 432x288 with 2 Axes>"
            ]
          },
          "metadata": {
            "tags": [],
            "needs_background": "light"
          }
        }
      ]
    },
    {
      "cell_type": "markdown",
      "metadata": {
        "id": "K1wN474KvssM"
      },
      "source": [
        "#SVM"
      ]
    },
    {
      "cell_type": "code",
      "metadata": {
        "id": "BnCcml_VvzkO",
        "outputId": "b539c043-48d3-440f-ee93-17e5819ecbdb",
        "colab": {
          "base_uri": "https://localhost:8080/",
          "height": 69
        }
      },
      "source": [
        "#TRAIN\n",
        "start = timer()\n",
        "svm_trained = SVC(gamma=2, C=1).fit(X_train,Y_train)\n",
        "end = timer()\n",
        "\n",
        "train_time_svm = end-start"
      ],
      "execution_count": null,
      "outputs": [
        {
          "output_type": "stream",
          "text": [
            "/usr/local/lib/python3.6/dist-packages/sklearn/utils/validation.py:760: DataConversionWarning: A column-vector y was passed when a 1d array was expected. Please change the shape of y to (n_samples, ), for example using ravel().\n",
            "  y = column_or_1d(y, warn=True)\n"
          ],
          "name": "stderr"
        }
      ]
    },
    {
      "cell_type": "code",
      "metadata": {
        "id": "Y5Hsj32kptdp"
      },
      "source": [
        "#PRED\n",
        "start = timer()\n",
        "Y_predSvm = svm_trained.predict(X_test)\n",
        "end = timer() \n",
        "\n",
        "pred_time_svm = end-start"
      ],
      "execution_count": null,
      "outputs": []
    },
    {
      "cell_type": "code",
      "metadata": {
        "id": "CdsFHGORp9nP"
      },
      "source": [
        "#ACCURACY / PRECISION / RECALL\n",
        "accuracy_svm = metrics.accuracy_score(Y_test, Y_predSvm)\n",
        "precision_svm = metrics.precision_score(Y_test, Y_predSvm) \n",
        "recall_svm = metrics.recall_score(Y_test, Y_predSvm)\n",
        "\n",
        "final_report.append([\"SVM\",accuracy_svm,precision_svm,recall_svm,train_time_svm,pred_time_svm])"
      ],
      "execution_count": null,
      "outputs": []
    },
    {
      "cell_type": "markdown",
      "metadata": {
        "id": "yJS-GI3N4ovK"
      },
      "source": [
        "##Classification Report"
      ]
    },
    {
      "cell_type": "code",
      "metadata": {
        "id": "Ftp4a-Cw3bk5",
        "outputId": "4627bd44-9631-4d58-ccd4-392d7427b93b",
        "colab": {
          "base_uri": "https://localhost:8080/",
          "height": 164
        }
      },
      "source": [
        "print(classification_report(Y_test, Y_predSvm))"
      ],
      "execution_count": null,
      "outputs": [
        {
          "output_type": "stream",
          "text": [
            "              precision    recall  f1-score   support\n",
            "\n",
            "           0       0.76      0.83      0.79        41\n",
            "           1       0.85      0.78      0.81        50\n",
            "\n",
            "    accuracy                           0.80        91\n",
            "   macro avg       0.80      0.80      0.80        91\n",
            "weighted avg       0.81      0.80      0.80        91\n",
            "\n"
          ],
          "name": "stdout"
        }
      ]
    },
    {
      "cell_type": "markdown",
      "metadata": {
        "id": "JsVQubRRqPdx"
      },
      "source": [
        "##Confusion Matrix"
      ]
    },
    {
      "cell_type": "code",
      "metadata": {
        "id": "Ifx_BCm2qVZ-",
        "outputId": "4c615e4a-ef88-485c-f68b-b19612402607",
        "colab": {
          "base_uri": "https://localhost:8080/",
          "height": 281
        }
      },
      "source": [
        "#CONFUSION MATRIX\n",
        "cf_matrix_svm = metrics.confusion_matrix(Y_test, Y_predSvm)\n",
        "\n",
        "group_counts = [\"{0:0.0f}\".format(value) for value in\n",
        "                cf_matrix_svm.flatten()]\n",
        "group_percentages = [\"{0:.2%}\".format(value) for value in\n",
        "                     cf_matrix_svm.flatten()/np.sum(cf_matrix_svm)]\n",
        "labels = [f\"{v1}\\n{v2}\\n{v3}\" for v1, v2, v3 in\n",
        "          zip(group_names,group_counts,group_percentages)]\n",
        "labels = np.asarray(labels).reshape(2,2)\n",
        "sns.heatmap(cf_matrix_svm, annot=labels, fmt='', cmap='Blues')"
      ],
      "execution_count": null,
      "outputs": [
        {
          "output_type": "execute_result",
          "data": {
            "text/plain": [
              "<matplotlib.axes._subplots.AxesSubplot at 0x7f248c743240>"
            ]
          },
          "metadata": {
            "tags": []
          },
          "execution_count": 21
        },
        {
          "output_type": "display_data",
          "data": {
            "image/png": "[encoded data removed]",
            "text/plain": [
              "<Figure size 432x288 with 2 Axes>"
            ]
          },
          "metadata": {
            "tags": [],
            "needs_background": "light"
          }
        }
      ]
    },
    {
      "cell_type": "markdown",
      "metadata": {
        "id": "dit5zeRJv1_L"
      },
      "source": [
        "#Random Forest"
      ]
    },
    {
      "cell_type": "code",
      "metadata": {
        "id": "26WAPtCbv4NW",
        "outputId": "da56e43f-b5b2-44e1-8b89-07296c0c1039",
        "colab": {
          "base_uri": "https://localhost:8080/",
          "height": 69
        }
      },
      "source": [
        "#TRAIN\n",
        "start = timer()\n",
        "rf_trained = RandomForestClassifier(max_depth=5, n_estimators=10).fit(X_train,Y_train)\n",
        "end = timer()\n",
        "\n",
        "train_time_rf = end-start"
      ],
      "execution_count": null,
      "outputs": [
        {
          "output_type": "stream",
          "text": [
            "/usr/local/lib/python3.6/dist-packages/ipykernel_launcher.py:3: DataConversionWarning: A column-vector y was passed when a 1d array was expected. Please change the shape of y to (n_samples,), for example using ravel().\n",
            "  This is separate from the ipykernel package so we can avoid doing imports until\n"
          ],
          "name": "stderr"
        }
      ]
    },
    {
      "cell_type": "code",
      "metadata": {
        "id": "yl4ikeqIrlj7"
      },
      "source": [
        "#PRED\n",
        "start = timer()\n",
        "Y_predRf = rf_trained.predict(X_test)\n",
        "end = timer() \n",
        "\n",
        "pred_time_rf = end-start"
      ],
      "execution_count": null,
      "outputs": []
    },
    {
      "cell_type": "code",
      "metadata": {
        "id": "KclHGQVarkal"
      },
      "source": [
        "#ACCURACY / PRECISION / RECALL\n",
        "accuracy_rf = metrics.accuracy_score(Y_test, Y_predRf)\n",
        "precision_rf = metrics.precision_score(Y_test, Y_predRf) \n",
        "recall_rf = metrics.recall_score(Y_test, Y_predRf)\n",
        "\n",
        "final_report.append([\"Random Forest\",accuracy_rf,precision_rf,recall_rf,train_time_rf,pred_time_rf])"
      ],
      "execution_count": null,
      "outputs": []
    },
    {
      "cell_type": "markdown",
      "metadata": {
        "id": "cdXbc3AV5x3A"
      },
      "source": [
        "##Classification Report"
      ]
    },
    {
      "cell_type": "code",
      "metadata": {
        "id": "AuX-W2ce51N0",
        "outputId": "0f40c08b-a549-49c2-e8d9-eefe09c4ea2d",
        "colab": {
          "base_uri": "https://localhost:8080/",
          "height": 164
        }
      },
      "source": [
        "print(classification_report(Y_test, Y_predRf))"
      ],
      "execution_count": null,
      "outputs": [
        {
          "output_type": "stream",
          "text": [
            "              precision    recall  f1-score   support\n",
            "\n",
            "           0       0.80      0.80      0.80        41\n",
            "           1       0.84      0.84      0.84        50\n",
            "\n",
            "    accuracy                           0.82        91\n",
            "   macro avg       0.82      0.82      0.82        91\n",
            "weighted avg       0.82      0.82      0.82        91\n",
            "\n"
          ],
          "name": "stdout"
        }
      ]
    },
    {
      "cell_type": "markdown",
      "metadata": {
        "id": "Te9o8-B5rsER"
      },
      "source": [
        "##Confusion Matrix"
      ]
    },
    {
      "cell_type": "code",
      "metadata": {
        "id": "oHGxtwkcrkHe",
        "outputId": "76579845-52f3-4463-c89f-8e104b791624",
        "colab": {
          "base_uri": "https://localhost:8080/",
          "height": 281
        }
      },
      "source": [
        "#CONFUSION MATRIX\n",
        "cf_matrix_rf = metrics.confusion_matrix(Y_test, Y_predRf)\n",
        "\n",
        "group_counts = [\"{0:0.0f}\".format(value) for value in\n",
        "                cf_matrix_rf.flatten()]\n",
        "group_percentages = [\"{0:.2%}\".format(value) for value in\n",
        "                     cf_matrix_rf.flatten()/np.sum(cf_matrix_rf)]\n",
        "labels = [f\"{v1}\\n{v2}\\n{v3}\" for v1, v2, v3 in\n",
        "          zip(group_names,group_counts,group_percentages)]\n",
        "labels = np.asarray(labels).reshape(2,2)\n",
        "sns.heatmap(cf_matrix_rf, annot=labels, fmt='', cmap='Blues')"
      ],
      "execution_count": null,
      "outputs": [
        {
          "output_type": "execute_result",
          "data": {
            "text/plain": [
              "<matplotlib.axes._subplots.AxesSubplot at 0x7f248c22dba8>"
            ]
          },
          "metadata": {
            "tags": []
          },
          "execution_count": 26
        },
        {
          "output_type": "display_data",
          "data": {
            "image/png": "[encoded data removed]",
            "text/plain": [
              "<Figure size 432x288 with 2 Axes>"
            ]
          },
          "metadata": {
            "tags": [],
            "needs_background": "light"
          }
        }
      ]
    },
    {
      "cell_type": "markdown",
      "metadata": {
        "id": "OnS_FNwJv4yC"
      },
      "source": [
        "#MLP - Rede neural"
      ]
    },
    {
      "cell_type": "code",
      "metadata": {
        "id": "kSuW2HXKv90e",
        "outputId": "f9031454-1b19-42fe-ed09-41125ff61e67",
        "colab": {
          "base_uri": "https://localhost:8080/",
          "height": 69
        }
      },
      "source": [
        "#TRAIN\n",
        "start = timer()\n",
        "mlp_trained = MLPClassifier(hidden_layer_sizes=(32, 32), max_iter=50000, batch_size=64, alpha=1e-1).fit(X_train,Y_train)\n",
        "end = timer()\n",
        "\n",
        "train_time_mlp = end-start"
      ],
      "execution_count": null,
      "outputs": [
        {
          "output_type": "stream",
          "text": [
            "/usr/local/lib/python3.6/dist-packages/sklearn/neural_network/_multilayer_perceptron.py:934: DataConversionWarning: A column-vector y was passed when a 1d array was expected. Please change the shape of y to (n_samples, ), for example using ravel().\n",
            "  y = column_or_1d(y, warn=True)\n"
          ],
          "name": "stderr"
        }
      ]
    },
    {
      "cell_type": "code",
      "metadata": {
        "id": "rOuCRMDRswkP"
      },
      "source": [
        "#PRED\n",
        "start = timer()\n",
        "Y_predMlp = mlp_trained.predict(X_test)\n",
        "end = timer() \n",
        "\n",
        "pred_time_mlp = end-start"
      ],
      "execution_count": null,
      "outputs": []
    },
    {
      "cell_type": "code",
      "metadata": {
        "id": "0FKtE0yksw-J"
      },
      "source": [
        "#ACCURACY / PRECISION / RECALL\n",
        "accuracy_mlp = metrics.accuracy_score(Y_test, Y_predMlp)\n",
        "precision_mlp = metrics.precision_score(Y_test, Y_predMlp) \n",
        "recall_mlp = metrics.recall_score(Y_test, Y_predMlp)\n",
        "\n",
        "final_report.append([\"MLP\",accuracy_mlp,precision_mlp,recall_mlp,train_time_mlp,pred_time_mlp])"
      ],
      "execution_count": null,
      "outputs": []
    },
    {
      "cell_type": "markdown",
      "metadata": {
        "id": "B_xmnV6U57Bo"
      },
      "source": [
        "##Classification Report"
      ]
    },
    {
      "cell_type": "code",
      "metadata": {
        "id": "paefhlox579c",
        "outputId": "d9a443f1-45f0-4580-9991-122a6100cc8e",
        "colab": {
          "base_uri": "https://localhost:8080/",
          "height": 164
        }
      },
      "source": [
        "print(classification_report(Y_test, Y_predMlp))"
      ],
      "execution_count": null,
      "outputs": [
        {
          "output_type": "stream",
          "text": [
            "              precision    recall  f1-score   support\n",
            "\n",
            "           0       0.77      0.80      0.79        41\n",
            "           1       0.83      0.80      0.82        50\n",
            "\n",
            "    accuracy                           0.80        91\n",
            "   macro avg       0.80      0.80      0.80        91\n",
            "weighted avg       0.80      0.80      0.80        91\n",
            "\n"
          ],
          "name": "stdout"
        }
      ]
    },
    {
      "cell_type": "markdown",
      "metadata": {
        "id": "QSIJE2ZpsydO"
      },
      "source": [
        "##Confusion Matrix"
      ]
    },
    {
      "cell_type": "code",
      "metadata": {
        "id": "_enJHu_ps1qW",
        "outputId": "8655662b-9072-4bbc-a4e3-0d21b39eb2fa",
        "colab": {
          "base_uri": "https://localhost:8080/",
          "height": 285
        }
      },
      "source": [
        "#CONFUSION MATRIX\n",
        "cf_matrix_mlp = metrics.confusion_matrix(Y_test, Y_predMlp)\n",
        "\n",
        "group_counts = [\"{0:0.0f}\".format(value) for value in\n",
        "                cf_matrix_mlp.flatten()]\n",
        "group_percentages = [\"{0:.2%}\".format(value) for value in\n",
        "                     cf_matrix_mlp.flatten()/np.sum(cf_matrix_mlp)]\n",
        "labels = [f\"{v1}\\n{v2}\\n{v3}\" for v1, v2, v3 in\n",
        "          zip(group_names,group_counts,group_percentages)]\n",
        "labels = np.asarray(labels).reshape(2,2)\n",
        "sns.heatmap(cf_matrix_mlp, annot=labels, fmt='', cmap='Blues')"
      ],
      "execution_count": null,
      "outputs": [
        {
          "output_type": "execute_result",
          "data": {
            "text/plain": [
              "<matplotlib.axes._subplots.AxesSubplot at 0x7f24902b7c18>"
            ]
          },
          "metadata": {
            "tags": []
          },
          "execution_count": 31
        },
        {
          "output_type": "display_data",
          "data": {
            "image/png": "[encoded data removed]",
            "text/plain": [
              "<Figure size 432x288 with 2 Axes>"
            ]
          },
          "metadata": {
            "tags": [],
            "needs_background": "light"
          }
        }
      ]
    },
    {
      "cell_type": "markdown",
      "metadata": {
        "id": "0tG83U0Dv-Rz"
      },
      "source": [
        "#Gradient boosting"
      ]
    },
    {
      "cell_type": "code",
      "metadata": {
        "id": "tStG6Rw7wAAL",
        "outputId": "e5c3a145-e0fa-4073-e10b-cce767e05c59",
        "colab": {
          "base_uri": "https://localhost:8080/",
          "height": 69
        }
      },
      "source": [
        "#TRAIN\n",
        "start = timer()\n",
        "gb_trained = GradientBoostingClassifier(n_estimators=10).fit(X_train,Y_train)\n",
        "end = timer()\n",
        "\n",
        "train_time_gb = end-start"
      ],
      "execution_count": null,
      "outputs": [
        {
          "output_type": "stream",
          "text": [
            "/usr/local/lib/python3.6/dist-packages/sklearn/ensemble/_gb.py:1454: DataConversionWarning: A column-vector y was passed when a 1d array was expected. Please change the shape of y to (n_samples, ), for example using ravel().\n",
            "  y = column_or_1d(y, warn=True)\n"
          ],
          "name": "stderr"
        }
      ]
    },
    {
      "cell_type": "code",
      "metadata": {
        "id": "UdxMQ31Ft3RK"
      },
      "source": [
        "#PRED\n",
        "start = timer()\n",
        "Y_predGb = gb_trained.predict(X_test)\n",
        "end = timer() \n",
        "\n",
        "pred_time_gb = end-start"
      ],
      "execution_count": null,
      "outputs": []
    },
    {
      "cell_type": "code",
      "metadata": {
        "id": "uoHDZ2QLt20T"
      },
      "source": [
        "#ACCURACY / PRECISION / RECALL\n",
        "accuracy_gb = metrics.accuracy_score(Y_test, Y_predGb)\n",
        "precision_gb = metrics.precision_score(Y_test, Y_predGb) \n",
        "recall_gb = metrics.recall_score(Y_test, Y_predGb)\n",
        "\n",
        "final_report.append([\"Gradient Boosting\",accuracy_gb,precision_gb,recall_gb,train_time_gb,pred_time_gb])"
      ],
      "execution_count": null,
      "outputs": []
    },
    {
      "cell_type": "markdown",
      "metadata": {
        "id": "awKIK6E66EDd"
      },
      "source": [
        "##Classification Report"
      ]
    },
    {
      "cell_type": "code",
      "metadata": {
        "id": "hnmlyQWP6HGs",
        "outputId": "2b41fae3-af2a-4646-de6d-501f9b728857",
        "colab": {
          "base_uri": "https://localhost:8080/",
          "height": 164
        }
      },
      "source": [
        "print(classification_report(Y_test, Y_predGb))"
      ],
      "execution_count": null,
      "outputs": [
        {
          "output_type": "stream",
          "text": [
            "              precision    recall  f1-score   support\n",
            "\n",
            "           0       0.79      0.80      0.80        41\n",
            "           1       0.84      0.82      0.83        50\n",
            "\n",
            "    accuracy                           0.81        91\n",
            "   macro avg       0.81      0.81      0.81        91\n",
            "weighted avg       0.81      0.81      0.81        91\n",
            "\n"
          ],
          "name": "stdout"
        }
      ]
    },
    {
      "cell_type": "markdown",
      "metadata": {
        "id": "Rrs1kgHKt4FI"
      },
      "source": [
        "##Confusion Matrix"
      ]
    },
    {
      "cell_type": "code",
      "metadata": {
        "id": "EMO8w7XKt6rX",
        "outputId": "4e83581e-f073-4bfb-fb1a-08fe66801d75",
        "colab": {
          "base_uri": "https://localhost:8080/",
          "height": 281
        }
      },
      "source": [
        "#CONFUSION MATRIX\n",
        "cf_matrix_gb = metrics.confusion_matrix(Y_test, Y_predGb)\n",
        "\n",
        "group_counts = [\"{0:0.0f}\".format(value) for value in\n",
        "                cf_matrix_gb.flatten()]\n",
        "group_percentages = [\"{0:.2%}\".format(value) for value in\n",
        "                     cf_matrix_gb.flatten()/np.sum(cf_matrix_gb)]\n",
        "labels = [f\"{v1}\\n{v2}\\n{v3}\" for v1, v2, v3 in\n",
        "          zip(group_names,group_counts,group_percentages)]\n",
        "labels = np.asarray(labels).reshape(2,2)\n",
        "sns.heatmap(cf_matrix_gb, annot=labels, fmt='', cmap='Blues')"
      ],
      "execution_count": null,
      "outputs": [
        {
          "output_type": "execute_result",
          "data": {
            "text/plain": [
              "<matplotlib.axes._subplots.AxesSubplot at 0x7f248c10dda0>"
            ]
          },
          "metadata": {
            "tags": []
          },
          "execution_count": 36
        },
        {
          "output_type": "display_data",
          "data": {
            "image/png": "[encoded data removed]",
            "text/plain": [
              "<Figure size 432x288 with 2 Axes>"
            ]
          },
          "metadata": {
            "tags": [],
            "needs_background": "light"
          }
        }
      ]
    },
    {
      "cell_type": "markdown",
      "metadata": {
        "id": "4jejIC8VwAwf"
      },
      "source": [
        "#XGBoost"
      ]
    },
    {
      "cell_type": "code",
      "metadata": {
        "id": "zOLItkY2wCP8",
        "outputId": "31aaa8b8-c609-49e2-e73a-8fb96c2f206e",
        "colab": {
          "base_uri": "https://localhost:8080/",
          "height": 102
        }
      },
      "source": [
        "#TRAIN\n",
        "start = timer()\n",
        "xgb_trained = XGBClassifier(n_estimators=100,reg_lambda=1,gamma=0,max_depth=3).fit(X_train,Y_train)\n",
        "end = timer()\n",
        "\n",
        "train_time_xgb = end-start"
      ],
      "execution_count": null,
      "outputs": [
        {
          "output_type": "stream",
          "text": [
            "/usr/local/lib/python3.6/dist-packages/sklearn/preprocessing/_label.py:235: DataConversionWarning: A column-vector y was passed when a 1d array was expected. Please change the shape of y to (n_samples, ), for example using ravel().\n",
            "  y = column_or_1d(y, warn=True)\n",
            "/usr/local/lib/python3.6/dist-packages/sklearn/preprocessing/_label.py:268: DataConversionWarning: A column-vector y was passed when a 1d array was expected. Please change the shape of y to (n_samples, ), for example using ravel().\n",
            "  y = column_or_1d(y, warn=True)\n"
          ],
          "name": "stderr"
        }
      ]
    },
    {
      "cell_type": "code",
      "metadata": {
        "id": "KHnsFSbsuAv3"
      },
      "source": [
        "#PRED\n",
        "start = timer()\n",
        "Y_predXGb = xgb_trained.predict(X_test)\n",
        "end = timer() \n",
        "\n",
        "pred_time_xgb = end-start"
      ],
      "execution_count": null,
      "outputs": []
    },
    {
      "cell_type": "code",
      "metadata": {
        "id": "vePQJfUPuAbZ"
      },
      "source": [
        "#ACCURACY / PRECISION / RECALL\n",
        "accuracy_xgb = metrics.accuracy_score(Y_test, Y_predXGb)\n",
        "precision_xgb = metrics.precision_score(Y_test, Y_predXGb) \n",
        "recall_xgb = metrics.recall_score(Y_test, Y_predXGb)\n",
        "\n",
        "final_report.append([\"XGBoost\",accuracy_xgb,precision_xgb,recall_xgb,train_time_xgb,pred_time_xgb])"
      ],
      "execution_count": null,
      "outputs": []
    },
    {
      "cell_type": "markdown",
      "metadata": {
        "id": "GvvhazLf6NH4"
      },
      "source": [
        "##Classification Report"
      ]
    },
    {
      "cell_type": "code",
      "metadata": {
        "id": "Gs-iOZNu6OJB",
        "outputId": "0c6695a1-b13e-4c71-f056-10e7c690fe7f",
        "colab": {
          "base_uri": "https://localhost:8080/",
          "height": 164
        }
      },
      "source": [
        "print(classification_report(Y_test, Y_predXGb))"
      ],
      "execution_count": null,
      "outputs": [
        {
          "output_type": "stream",
          "text": [
            "              precision    recall  f1-score   support\n",
            "\n",
            "           0       0.81      0.85      0.83        41\n",
            "           1       0.88      0.84      0.86        50\n",
            "\n",
            "    accuracy                           0.85        91\n",
            "   macro avg       0.84      0.85      0.85        91\n",
            "weighted avg       0.85      0.85      0.85        91\n",
            "\n"
          ],
          "name": "stdout"
        }
      ]
    },
    {
      "cell_type": "markdown",
      "metadata": {
        "id": "GB8TQ71euBhz"
      },
      "source": [
        "##Confusion Matrix"
      ]
    },
    {
      "cell_type": "code",
      "metadata": {
        "id": "RRw9XAZ5v1QN",
        "outputId": "f4ba4d6a-66df-448d-b4b1-89fba86c9d20",
        "colab": {
          "base_uri": "https://localhost:8080/",
          "height": 281
        }
      },
      "source": [
        "#CONFUSION MATRIX\n",
        "cf_matrix_xgb = metrics.confusion_matrix(Y_test, Y_predXGb)\n",
        "\n",
        "group_counts = [\"{0:0.0f}\".format(value) for value in\n",
        "                cf_matrix_xgb.flatten()]\n",
        "group_percentages = [\"{0:.2%}\".format(value) for value in\n",
        "                     cf_matrix_xgb.flatten()/np.sum(cf_matrix_xgb)]\n",
        "labels = [f\"{v1}\\n{v2}\\n{v3}\" for v1, v2, v3 in\n",
        "          zip(group_names,group_counts,group_percentages)]\n",
        "labels = np.asarray(labels).reshape(2,2)\n",
        "sns.heatmap(cf_matrix_xgb, annot=labels, fmt='', cmap='Blues')"
      ],
      "execution_count": null,
      "outputs": [
        {
          "output_type": "execute_result",
          "data": {
            "text/plain": [
              "<matplotlib.axes._subplots.AxesSubplot at 0x7f248c21dcf8>"
            ]
          },
          "metadata": {
            "tags": []
          },
          "execution_count": 41
        },
        {
          "output_type": "display_data",
          "data": {
            "image/png": "[encoded data removed]",
            "text/plain": [
              "<Figure size 432x288 with 2 Axes>"
            ]
          },
          "metadata": {
            "tags": [],
            "needs_background": "light"
          }
        }
      ]
    },
    {
      "cell_type": "markdown",
      "metadata": {
        "id": "GKnIFkeuNVQw"
      },
      "source": [
        "#Tabela comparativa modelos"
      ]
    },
    {
      "cell_type": "code",
      "metadata": {
        "id": "ZKg4X5FSNYMN",
        "outputId": "64d95875-9706-4241-d27b-c978a7503b90",
        "colab": {
          "base_uri": "https://localhost:8080/",
          "height": 225
        }
      },
      "source": [
        "report = pd.DataFrame(final_report, columns=columns_final_report)\n",
        "report"
      ],
      "execution_count": null,
      "outputs": [
        {
          "output_type": "execute_result",
          "data": {
            "text/html": [
              "<div>\n",
              "<style scoped>\n",
              "    .dataframe tbody tr th:only-of-type {\n",
              "        vertical-align: middle;\n",
              "    }\n",
              "\n",
              "    .dataframe tbody tr th {\n",
              "        vertical-align: top;\n",
              "    }\n",
              "\n",
              "    .dataframe thead th {\n",
              "        text-align: right;\n",
              "    }\n",
              "</style>\n",
              "<table border=\"1\" class=\"dataframe\">\n",
              "  <thead>\n",
              "    <tr style=\"text-align: right;\">\n",
              "      <th></th>\n",
              "      <th>Model</th>\n",
              "      <th>Accuracy</th>\n",
              "      <th>Precision</th>\n",
              "      <th>Recall</th>\n",
              "      <th>Training Time(s)</th>\n",
              "      <th>Pred Time(s)</th>\n",
              "    </tr>\n",
              "  </thead>\n",
              "  <tbody>\n",
              "    <tr>\n",
              "      <th>0</th>\n",
              "      <td>KNN</td>\n",
              "      <td>0.769231</td>\n",
              "      <td>0.822222</td>\n",
              "      <td>0.74</td>\n",
              "      <td>0.004613</td>\n",
              "      <td>0.009435</td>\n",
              "    </tr>\n",
              "    <tr>\n",
              "      <th>1</th>\n",
              "      <td>SVM</td>\n",
              "      <td>0.802198</td>\n",
              "      <td>0.847826</td>\n",
              "      <td>0.78</td>\n",
              "      <td>0.006565</td>\n",
              "      <td>0.003119</td>\n",
              "    </tr>\n",
              "    <tr>\n",
              "      <th>2</th>\n",
              "      <td>Random Forest</td>\n",
              "      <td>0.824176</td>\n",
              "      <td>0.840000</td>\n",
              "      <td>0.84</td>\n",
              "      <td>0.022092</td>\n",
              "      <td>0.004090</td>\n",
              "    </tr>\n",
              "    <tr>\n",
              "      <th>3</th>\n",
              "      <td>MLP</td>\n",
              "      <td>0.802198</td>\n",
              "      <td>0.833333</td>\n",
              "      <td>0.80</td>\n",
              "      <td>1.546870</td>\n",
              "      <td>0.002058</td>\n",
              "    </tr>\n",
              "    <tr>\n",
              "      <th>4</th>\n",
              "      <td>Gradient Boosting</td>\n",
              "      <td>0.813187</td>\n",
              "      <td>0.836735</td>\n",
              "      <td>0.82</td>\n",
              "      <td>0.013984</td>\n",
              "      <td>0.002228</td>\n",
              "    </tr>\n",
              "    <tr>\n",
              "      <th>5</th>\n",
              "      <td>XGBoost</td>\n",
              "      <td>0.846154</td>\n",
              "      <td>0.875000</td>\n",
              "      <td>0.84</td>\n",
              "      <td>0.036131</td>\n",
              "      <td>0.002830</td>\n",
              "    </tr>\n",
              "  </tbody>\n",
              "</table>\n",
              "</div>"
            ],
            "text/plain": [
              "               Model  Accuracy  ...  Training Time(s)  Pred Time(s)\n",
              "0                KNN  0.769231  ...          0.004613      0.009435\n",
              "1                SVM  0.802198  ...          0.006565      0.003119\n",
              "2      Random Forest  0.824176  ...          0.022092      0.004090\n",
              "3                MLP  0.802198  ...          1.546870      0.002058\n",
              "4  Gradient Boosting  0.813187  ...          0.013984      0.002228\n",
              "5            XGBoost  0.846154  ...          0.036131      0.002830\n",
              "\n",
              "[6 rows x 6 columns]"
            ]
          },
          "metadata": {
            "tags": []
          },
          "execution_count": 42
        }
      ]
    },
    {
      "cell_type": "markdown",
      "metadata": {
        "id": "CoLLEBT3Cp8L"
      },
      "source": [
        "#Parágrafos explicativos\n"
      ]
    },
    {
      "cell_type": "markdown",
      "metadata": {
        "id": "DMprL2hNzeP3"
      },
      "source": [
        "##Conceitos"
      ]
    },
    {
      "cell_type": "markdown",
      "metadata": {
        "id": "CO5mvMbCzrML"
      },
      "source": [
        "###Matriz de confusão\n",
        "A matriz de confusão é uma tabela que indica os erros e acertos do seu modelo, comparando com o resultado esperado e demonstra:\n",
        "* Verdadeiros Positivos: classificação correta da classe Positivo;\n",
        "* Falsos Negativos (Erro Tipo II): erro em que o modelo previu a classe Negativo quando o valor real era classe Positivo;\n",
        "* Falsos Positivos (Erro Tipo I): erro em que o modelo previu a classe Positivo quando o valor real era classe Negativo;\n",
        "* Verdadeiros Negativos: classificação correta da classe Negativo.\n",
        "\n"
      ]
    },
    {
      "cell_type": "markdown",
      "metadata": {
        "id": "4j669Nh50TTz"
      },
      "source": [
        "###Acurácia\n",
        "É uma boa indicação geral de como o modelo perfomou. Indica, dentre todas as classificações, quantas o modelo classificou corretamente, ou seja: (VP+VN)/(VP+VN+FP+FN)"
      ]
    },
    {
      "cell_type": "markdown",
      "metadata": {
        "id": "CxtrhvBu0V_t"
      },
      "source": [
        "###Precisão\n",
        "Indica, dentre todas as classificações de classe Positivo que o modelo fez, quantas estão corretas, ou seja, VP/(VP+FP). É muito importante em situações em que os Falsos Positivos são considerados mais prejudiciais que os Falsos Negativos."
      ]
    },
    {
      "cell_type": "markdown",
      "metadata": {
        "id": "TcgFHMUZ0VSr"
      },
      "source": [
        "###Recall\n",
        "Indica, dentre todas as situações de classe Positivo como valor esperado, quantas estão corretas, ou seja, VP/(VP+FN). É muito importante em situações em que os Falsos Negativos são considerados mais prejudiciais que os Falsos Positivos."
      ]
    },
    {
      "cell_type": "markdown",
      "metadata": {
        "id": "5zFXmzfK-Esa"
      },
      "source": [
        "##Relatório final\n",
        "O projeto consiste em usar classificadores para aprender a predizer se uma pessoa possui problemas cardíacos com base em um conjunto de informações sobre o paciente e sintomas existentes. Por conta do contexto, além da acurácia, o recall tem uma importância relevante, uma vez que a ocorrência de falsos negativos são prejudiciais para o paciente."
      ]
    },
    {
      "cell_type": "markdown",
      "metadata": {
        "id": "_psrYSJ5_XRl"
      },
      "source": [
        "Conforme tabela comparativa dos modelos tivemos com pior performance o KNN e com melhor performance o XGBoost, porém observando-se recall, verifica-se Random Forest obteve performance igual a do XGBoost."
      ]
    },
    {
      "cell_type": "markdown",
      "metadata": {
        "id": "EMyQCQPgALCW"
      },
      "source": [
        "Os tempos de treino foram semelhantes entre os modelos, exceto para o MLP que o fez em aproximadamente 1,5s, tempo bem maior que os demais modelos. Já para a predição os tempos foram muito pequenos para todos os modelos, tomando apenas algums milésimos de segundo para executá-la."
      ]
    }
  ]
}