{
  "nbformat": 4,
  "nbformat_minor": 0,
  "metadata": {
    "colab": {
      "name": "IA-w13-Rodrigo_Seidel-project-learning-problema1",
      "provenance": [],
      "collapsed_sections": [],
      "toc_visible": true,
      "include_colab_link": true
    },
    "kernelspec": {
      "name": "python3",
      "display_name": "Python 3"
    }
  },
  "cells": [
    {
      "cell_type": "markdown",
      "metadata": {
        "id": "view-in-github",
        "colab_type": "text"
      },
      "source": [
        "<a href=\"https://colab.research.google.com/github/rodseidel/mpca/blob/master/IA_w13_Rodrigo_Seidel_project_learning_problema1.ipynb\" target=\"_parent\"><img src=\"https://colab.research.google.com/assets/colab-badge.svg\" alt=\"Open In Colab\"/></a>"
      ]
    },
    {
      "cell_type": "markdown",
      "metadata": {
        "id": "p-wI5AtKxkRt"
      },
      "source": [
        "#Problema 1"
      ]
    },
    {
      "cell_type": "markdown",
      "metadata": {
        "id": "wMSaO9cWKZyB"
      },
      "source": [
        "O projeto consiste em usar o algoritmo de clusterização K-Means para agrupar imagens. Para isso, será utilizada a base de dados Yale Face que contém fotos de pessoas em diferentes expressões faciais.\n",
        "**Serão utilizadas as imagens das expressões \"happy\", \"normal\", \"sad\", \"sleepy\", and \"surprised\". As expressões das fotos estão descritas no final dos nomes dos arquivos.**\n",
        "A figura 1 traz exemplos das imagens da base. **Cada linha corresponde a um indivíduo e cada coluna uma expressão.**\n",
        "Note que as pessoas nem sempre estão no centro das imagens e que existe um grande espaço vazio ao redor dos rostos. Queremos agrupar as imagens considerando características dorosto, então **as imagens devem ser pré-processadas para remover o espaço vazio e centralizar as faces\n",
        "nas imagens**. As etapas de pré-processamento são descritas abaixo e na figura 2. A figura 3 ilustra imagens após o pré-processamento.\n",
        "1. O detector de faces da OpenCV deve ser usado para identificar um retângulo que define a posição da face na imagem. O retângulo retornado costuma ser mais largo e um pouco mais alto que as faces. Então, ele deve ser reduzido em 20% na esquerda, na direita e no topo.\n",
        "2. Equalização de histograma é utilizado para evitar que a iluminação e o tom de pele dos indivíduos sejam usados como critério predominante do agrupamento.\n",
        "3. Redução do tamanho da imagem (resize) para 50x50 para que reduzir o custo computacional.\n",
        "4. O algoritmo K-Means recebe como entrada vetores e não matrizes, então as imagens devem ser transformadas nesse formato.\n",
        "\n",
        "* **Após executar o algoritmo K-Means, o programa deve mostrar o número de faces e 5 faces aleatórias de cada cluster.** \n",
        "* **Adicione um parágrafo explicando como o algoritmo K-Means funciona, e outro descrevendo qual critério você acha que o algoritmo usou para agrupar as imagens.** Elas foram agrupadas por indivíduos? Por expressão facial? Ou por alguma característica da face? Dica: Tenha em mente que a distância entre as imagens é dada pela **raiz quadrada da soma da diferença entre as cores\n",
        "dos pixels elevada ao quadrado**."
      ]
    },
    {
      "cell_type": "markdown",
      "metadata": {
        "id": "Q8d7COyKMRWm"
      },
      "source": [
        "Recursos:\n",
        "* Base de dados Yale Face: http://vision.ucsd.edu/content/yale-face-database .\n",
        "* Documentação do Algoritmo K-Means na biblioteca scikit-learn:\n",
        "> * https://scikit-learn.org/stable/modules/generated/sklearn.cluster.KMeans.html\n",
        "> * https://scikit-learn.org/stable/auto_examples/cluster/plot_cluster_comparison.html\n",
        "* Processamento de Imagens\n",
        "> * Detecção de faces:\n",
        "https://towardsdatascience.com/face-detection-in-2-minutes-using-opencv-python-90f89d7c0f81 .\n",
        "Observação: o algoritmo retorna uma lista contendo as faces da imagem. Ele\n",
        "pode retornar mais de uma detecção mesmo que existe apenas uma face na\n",
        "imagem. Vocês devem escolher o retângulo de maior área na lista.\n",
        "> * Equalização de histograma (função cv2.equalizeHist):\n",
        "https://opencv-python-tutroals.readthedocs.io/en/latest/py_tutorials/py_imgproc/py_histograms/py_histogram_equalization/py_histogram_equalization.html.\n",
        "> * Transformação de matriz em vetor:\n",
        "https://numpy.org/doc/stable/reference/generated/numpy.reshape.html.\n",
        "* * Como ler as imagens do disco (provavelmente existe uma forma melhor de fazer isso):"
      ]
    },
    {
      "cell_type": "markdown",
      "metadata": {
        "id": "8yIb68zHTDm8"
      },
      "source": [
        "#Imports e download arquivos externos"
      ]
    },
    {
      "cell_type": "code",
      "metadata": {
        "id": "E9uoVn9vbSGi",
        "outputId": "d2e6777a-1fe2-45bf-e1dd-0d0d9f338674",
        "colab": {
          "base_uri": "https://localhost:8080/",
          "height": 49
        }
      },
      "source": [
        "pip install opencv-python"
      ],
      "execution_count": null,
      "outputs": [
        {
          "output_type": "stream",
          "text": [
            "Requirement already satisfied: opencv-python in /usr/local/lib/python3.6/dist-packages (4.1.2.30)\n",
            "Requirement already satisfied: numpy>=1.11.3 in /usr/local/lib/python3.6/dist-packages (from opencv-python) (1.18.5)\n"
          ],
          "name": "stdout"
        }
      ]
    },
    {
      "cell_type": "code",
      "metadata": {
        "id": "wrfybQp6TggI"
      },
      "source": [
        "import pandas as pd\n",
        "import cv2\n",
        "from google.colab.patches import cv2_imshow\n",
        "import os\n",
        "import zipfile\n",
        "import shutil\n",
        "import os\n",
        "import PIL\n",
        "import numpy as np\n",
        "from sklearn.cluster import KMeans\n",
        "import matplotlib.pyplot as plt"
      ],
      "execution_count": null,
      "outputs": []
    },
    {
      "cell_type": "code",
      "metadata": {
        "id": "a2tIpBzibz_H",
        "outputId": "4664d973-6dc3-4f67-e523-e23aaf6e1a89",
        "colab": {
          "base_uri": "https://localhost:8080/",
          "height": 217
        }
      },
      "source": [
        "#DOWNLOAD THE TRAINED CLASSIFIER XML FILE\n",
        "!wget https://raw.githubusercontent.com/opencv/opencv/master/data/haarcascades/haarcascade_frontalface_default.xml"
      ],
      "execution_count": null,
      "outputs": [
        {
          "output_type": "stream",
          "text": [
            "--2020-09-13 21:00:41--  https://raw.githubusercontent.com/opencv/opencv/master/data/haarcascades/haarcascade_frontalface_default.xml\n",
            "Resolving raw.githubusercontent.com (raw.githubusercontent.com)... 151.101.0.133, 151.101.64.133, 151.101.128.133, ...\n",
            "Connecting to raw.githubusercontent.com (raw.githubusercontent.com)|151.101.0.133|:443... connected.\n",
            "HTTP request sent, awaiting response... 200 OK\n",
            "Length: 930127 (908K) [text/plain]\n",
            "Saving to: ‘haarcascade_frontalface_default.xml.1’\n",
            "\n",
            "haarcascade_frontal 100%[===================>] 908.33K  --.-KB/s    in 0.06s   \n",
            "\n",
            "2020-09-13 21:00:42 (14.7 MB/s) - ‘haarcascade_frontalface_default.xml.1’ saved [930127/930127]\n",
            "\n"
          ],
          "name": "stdout"
        }
      ]
    },
    {
      "cell_type": "code",
      "metadata": {
        "id": "vmrUIfZUM0yq",
        "outputId": "e66ff21a-7b1f-41ba-cf03-bd74f666ec21",
        "colab": {
          "base_uri": "https://localhost:8080/",
          "height": 32
        }
      },
      "source": [
        "#DOWNLOAD DATASET FROM KAGGLE\n",
        "os.environ['KAGGLE_USERNAME'] = \"xxxxx\" # username from the json file\n",
        "os.environ['KAGGLE_KEY'] = \"xxxxxx\" # key from the json file\n",
        "!kaggle datasets download -d olgabelitskaya/yale-face-database"
      ],
      "execution_count": null,
      "outputs": [
        {
          "output_type": "stream",
          "text": [
            "yale-face-database.zip: Skipping, found more recently modified local copy (use --force to force download)\n"
          ],
          "name": "stdout"
        }
      ]
    },
    {
      "cell_type": "code",
      "metadata": {
        "id": "mHclmH44SgOD"
      },
      "source": [
        "#UNZIP FILE\n",
        "zf = zipfile.ZipFile('yale-face-database.zip')\n",
        "zf.extractall()"
      ],
      "execution_count": null,
      "outputs": []
    },
    {
      "cell_type": "markdown",
      "metadata": {
        "id": "iRZJLA-Px1hu"
      },
      "source": [
        "#Funções"
      ]
    },
    {
      "cell_type": "code",
      "metadata": {
        "id": "e3z1nYNBqyT4"
      },
      "source": [
        "#FUNCTIONS\n",
        "def convert_PIL2cv(image):\n",
        "    new_image = np.array(image, dtype=np.uint8)\n",
        "    if new_image.ndim == 2:  #Monocromático\n",
        "        pass\n",
        "    elif new_image.shape[2] == 3:  #Colorido\n",
        "        new_image = cv2.cvtColor(new_image, cv2.COLOR_RGB2BGR)\n",
        "    elif new_image.shape[2] == 4:  # 透過\n",
        "        new_image = cv2.cvtColor(new_image, cv2.COLOR_RGBA2BGRA)\n",
        "    return new_image\n",
        "\n",
        "def load_img(path): \n",
        "  new_path = path + \".gif\"\n",
        "  shutil.copyfile(path, new_path)\n",
        "  img = PIL.Image.open(new_path)\n",
        "  img = convert_PIL2cv(img)\n",
        "  os.remove(new_path)\n",
        "  return img"
      ],
      "execution_count": null,
      "outputs": []
    },
    {
      "cell_type": "code",
      "metadata": {
        "id": "MLMH7BMmTRzW"
      },
      "source": [
        "def face_detection(image):\n",
        "  # Load the cascade\n",
        "  face_cascade = cv2.CascadeClassifier('/content/haarcascade_frontalface_default.xml')\n",
        "\n",
        "  # Read the input image\n",
        "  img = load_img(image)#'/content/subject01.happy')\n",
        "\n",
        "  # Detect faces\n",
        "  faces = face_cascade.detectMultiScale(img, 1.03, 5)\n",
        "\n",
        "  # Draw rectangle around the faces\n",
        "  for (x, y, w, h) in faces:\n",
        "      #Redução de 20%, esquerda, direita e topo\n",
        "      x_red = int(x + h*0.2)\n",
        "      y_red = int(y + w*0.2)\n",
        "      w_red = int(w*0.8 - (y_red - y))\n",
        "      h_red = int(h*0.8)\n",
        "      #x_red = int(x*1.2)\n",
        "      #y_red = int(y*1.2)\n",
        "      #w_red = int(w*0.8)\n",
        "      #h_red = int(h*1)\n",
        "     \n",
        "#/content/subject01.happy\n",
        "#x = 101\n",
        "#y = 56\n",
        "#w = 157\n",
        "#h = 157\n",
        "#start - top left corner (x,y)\n",
        "#end   - botton right corner (x+w,y+h)\n",
        "      cv2.rectangle(img, (x_red, y_red), (x_red + w_red, y_red + h_red), (54, 54, 54), 2)\n",
        "      croped_img = img[y_red:y_red+h_red, x_red:x_red+w_red]\n",
        "\n",
        "  # Display the output\n",
        "  #cv2_imshow(img)\n",
        "  #cv2.waitKey()\n",
        "  return img, croped_img"
      ],
      "execution_count": null,
      "outputs": []
    },
    {
      "cell_type": "markdown",
      "metadata": {
        "id": "7zv8lWgfx70G"
      },
      "source": [
        "#Seleção imagens da lista de arquivos"
      ]
    },
    {
      "cell_type": "code",
      "metadata": {
        "id": "3kwfDfXIgYvd"
      },
      "source": [
        "#SELEÇÃO DAS IMAGENS QUE SERÃO TRABALHADAS\n",
        "#SOMENTE happy, normal, sad, sleepy e surprised\n",
        "imageFiles = [f for f in os.listdir('/content') if f.endswith('.happy') or \\\n",
        "f.endswith('.normal') or f.endswith('.sad') or f.endswith('.sleepy') or f.endswith('.surprised')]"
      ],
      "execution_count": null,
      "outputs": []
    },
    {
      "cell_type": "markdown",
      "metadata": {
        "id": "m8ulLyuUyFlQ"
      },
      "source": [
        "#Redução de 20% retângulo face e crop"
      ]
    },
    {
      "cell_type": "code",
      "metadata": {
        "id": "geqOZ0mAgYoR"
      },
      "source": [
        "#Lista com as imagens com os quadros destacados com 20% redução e cropadas (direita/esquerda e superior)\n",
        "images = []\n",
        "croped_images = []\n",
        "for img in imageFiles:\n",
        "  fd = face_detection('/content/' + img)\n",
        "  images.append(fd[0])\n",
        "  croped_images.append(fd[1])"
      ],
      "execution_count": null,
      "outputs": []
    },
    {
      "cell_type": "markdown",
      "metadata": {
        "id": "iDs1H1dFyN3x"
      },
      "source": [
        "#Equalização histograma e resize 50x50"
      ]
    },
    {
      "cell_type": "code",
      "metadata": {
        "id": "RKo3666MPkRj"
      },
      "source": [
        "#Equalização de histograma e resize - 50x50\n",
        "imagesEqualizedResized = []\n",
        "for img in croped_images:\n",
        "  equalized = cv2.equalizeHist(img)\n",
        "  equalized_resized = cv2.resize(equalized, (50,50), interpolation = cv2.INTER_AREA)\n",
        "  imagesEqualizedResized.append(equalized_resized)\n",
        "  #cv2_imshow(equ_resized)"
      ],
      "execution_count": null,
      "outputs": []
    },
    {
      "cell_type": "markdown",
      "metadata": {
        "id": "kOY_6NAiyYd_"
      },
      "source": [
        "#Transformações"
      ]
    },
    {
      "cell_type": "code",
      "metadata": {
        "id": "K0ZpJJIcJJLT"
      },
      "source": [
        "#Transformação cada imagem de matriz em vetor\n",
        "images_array = []\n",
        "\n",
        "for i in imagesEqualizedResized:\n",
        "  images_array.append(np.reshape(i, 50*50))"
      ],
      "execution_count": null,
      "outputs": []
    },
    {
      "cell_type": "code",
      "metadata": {
        "id": "WZEc4hgi_zhp"
      },
      "source": [
        "#Convert to pandas dataset\n",
        "images_dataset = pd.DataFrame(images_array)"
      ],
      "execution_count": null,
      "outputs": []
    },
    {
      "cell_type": "markdown",
      "metadata": {
        "id": "cqlTWo8Qyjnz"
      },
      "source": [
        "#Clusterização K-Means"
      ]
    },
    {
      "cell_type": "code",
      "metadata": {
        "id": "JPdvVxg6OBrh"
      },
      "source": [
        "#KMEANS\n",
        "#init parameter: kmeans++ method. \n",
        "#max_iter parameter: the maximum number of iterations there can be to find the final clusters when the \n",
        "#  K-meands algorithm is running. we #enter the default value of 300\n",
        "#n_init parameter: the number of times the #K_means algorithm will be run with different initial centroid.\n",
        "\n",
        "kmeans = KMeans(n_clusters=5, init ='k-means++', max_iter=300, n_init=10,random_state=42 )\n",
        "# Fitting the input data\n",
        "kmeans = kmeans.fit(images_dataset)\n",
        "# Getting the cluster labels: returns for each observation which cluster it belongs to\n",
        "y_kmeans = kmeans.predict(images_dataset)"
      ],
      "execution_count": null,
      "outputs": []
    },
    {
      "cell_type": "code",
      "metadata": {
        "id": "eNFrsbu8wu2z"
      },
      "source": [
        "y_kmeans_dataset = pd.DataFrame(y_kmeans, columns=['cluster'])"
      ],
      "execution_count": null,
      "outputs": []
    },
    {
      "cell_type": "code",
      "metadata": {
        "id": "jq580ClaYx_A"
      },
      "source": [
        "c1 = y_kmeans_dataset[y_kmeans_dataset[\"cluster\"]==0]\n",
        "c1_examples = c1.sample(5)\n",
        "\n",
        "c2 = y_kmeans_dataset[y_kmeans_dataset[\"cluster\"]==1]\n",
        "c2_examples = c2.sample(5)\n",
        "\n",
        "c3 = y_kmeans_dataset[y_kmeans_dataset[\"cluster\"]==2]\n",
        "c3_examples = c3.sample(5)\n",
        "\n",
        "c4 = y_kmeans_dataset[y_kmeans_dataset[\"cluster\"]==3]\n",
        "c4_examples = c4.sample(5)\n",
        "\n",
        "c5 = y_kmeans_dataset[y_kmeans_dataset[\"cluster\"]==4]\n",
        "c5_examples = c5.sample(5)"
      ],
      "execution_count": null,
      "outputs": []
    },
    {
      "cell_type": "markdown",
      "metadata": {
        "id": "m3djQhMla0rm"
      },
      "source": [
        "#Cluster 1"
      ]
    },
    {
      "cell_type": "code",
      "metadata": {
        "id": "iPb6wDN1aTfr",
        "outputId": "841f1388-74e0-4f5d-972c-2c40d4216a2e",
        "colab": {
          "base_uri": "https://localhost:8080/",
          "height": 300
        }
      },
      "source": [
        "#Quantity and examples\n",
        "print(\"Quantidade faces cluster 1: \" + str(len(c1)))\n",
        "\n",
        "print(\"Exemplos:\")\n",
        "\n",
        "for i in range(0,5):\n",
        "  cv2_imshow(imagesEqualizedResized[c1_examples.index[i]])"
      ],
      "execution_count": null,
      "outputs": [
        {
          "output_type": "stream",
          "text": [
            "Quantidade faces cluster 1: 14\n",
            "Exemplos:\n"
          ],
          "name": "stdout"
        },
        {
          "output_type": "display_data",
          "data": {
            "image/png": "[encoded data removed]",
            "text/plain": [
              "<PIL.Image.Image image mode=L size=50x50 at 0x7F5BCBDE5358>"
            ]
          },
          "metadata": {
            "tags": []
          }
        },
        {
          "output_type": "display_data",
          "data": {
            "image/png": "[encoded data removed]",
            "text/plain": [
              "<PIL.Image.Image image mode=L size=50x50 at 0x7F5BCBDE5390>"
            ]
          },
          "metadata": {
            "tags": []
          }
        },
        {
          "output_type": "display_data",
          "data": {
            "image/png": "[encoded data removed]",
            "text/plain": [
              "<PIL.Image.Image image mode=L size=50x50 at 0x7F5BCBDE5358>"
            ]
          },
          "metadata": {
            "tags": []
          }
        },
        {
          "output_type": "display_data",
          "data": {
            "image/png": "[encoded data removed]",
            "text/plain": [
              "<PIL.Image.Image image mode=L size=50x50 at 0x7F5BCBDE5390>"
            ]
          },
          "metadata": {
            "tags": []
          }
        },
        {
          "output_type": "display_data",
          "data": {
            "image/png": "[encoded data removed]",
            "text/plain": [
              "<PIL.Image.Image image mode=L size=50x50 at 0x7F5BCBDE5358>"
            ]
          },
          "metadata": {
            "tags": []
          }
        }
      ]
    },
    {
      "cell_type": "markdown",
      "metadata": {
        "id": "hRDU2UuubWYB"
      },
      "source": [
        "#Cluster 2"
      ]
    },
    {
      "cell_type": "code",
      "metadata": {
        "id": "fUHu4d5ibVbp",
        "outputId": "4b5b088f-f9fe-4bc0-d425-c07567dc46a5",
        "colab": {
          "base_uri": "https://localhost:8080/",
          "height": 300
        }
      },
      "source": [
        "#Quantity and examples\n",
        "print(\"Quantidade faces cluster 2: \" + str(len(c2)))\n",
        "\n",
        "print(\"Exemplos:\")\n",
        "\n",
        "for i in range(0,5):\n",
        "  cv2_imshow(imagesEqualizedResized[c2_examples.index[i]])"
      ],
      "execution_count": null,
      "outputs": [
        {
          "output_type": "stream",
          "text": [
            "Quantidade faces cluster 2: 10\n",
            "Exemplos:\n"
          ],
          "name": "stdout"
        },
        {
          "output_type": "display_data",
          "data": {
            "image/png": "[encoded data removed]",
            "text/plain": [
              "<PIL.Image.Image image mode=L size=50x50 at 0x7F5BCBDE5438>"
            ]
          },
          "metadata": {
            "tags": []
          }
        },
        {
          "output_type": "display_data",
          "data": {
            "image/png": "[encoded data removed]",
            "text/plain": [
              "<PIL.Image.Image image mode=L size=50x50 at 0x7F5BCBDE5438>"
            ]
          },
          "metadata": {
            "tags": []
          }
        },
        {
          "output_type": "display_data",
          "data": {
            "image/png": "[encoded data removed]",
            "text/plain": [
              "<PIL.Image.Image image mode=L size=50x50 at 0x7F5BCBDE5438>"
            ]
          },
          "metadata": {
            "tags": []
          }
        },
        {
          "output_type": "display_data",
          "data": {
            "image/png": "[encoded data removed]",
            "text/plain": [
              "<PIL.Image.Image image mode=L size=50x50 at 0x7F5BCBDE5438>"
            ]
          },
          "metadata": {
            "tags": []
          }
        },
        {
          "output_type": "display_data",
          "data": {
            "image/png": "[encoded data removed]",
            "text/plain": [
              "<PIL.Image.Image image mode=L size=50x50 at 0x7F5BCBDE5438>"
            ]
          },
          "metadata": {
            "tags": []
          }
        }
      ]
    },
    {
      "cell_type": "markdown",
      "metadata": {
        "id": "Q3nUKlD1bbU_"
      },
      "source": [
        "#Cluster 3"
      ]
    },
    {
      "cell_type": "code",
      "metadata": {
        "id": "La1ioDajbeUl",
        "outputId": "f19d52e8-242f-4fac-f616-b8115331f28f",
        "colab": {
          "base_uri": "https://localhost:8080/",
          "height": 300
        }
      },
      "source": [
        "#Quantity and examples\n",
        "print(\"Quantidade faces cluster 3: \" + str(len(c3)))\n",
        "\n",
        "print(\"Exemplos:\")\n",
        "\n",
        "for i in range(0,5):\n",
        "  cv2_imshow(imagesEqualizedResized[c3_examples.index[i]])"
      ],
      "execution_count": null,
      "outputs": [
        {
          "output_type": "stream",
          "text": [
            "Quantidade faces cluster 3: 16\n",
            "Exemplos:\n"
          ],
          "name": "stdout"
        },
        {
          "output_type": "display_data",
          "data": {
            "image/png": "[encoded data removed]",
            "text/plain": [
              "<PIL.Image.Image image mode=L size=50x50 at 0x7F5BCBDE5668>"
            ]
          },
          "metadata": {
            "tags": []
          }
        },
        {
          "output_type": "display_data",
          "data": {
            "image/png": "[encoded data removed]",
            "text/plain": [
              "<PIL.Image.Image image mode=L size=50x50 at 0x7F5BCBDE55C0>"
            ]
          },
          "metadata": {
            "tags": []
          }
        },
        {
          "output_type": "display_data",
          "data": {
            "image/png": "[encoded data removed]",
            "text/plain": [
              "<PIL.Image.Image image mode=L size=50x50 at 0x7F5BCBDE5668>"
            ]
          },
          "metadata": {
            "tags": []
          }
        },
        {
          "output_type": "display_data",
          "data": {
            "image/png": "[encoded data removed]",
            "text/plain": [
              "<PIL.Image.Image image mode=L size=50x50 at 0x7F5BCBDE55C0>"
            ]
          },
          "metadata": {
            "tags": []
          }
        },
        {
          "output_type": "display_data",
          "data": {
            "image/png": "[encoded data removed]",
            "text/plain": [
              "<PIL.Image.Image image mode=L size=50x50 at 0x7F5BCBDE5668>"
            ]
          },
          "metadata": {
            "tags": []
          }
        }
      ]
    },
    {
      "cell_type": "markdown",
      "metadata": {
        "id": "fIgrHr3rbgqK"
      },
      "source": [
        "#Cluster 4"
      ]
    },
    {
      "cell_type": "code",
      "metadata": {
        "id": "jpVeNXB7bkZQ",
        "outputId": "eb2ab4ed-567d-4182-ee98-5adba1746c22",
        "colab": {
          "base_uri": "https://localhost:8080/",
          "height": 300
        }
      },
      "source": [
        "#Quantity and examples\n",
        "print(\"Quantidade faces cluster 4: \" + str(len(c4)))\n",
        "\n",
        "print(\"Exemplos:\")\n",
        "\n",
        "for i in range(0,5):\n",
        "  cv2_imshow(imagesEqualizedResized[c4_examples.index[i]])"
      ],
      "execution_count": null,
      "outputs": [
        {
          "output_type": "stream",
          "text": [
            "Quantidade faces cluster 4: 5\n",
            "Exemplos:\n"
          ],
          "name": "stdout"
        },
        {
          "output_type": "display_data",
          "data": {
            "image/png": "[encoded data removed]",
            "text/plain": [
              "<PIL.Image.Image image mode=L size=50x50 at 0x7F5BCBDE6748>"
            ]
          },
          "metadata": {
            "tags": []
          }
        },
        {
          "output_type": "display_data",
          "data": {
            "image/png": "[encoded data removed]",
            "text/plain": [
              "<PIL.Image.Image image mode=L size=50x50 at 0x7F5BCBDE65F8>"
            ]
          },
          "metadata": {
            "tags": []
          }
        },
        {
          "output_type": "display_data",
          "data": {
            "image/png": "[encoded data removed]",
            "text/plain": [
              "<PIL.Image.Image image mode=L size=50x50 at 0x7F5BCBDE6748>"
            ]
          },
          "metadata": {
            "tags": []
          }
        },
        {
          "output_type": "display_data",
          "data": {
            "image/png": "[encoded data removed]",
            "text/plain": [
              "<PIL.Image.Image image mode=L size=50x50 at 0x7F5BCBDE65F8>"
            ]
          },
          "metadata": {
            "tags": []
          }
        },
        {
          "output_type": "display_data",
          "data": {
            "image/png": "[encoded data removed]",
            "text/plain": [
              "<PIL.Image.Image image mode=L size=50x50 at 0x7F5BCBDE6748>"
            ]
          },
          "metadata": {
            "tags": []
          }
        }
      ]
    },
    {
      "cell_type": "markdown",
      "metadata": {
        "id": "4byKAxZpbl3R"
      },
      "source": [
        "#Cluster 5"
      ]
    },
    {
      "cell_type": "code",
      "metadata": {
        "id": "052i1Fp_bomx",
        "outputId": "f3090a52-540d-4cae-86b2-2a1efccce869",
        "colab": {
          "base_uri": "https://localhost:8080/",
          "height": 300
        }
      },
      "source": [
        "#Quantity and examples\n",
        "print(\"Quantidade faces cluster 5: \" + str(len(c5)))\n",
        "\n",
        "print(\"Exemplos:\")\n",
        "\n",
        "for i in range(0,5):\n",
        "  cv2_imshow(imagesEqualizedResized[c5_examples.index[i]])"
      ],
      "execution_count": null,
      "outputs": [
        {
          "output_type": "stream",
          "text": [
            "Quantidade faces cluster 5: 30\n",
            "Exemplos:\n"
          ],
          "name": "stdout"
        },
        {
          "output_type": "display_data",
          "data": {
            "image/png": "[encoded data removed]",
            "text/plain": [
              "<PIL.Image.Image image mode=L size=50x50 at 0x7F5BCBEC52E8>"
            ]
          },
          "metadata": {
            "tags": []
          }
        },
        {
          "output_type": "display_data",
          "data": {
            "image/png": "[encoded data removed]",
            "text/plain": [
              "<PIL.Image.Image image mode=L size=50x50 at 0x7F5BCBEC5198>"
            ]
          },
          "metadata": {
            "tags": []
          }
        },
        {
          "output_type": "display_data",
          "data": {
            "image/png": "[encoded data removed]",
            "text/plain": [
              "<PIL.Image.Image image mode=L size=50x50 at 0x7F5BCBEC52E8>"
            ]
          },
          "metadata": {
            "tags": []
          }
        },
        {
          "output_type": "display_data",
          "data": {
            "image/png": "[encoded data removed]",
            "text/plain": [
              "<PIL.Image.Image image mode=L size=50x50 at 0x7F5BCBEC5198>"
            ]
          },
          "metadata": {
            "tags": []
          }
        },
        {
          "output_type": "display_data",
          "data": {
            "image/png": "[encoded data removed]",
            "text/plain": [
              "<PIL.Image.Image image mode=L size=50x50 at 0x7F5BCBEC52E8>"
            ]
          },
          "metadata": {
            "tags": []
          }
        }
      ]
    },
    {
      "cell_type": "markdown",
      "metadata": {
        "id": "YG-xCg-Ped0z"
      },
      "source": [
        "#Como o algoritmo K-Means funciona?\n",
        "\n",
        "A criação de grupos de pontos, imagens, etc chama-se clusterização.\n",
        "\n",
        "O k-means realiza o agrupamento atribuindo rótulos para cada item de uma quantidade K de grupos. Nesse algoritmo, a forma como esses grupos são definidos é realizando a criação de centróides para cada grupo. Os centróides são o ponto central do grupo e a partir deles são identificados os itens mais próximos a ele e, em seguida, adicionados aquele grupo.\n",
        "\n",
        "Este processo ocorre através dos seguintes passos:\n",
        "\n",
        "1. Definir do K centroids.\n",
        "2. Encontrar o centróide mais próximo e atualizar os rótulos de cada ponto. A métrica utilizada para se medir a distância é um hiperparâmetro e podem ser várias. Ex.: distância Euclidiana.\n",
        "3. Mover os centróides para o centro de seus clusters. As novas posições de cada centróide é calculada como a posição média de cada um dos pontos no cluster.\n",
        "4. Repetir os passos 2 e 3 até o centróide parar de se mover muito, ou seja, até o algoritmo convergir."
      ]
    },
    {
      "cell_type": "markdown",
      "metadata": {
        "id": "NQKq2p2lf_4s"
      },
      "source": [
        "#Qual critério você acha que o algoritmo usou para agrupar as imagens?"
      ]
    },
    {
      "cell_type": "markdown",
      "metadata": {
        "id": "FQFoyd_yek3Y"
      },
      "source": [
        "As imagens não foram agrupadas por indivíduos ou por expressão facial. \n",
        "\n",
        "A partir do momento que transformamos a imagem numa matriz de 50 x 50 pixels, e em seguida transformamos essa matriz em um vetor, passamos a ter um registro para cada imagem e com cada imagem contendo 2500 features. Foram utilizadas essas features para realizar a clusterização, ou seja, as imagens que tinham pixels mais \"semelhantes\", ou seja, pertencentes a um cluster, conforme descrito em como o K-Means funciona, foram rotuladas pentencendo a dos 5 clusters.\n",
        "\n",
        "Isso é possível observar no clustes 1 (ao menos na execução no momento que escrevi esse texto) que as faces continham a região da boca/queixo mais escuras (por conta de bigode ou barba).\n",
        "\n",
        "Já no cluster 2 (ao menos na execução no momento que escrevi esse texto) observamos que as faces continham a parte inferior da face limpa (sem barba/bigode) porém, continham grande presença de cabelo na testa (parte superior escura).\n",
        "\n",
        "No cluster 3 (ao menos na execução no momento que escrevi esse texto) podemos observar a região dos olhos mais escura, seja pela presença de óculos ou por existir uma sobrancelha bem marcante.\n",
        "\n",
        "No cluster 4 (ao menos na execução no momento que escrevi esse texto) com podemos observar as imagens com o nariz mais evidente e a região das bochechas mais destacadas."
      ]
    },
    {
      "cell_type": "code",
      "metadata": {
        "id": "uDyv_edTUm6a"
      },
      "source": [
        ""
      ],
      "execution_count": null,
      "outputs": []
    }
  ]
}