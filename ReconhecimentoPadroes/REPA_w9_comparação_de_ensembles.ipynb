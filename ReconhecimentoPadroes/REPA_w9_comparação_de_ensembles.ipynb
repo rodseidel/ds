{
  "nbformat": 4,
  "nbformat_minor": 0,
  "metadata": {
    "colab": {
      "name": "REPA_comparação_de_ensembles.ipynb",
      "provenance": [],
      "collapsed_sections": []
    },
    "kernelspec": {
      "name": "python3",
      "display_name": "Python 3"
    },
    "language_info": {
      "name": "python"
    },
    "accelerator": "GPU"
  },
  "cells": [
    {
      "cell_type": "markdown",
      "metadata": {
        "id": "iVYp52RAVs5_"
      },
      "source": [
        "- Use uma base de dados para classificação com pelo menos 1000 amostras;\n",
        "- Escolha pelo menos três algoritmos de classificação;\n",
        "- Combine os classificadores de duas formas diferentes:\n",
        "    - Voting\n",
        "    - Stacking\n",
        "- Use gridsearch (ou randomsearch) para ajustar tantos os classificadores fracos quanto o ensemble;"
      ]
    },
    {
      "cell_type": "markdown",
      "metadata": {
        "id": "36ZgmjcraMa1"
      },
      "source": [
        "#Importando Dataset"
      ]
    },
    {
      "cell_type": "code",
      "metadata": {
        "id": "4OaQmMZZV3tr"
      },
      "source": [
        "from sklearn.datasets import load_digits\n",
        "#sklearn.datasets.load_digits(*, n_class=10, return_X_y=False, as_frame=False)\n",
        "#Classes: 10\n",
        "#Samples per class: ~180\n",
        "#Samples total: 1797\n",
        "#Dimensionality: 64\n",
        "#Features: integers 0-16"
      ],
      "execution_count": 1,
      "outputs": []
    },
    {
      "cell_type": "code",
      "metadata": {
        "colab": {
          "base_uri": "https://localhost:8080/"
        },
        "id": "WmMZb3ltXOMx",
        "outputId": "64469c9b-d4fa-4520-d886-5bf3610bd952"
      },
      "source": [
        "from sklearn.model_selection import train_test_split\n",
        "\n",
        "X, y = load_digits(return_X_y=True)\n",
        "X.shape, y.shape\n",
        "\n",
        "X_tr, X_te, y_tr, y_te = train_test_split(X, y, random_state=42)\n",
        "X_tr.shape, X_te.shape, y_tr.shape, y_te.shape"
      ],
      "execution_count": 2,
      "outputs": [
        {
          "output_type": "execute_result",
          "data": {
            "text/plain": [
              "((1347, 64), (450, 64), (1347,), (450,))"
            ]
          },
          "metadata": {
            "tags": []
          },
          "execution_count": 2
        }
      ]
    },
    {
      "cell_type": "markdown",
      "metadata": {
        "id": "fMpluhpcaRu7"
      },
      "source": [
        "#Verificações gerais"
      ]
    },
    {
      "cell_type": "markdown",
      "metadata": {
        "id": "RVS-8eOQaXmm"
      },
      "source": [
        "##XGBoost"
      ]
    },
    {
      "cell_type": "code",
      "metadata": {
        "colab": {
          "base_uri": "https://localhost:8080/"
        },
        "id": "pOPU4XSKXU5R",
        "outputId": "7b393040-273c-46a1-a4a9-fee50be12fd7"
      },
      "source": [
        "from xgboost import XGBClassifier\n",
        "modelo = XGBClassifier()\n",
        "modelo.fit(X_tr, y_tr)\n",
        "xgb_pr = modelo.predict(X_te)\n",
        "xgbhits = xgb_pr == y_te\n",
        "#xgbhits,\n",
        "sum(xgbhits)/len(xgbhits)"
      ],
      "execution_count": 3,
      "outputs": [
        {
          "output_type": "execute_result",
          "data": {
            "text/plain": [
              "0.9688888888888889"
            ]
          },
          "metadata": {
            "tags": []
          },
          "execution_count": 3
        }
      ]
    },
    {
      "cell_type": "markdown",
      "metadata": {
        "id": "whEnyP-WaeiJ"
      },
      "source": [
        "##KNN"
      ]
    },
    {
      "cell_type": "code",
      "metadata": {
        "colab": {
          "base_uri": "https://localhost:8080/"
        },
        "id": "gEKTayHHXWiY",
        "outputId": "7e3d88ed-3d6b-4604-b59e-2af52125c82e"
      },
      "source": [
        "from sklearn.neighbors import KNeighborsClassifier\n",
        "modelo = KNeighborsClassifier()\n",
        "modelo.fit(X_tr, y_tr)\n",
        "knn_pr = modelo.predict(X_te)\n",
        "knnhits = knn_pr == y_te\n",
        "#knnhits, \n",
        "sum(knnhits)/len(knnhits)"
      ],
      "execution_count": 4,
      "outputs": [
        {
          "output_type": "execute_result",
          "data": {
            "text/plain": [
              "0.9933333333333333"
            ]
          },
          "metadata": {
            "tags": []
          },
          "execution_count": 4
        }
      ]
    },
    {
      "cell_type": "markdown",
      "metadata": {
        "id": "AORbC9l5aicB"
      },
      "source": [
        "##Random Forest"
      ]
    },
    {
      "cell_type": "code",
      "metadata": {
        "colab": {
          "base_uri": "https://localhost:8080/"
        },
        "id": "qOO5hTjcX2dl",
        "outputId": "c643405f-da45-485b-e733-427e30b1a163"
      },
      "source": [
        "#from sklearn.tree import DecisionTreeClassifier\n",
        "from sklearn.ensemble import RandomForestClassifier\n",
        "modelo = RandomForestClassifier(random_state=42)\n",
        "modelo.fit(X_tr, y_tr)\n",
        "dt_pr = modelo.predict(X_te)\n",
        "dthits = dt_pr == y_te\n",
        "#dthits, \n",
        "sum(dthits)/len(dthits)"
      ],
      "execution_count": 5,
      "outputs": [
        {
          "output_type": "execute_result",
          "data": {
            "text/plain": [
              "0.9711111111111111"
            ]
          },
          "metadata": {
            "tags": []
          },
          "execution_count": 5
        }
      ]
    },
    {
      "cell_type": "markdown",
      "metadata": {
        "id": "E1iiUCmUbWuN"
      },
      "source": [
        "##Voting Classifier"
      ]
    },
    {
      "cell_type": "code",
      "metadata": {
        "colab": {
          "base_uri": "https://localhost:8080/"
        },
        "id": "ezp6ROeWalim",
        "outputId": "d1bb04d5-f3b1-447c-96e2-8fd6f08b6b4b"
      },
      "source": [
        "from sklearn.ensemble import VotingClassifier\n",
        "voting = VotingClassifier([\n",
        "    ('xgboost', XGBClassifier(colsample_bynode=0.01, learning_rate=0.15, random_state=42)),\n",
        "    ('knn', KNeighborsClassifier()),\n",
        "    ('rf', RandomForestClassifier(random_state=42)),\n",
        "])\n",
        "voting.fit(X_tr, y_tr)\n",
        "vo_pr = voting.predict(X_te)\n",
        "vohits = vo_pr == y_te\n",
        "#vohits,\n",
        "sum(vohits)/len(vohits)"
      ],
      "execution_count": 6,
      "outputs": [
        {
          "output_type": "execute_result",
          "data": {
            "text/plain": [
              "0.9822222222222222"
            ]
          },
          "metadata": {
            "tags": []
          },
          "execution_count": 6
        }
      ]
    },
    {
      "cell_type": "markdown",
      "metadata": {
        "id": "G4luTELfc5t6"
      },
      "source": [
        "##Stacking Classifier"
      ]
    },
    {
      "cell_type": "code",
      "metadata": {
        "id": "-zxUT80T5YmZ"
      },
      "source": [
        "import warnings\n",
        "warnings.filterwarnings('ignore')"
      ],
      "execution_count": 9,
      "outputs": []
    },
    {
      "cell_type": "code",
      "metadata": {
        "colab": {
          "base_uri": "https://localhost:8080/"
        },
        "id": "jW2V7w8pbn6Y",
        "outputId": "750baabe-78c9-444d-e904-133b44018c08"
      },
      "source": [
        "from sklearn.ensemble import StackingClassifier\n",
        "\n",
        "stacking = StackingClassifier([\n",
        "    #('voting', voting),\n",
        "    ('xgboost', XGBClassifier(colsample_bynode=0.01, learning_rate=0.15, random_state=42)),\n",
        "    ('knn', KNeighborsClassifier()),\n",
        "    ('dtrf', RandomForestClassifier(random_state=42))\n",
        "], cv=3, passthrough=True)\n",
        "\n",
        "stacking.fit(X_tr, y_tr) \n",
        "sc_pr = stacking.predict(X_te)\n",
        "schits = sc_pr == y_te\n",
        "#schits, \n",
        "sum(schits)/len(schits)"
      ],
      "execution_count": 10,
      "outputs": [
        {
          "output_type": "execute_result",
          "data": {
            "text/plain": [
              "0.9755555555555555"
            ]
          },
          "metadata": {
            "tags": []
          },
          "execution_count": 10
        }
      ]
    },
    {
      "cell_type": "markdown",
      "metadata": {
        "id": "jDgtOfu3dXl2"
      },
      "source": [
        "- Combine os classificadores de duas formas diferentes:\n",
        "    - Voting\n",
        "    - Stacking\n",
        "- Use gridsearch (ou randomsearch) para ajustar tantos os classificadores fracos quanto o ensemble;"
      ]
    },
    {
      "cell_type": "markdown",
      "metadata": {
        "id": "vNrujh4EkPlV"
      },
      "source": [
        "#Gridsearch - Classificadores\n",
        "  - KNN obteve muito bom resultado com parâmetros default"
      ]
    },
    {
      "cell_type": "markdown",
      "metadata": {
        "id": "pNtdwBcflAE2"
      },
      "source": [
        "##XGBoost"
      ]
    },
    {
      "cell_type": "code",
      "metadata": {
        "colab": {
          "base_uri": "https://localhost:8080/"
        },
        "id": "v8oO1H5rlHfT",
        "outputId": "fa02b832-0850-47bd-a828-937c4e5e9267"
      },
      "source": [
        "from sklearn.model_selection import GridSearchCV\n",
        "\n",
        "parametros = {\n",
        "    'colsample_bynode': [0.01, 0.2],\n",
        "    'learning_rate': [0.15, 0.3],\n",
        "    'random_state': [42],\n",
        "    'max_depth':[6,10,27]\n",
        "}\n",
        "\n",
        "modelo_xgboost = GridSearchCV(XGBClassifier(), param_grid=parametros)\n",
        "modelo_xgboost.fit(X_tr, y_tr)\n",
        "dt_xg = modelo_xgboost.predict(X_te)\n",
        "xghits = dt_xg == y_te\n",
        "#dthits, \n",
        "sum(xghits)/len(xghits)"
      ],
      "execution_count": 11,
      "outputs": [
        {
          "output_type": "execute_result",
          "data": {
            "text/plain": [
              "0.98"
            ]
          },
          "metadata": {
            "tags": []
          },
          "execution_count": 11
        }
      ]
    },
    {
      "cell_type": "markdown",
      "metadata": {
        "id": "4uCplvV7k-AB"
      },
      "source": [
        "##RF"
      ]
    },
    {
      "cell_type": "code",
      "metadata": {
        "colab": {
          "base_uri": "https://localhost:8080/"
        },
        "id": "DlPWfAB1c81p",
        "outputId": "a6c018fa-c7e9-4e8c-e6af-514698fbf195"
      },
      "source": [
        "parametros = {\n",
        "    'max_depth': [15,25,50],\n",
        "    'criterion': ['gini', 'entropy'],\n",
        "    'n_estimators': [100],\n",
        "    'random_state': [42],\n",
        "    'min_samples_split': [2, 8, 18],\n",
        "    'bootstrap': [True,False]\n",
        "}\n",
        "modelo_RandomForest = GridSearchCV(RandomForestClassifier(), param_grid=parametros)\n",
        "modelo_RandomForest.fit(X_tr, y_tr)\n",
        "dt_pr = modelo_RandomForest.predict(X_te)\n",
        "dthits = dt_pr == y_te\n",
        "#dthits, \n",
        "sum(dthits)/len(dthits)"
      ],
      "execution_count": 12,
      "outputs": [
        {
          "output_type": "execute_result",
          "data": {
            "text/plain": [
              "0.9777777777777777"
            ]
          },
          "metadata": {
            "tags": []
          },
          "execution_count": 12
        }
      ]
    },
    {
      "cell_type": "markdown",
      "metadata": {
        "id": "jApC4X9Rkln9"
      },
      "source": [
        "#GridSearch - Ensemble "
      ]
    },
    {
      "cell_type": "markdown",
      "metadata": {
        "id": "7FZrq5wVn4xf"
      },
      "source": [
        "##Voting"
      ]
    },
    {
      "cell_type": "code",
      "metadata": {
        "colab": {
          "base_uri": "https://localhost:8080/"
        },
        "id": "GvoWcwZ9hujb",
        "outputId": "5da2823d-2995-4a80-9660-d8d064c36aba"
      },
      "source": [
        "from sklearn.ensemble import VotingClassifier\n",
        "voting = VotingClassifier([\n",
        "    ('xgboost', modelo_xgboost),\n",
        "    ('knn', KNeighborsClassifier()),\n",
        "    ('rf', modelo_RandomForest)\n",
        "])\n",
        "\n",
        "parametros = {\n",
        "    'voting':['hard', 'soft']\n",
        "}\n",
        "\n",
        "voting_search = GridSearchCV(voting, param_grid=parametros)\n",
        "\n",
        "voting_search.fit(X_tr, y_tr)\n",
        "vo_pr = voting_search.predict(X_te)\n",
        "vohits = vo_pr == y_te\n",
        "#vohits,\n",
        "sum(vohits)/len(vohits)\n",
        "\n",
        "#########################################\n",
        "##  Resultado antes do gridsearch - 0.98 \n",
        "##  Resultado após o gridsearch - 0.9866666666666667\n",
        "#########################################"
      ],
      "execution_count": 15,
      "outputs": [
        {
          "output_type": "execute_result",
          "data": {
            "text/plain": [
              "0.9866666666666667"
            ]
          },
          "metadata": {
            "tags": []
          },
          "execution_count": 15
        }
      ]
    },
    {
      "cell_type": "markdown",
      "metadata": {
        "id": "5iOTqM8en4qN"
      },
      "source": [
        "##Stacking"
      ]
    },
    {
      "cell_type": "code",
      "metadata": {
        "colab": {
          "base_uri": "https://localhost:8080/"
        },
        "id": "Bw4u2HcGkJP0",
        "outputId": "9ce8689a-5a3a-4eb6-e2ca-ba70a11efc1c"
      },
      "source": [
        "from sklearn.ensemble import StackingClassifier\n",
        "\n",
        "stacking = StackingClassifier([\n",
        "    #('voting', voting),\n",
        "    ('xgboost', modelo_xgboost),\n",
        "    ('knn', KNeighborsClassifier()),\n",
        "    ('rf', modelo_RandomForest)\n",
        "]#, cv=3, passthrough=True\n",
        ")\n",
        "\n",
        "parametros = {\n",
        "    'cv': [3,5,8],\n",
        "    'passthrough': [True,False]\n",
        "}\n",
        "\n",
        "stacking_search = GridSearchCV(stacking, param_grid=parametros)\n",
        "\n",
        "\n",
        "stacking_search.fit(X_tr, y_tr) \n",
        "sc_pr = stacking_search.predict(X_te)\n",
        "schits = sc_pr == y_te\n",
        "#schits, \n",
        "sum(schits)/len(schits)\n",
        "\n",
        "#################################################################\n",
        "## Resultado antes do GridSearch 0.9777777777777777\n",
        "## Resultado após o GridSearch - 0.9888888888888889 - 04:10h de execução\n",
        "#################################################################"
      ],
      "execution_count": 13,
      "outputs": [
        {
          "output_type": "execute_result",
          "data": {
            "text/plain": [
              "0.9888888888888889"
            ]
          },
          "metadata": {
            "tags": []
          },
          "execution_count": 13
        }
      ]
    }
  ]
}