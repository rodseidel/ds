{
  "nbformat": 4,
  "nbformat_minor": 0,
  "metadata": {
    "language_info": {
      "codemirror_mode": {
        "name": "ipython",
        "version": 3
      },
      "file_extension": ".py",
      "mimetype": "text/x-python",
      "name": "python",
      "nbconvert_exporter": "python",
      "pygments_lexer": "ipython3",
      "version": "3.8.5-final"
    },
    "orig_nbformat": 2,
    "kernelspec": {
      "name": "python38564bitvenv8df5f652c965478ab2804a4e99998afa",
      "display_name": "Python 3.8.5 64-bit ('.venv')",
      "language": "python"
    },
    "colab": {
      "name": "titanic_revisão_generalização.ipynb",
      "provenance": [],
      "collapsed_sections": []
    }
  },
  "cells": [
    {
      "cell_type": "code",
      "metadata": {
        "colab": {
          "base_uri": "https://localhost:8080/"
        },
        "id": "KPLsZa98bQqH",
        "outputId": "cd750cd0-f97b-43ff-ab66-0a1a97c5b37c"
      },
      "source": [
        "import os\r\n",
        "#IMPORT DATASET FROM KAGGLE\r\n",
        "os.environ['KAGGLE_USERNAME'] = \"rodseidel\" # username from the json file\r\n",
        "os.environ['KAGGLE_KEY'] = \"6135aa1b9bebff694439825d1c78d739\" # key from the json file\r\n",
        "!kaggle competitions download -c titanic"
      ],
      "execution_count": 1,
      "outputs": [
        {
          "output_type": "stream",
          "text": [
            "Warning: Looks like you're using an outdated API Version, please consider updating (server 1.5.10 / client 1.5.4)\n",
            "Downloading train.csv to /content\n",
            "  0% 0.00/59.8k [00:00<?, ?B/s]\n",
            "100% 59.8k/59.8k [00:00<00:00, 22.4MB/s]\n",
            "Downloading test.csv to /content\n",
            "  0% 0.00/28.0k [00:00<?, ?B/s]\n",
            "100% 28.0k/28.0k [00:00<00:00, 27.3MB/s]\n",
            "Downloading gender_submission.csv to /content\n",
            "  0% 0.00/3.18k [00:00<?, ?B/s]\n",
            "100% 3.18k/3.18k [00:00<00:00, 3.15MB/s]\n"
          ],
          "name": "stdout"
        }
      ]
    },
    {
      "cell_type": "code",
      "metadata": {
        "id": "m1RCN8omabee"
      },
      "source": [
        "import pandas as pd\n",
        "import numpy as np\n",
        "train = pd.read_csv('train.csv')\n",
        "test = pd.read_csv('test.csv')\n",
        "X = train[list(test.columns)]\n",
        "y = train[train.columns[~train.columns.isin(test.columns)]]"
      ],
      "execution_count": 1,
      "outputs": []
    },
    {
      "cell_type": "code",
      "metadata": {
        "id": "1jb9dqtNnwJ0"
      },
      "source": [
        "#Alterar o código compartilhado de forma que o desempenho de classificação do RepeatedKFold tenha um score mais alto na média (pelo menos 0.85). \r\n",
        "#Pode ser apenas escolhendo um conjunto de parâmetros no grid search, \r\n",
        "#escolhendo melhor os atributos ou \r\n",
        "#tratanto melhor as características."
      ],
      "execution_count": 2,
      "outputs": []
    },
    {
      "cell_type": "code",
      "metadata": {
        "id": "Pe8VWVMyfrrp"
      },
      "source": [
        "#MIGREI PARA O PIPELINE ESSES\r\n",
        "#CHE\r\n",
        "#\r\n",
        "#Criada coluna Família (indentificado pelo sobrenome comum) - tratamento a seguir\r\n",
        "#X[\"Family\"] = X[\"Name\"]\r\n",
        "\r\n",
        "#SibSp: esposa / Parch: pais/filhos\r\n",
        "#Informações sobre parentes e se estava sozinho ou não\r\n",
        "#X[\"Relatives\"] = X[\"SibSp\"] + X[\"Parch\"]\r\n",
        "\r\n",
        "#for index, row in X.iterrows():\r\n",
        "#    if row['Relatives'] > 0:\r\n",
        "#        X.loc[index,'Alone'] = 0\r\n",
        "#    else: X.loc[index,'Alone'] = 1\r\n",
        "\r\n",
        "#Calcula deck a partir do número da cabine\r\n",
        "#import re\r\n",
        "#deck = {\"A\": 1, \"B\": 2, \"C\": 3, \"D\": 4, \"E\": 5, \"F\": 6, \"G\": 7, \"U\": 8}\r\n",
        "#X['Cabin'] = X['Cabin'].fillna(\"U0\")\r\n",
        "#X['Deck'] = X['Cabin'].map(lambda x: re.compile(\"([a-zA-Z]+)\").search(x).group())\r\n",
        "#X['Deck'] = X['Deck'].map(deck)\r\n",
        "#X['Deck'] = X['Deck'].fillna(0)\r\n",
        "#X['Deck'] = X['Deck'].astype(int)       "
      ],
      "execution_count": 3,
      "outputs": []
    },
    {
      "cell_type": "code",
      "metadata": {
        "id": "M6Zr6pbyvZAk"
      },
      "source": [
        "#MIGRADO PARA O PIPELINE\r\n",
        "#test[\"Family\"] = test[\"Name\"]\r\n",
        "\r\n",
        "#SibSp: esposa / Parch: pais/filhos\r\n",
        "#Informações sobre parentes e se estava sozinho ou não\r\n",
        "#test[\"Relatives\"] = test[\"SibSp\"] + test[\"Parch\"]\r\n",
        "\r\n",
        "#for index, row in test.iterrows():\r\n",
        "#    if row['Relatives'] > 0:\r\n",
        "#        test.loc[index,'Alone'] = 0\r\n",
        "#    else: test.loc[index,'Alone'] = 1\r\n",
        "\r\n",
        "\r\n",
        "#Calcula deck a partir do número da cabine\r\n",
        "#import re\r\n",
        "#deck = {\"A\": 1, \"B\": 2, \"C\": 3, \"D\": 4, \"E\": 5, \"F\": 6, \"G\": 7, \"U\": 8}\r\n",
        "#test['Cabin'] = test['Cabin'].fillna(\"U0\")\r\n",
        "#test['Deck'] = test['Cabin'].map(lambda x: re.compile(\"([a-zA-Z]+)\").search(x).group())\r\n",
        "#test['Deck'] = test['Deck'].map(deck)\r\n",
        "#test['Deck'] = test['Deck'].fillna(0)\r\n",
        "#test['Deck'] = test['Deck'].astype(int)   "
      ],
      "execution_count": 4,
      "outputs": []
    },
    {
      "cell_type": "code",
      "metadata": {
        "colab": {
          "base_uri": "https://localhost:8080/",
          "height": 255
        },
        "id": "fuw-77isKkwJ",
        "outputId": "a8e3c827-f15a-4a9c-f866-0d66b865ccbd"
      },
      "source": [
        "X.head()"
      ],
      "execution_count": 5,
      "outputs": [
        {
          "output_type": "execute_result",
          "data": {
            "text/html": [
              "<div>\n",
              "<style scoped>\n",
              "    .dataframe tbody tr th:only-of-type {\n",
              "        vertical-align: middle;\n",
              "    }\n",
              "\n",
              "    .dataframe tbody tr th {\n",
              "        vertical-align: top;\n",
              "    }\n",
              "\n",
              "    .dataframe thead th {\n",
              "        text-align: right;\n",
              "    }\n",
              "</style>\n",
              "<table border=\"1\" class=\"dataframe\">\n",
              "  <thead>\n",
              "    <tr style=\"text-align: right;\">\n",
              "      <th></th>\n",
              "      <th>PassengerId</th>\n",
              "      <th>Pclass</th>\n",
              "      <th>Name</th>\n",
              "      <th>Sex</th>\n",
              "      <th>Age</th>\n",
              "      <th>SibSp</th>\n",
              "      <th>Parch</th>\n",
              "      <th>Ticket</th>\n",
              "      <th>Fare</th>\n",
              "      <th>Cabin</th>\n",
              "      <th>Embarked</th>\n",
              "    </tr>\n",
              "  </thead>\n",
              "  <tbody>\n",
              "    <tr>\n",
              "      <th>0</th>\n",
              "      <td>1</td>\n",
              "      <td>3</td>\n",
              "      <td>Braund, Mr. Owen Harris</td>\n",
              "      <td>male</td>\n",
              "      <td>22.0</td>\n",
              "      <td>1</td>\n",
              "      <td>0</td>\n",
              "      <td>A/5 21171</td>\n",
              "      <td>7.2500</td>\n",
              "      <td>NaN</td>\n",
              "      <td>S</td>\n",
              "    </tr>\n",
              "    <tr>\n",
              "      <th>1</th>\n",
              "      <td>2</td>\n",
              "      <td>1</td>\n",
              "      <td>Cumings, Mrs. John Bradley (Florence Briggs Th...</td>\n",
              "      <td>female</td>\n",
              "      <td>38.0</td>\n",
              "      <td>1</td>\n",
              "      <td>0</td>\n",
              "      <td>PC 17599</td>\n",
              "      <td>71.2833</td>\n",
              "      <td>C85</td>\n",
              "      <td>C</td>\n",
              "    </tr>\n",
              "    <tr>\n",
              "      <th>2</th>\n",
              "      <td>3</td>\n",
              "      <td>3</td>\n",
              "      <td>Heikkinen, Miss. Laina</td>\n",
              "      <td>female</td>\n",
              "      <td>26.0</td>\n",
              "      <td>0</td>\n",
              "      <td>0</td>\n",
              "      <td>STON/O2. 3101282</td>\n",
              "      <td>7.9250</td>\n",
              "      <td>NaN</td>\n",
              "      <td>S</td>\n",
              "    </tr>\n",
              "    <tr>\n",
              "      <th>3</th>\n",
              "      <td>4</td>\n",
              "      <td>1</td>\n",
              "      <td>Futrelle, Mrs. Jacques Heath (Lily May Peel)</td>\n",
              "      <td>female</td>\n",
              "      <td>35.0</td>\n",
              "      <td>1</td>\n",
              "      <td>0</td>\n",
              "      <td>113803</td>\n",
              "      <td>53.1000</td>\n",
              "      <td>C123</td>\n",
              "      <td>S</td>\n",
              "    </tr>\n",
              "    <tr>\n",
              "      <th>4</th>\n",
              "      <td>5</td>\n",
              "      <td>3</td>\n",
              "      <td>Allen, Mr. William Henry</td>\n",
              "      <td>male</td>\n",
              "      <td>35.0</td>\n",
              "      <td>0</td>\n",
              "      <td>0</td>\n",
              "      <td>373450</td>\n",
              "      <td>8.0500</td>\n",
              "      <td>NaN</td>\n",
              "      <td>S</td>\n",
              "    </tr>\n",
              "  </tbody>\n",
              "</table>\n",
              "</div>"
            ],
            "text/plain": [
              "   PassengerId  Pclass  ... Cabin Embarked\n",
              "0            1       3  ...   NaN        S\n",
              "1            2       1  ...   C85        C\n",
              "2            3       3  ...   NaN        S\n",
              "3            4       1  ...  C123        S\n",
              "4            5       3  ...   NaN        S\n",
              "\n",
              "[5 rows x 11 columns]"
            ]
          },
          "metadata": {
            "tags": []
          },
          "execution_count": 5
        }
      ]
    },
    {
      "cell_type": "code",
      "metadata": {
        "id": "qhs3EjKuabeq"
      },
      "source": [
        "from sklearn.base import BaseEstimator, TransformerMixin\n",
        "import re\n",
        "\n",
        "def extraiPronome(nome):\n",
        "    return nome.split(',')[1].split('.')[0].strip()\n",
        "\n",
        "def extraiFamilia(nome):\n",
        "    return nome.split(',')[0].strip()\n",
        "\n",
        "#decks = {\"A\": 1, \"B\": 2, \"C\": 3, \"D\": 4, \"E\": 5, \"F\": 6, \"G\": 7, \"U\": 8}\n",
        "\n",
        "#def extraiDeck(cabin):\n",
        "#    deck = re.findall(\"([a-zA-Z]+)\", cabin)[0]\n",
        "#    deck = decks.get(deck,0)\n",
        "#    deck = deck if deck is not None else 0\n",
        "#    return int(deck)\n",
        "  \n",
        "class AtributosDesejados(BaseEstimator, TransformerMixin):\n",
        "    def __init__(self, excluirName=True, excluirFamily=True, excluirAloneAndRelativies=True):#, excluirDeck=True):\n",
        "        self.excluirName = excluirName\n",
        "        self.excluirFamily = excluirFamily\n",
        "        self.excluirAloneAndRelativies = excluirAloneAndRelativies\n",
        "        #self.excluirDeck = excluirDeck\n",
        "\n",
        "    def fit(self, X, y=None):\n",
        "        self.colunasIndesejadas = ['PassengerId', 'Ticket', 'Cabin']\n",
        "        \n",
        "        #Identificação da familia\n",
        "        X[\"Family\"] = X[\"Name\"]\n",
        "        #Informações sobre parentes e se estava sozinho ou não\n",
        "        X[\"Relatives\"] = 0\n",
        "        X[\"Alone\"] = 0\n",
        "\n",
        "        X['Cabin'] = X['Cabin'].fillna(\"U0\")\n",
        "        #X['Deck'] = 0\n",
        "\n",
        "        if self.excluirName:\n",
        "            self.colunasIndesejadas.append('Name')\n",
        "        if self.excluirFamily:\n",
        "            self.colunasIndesejadas.append('Family')\n",
        "        if self.excluirAloneAndRelativies:\n",
        "            self.colunasIndesejadas.append('Alone')\n",
        "            self.colunasIndesejadas.append('Relatives')\n",
        "        #if self.excluirDeck:\n",
        "        #    self.colunasIndesejadas.append('Deck')\n",
        "          \n",
        "        return self\n",
        "    def transform(self, X, y=None):\n",
        "        Xdrop = X.drop(self.colunasIndesejadas,axis=1)\n",
        "        \n",
        "        if 'Alone' not in self.colunasIndesejadas:\n",
        "          Xdrop[\"Relatives\"] = Xdrop[\"SibSp\"] + Xdrop[\"Parch\"]\n",
        "          Xdrop['Alone'] = np.where( Xdrop['Relatives'] > 0, 0, 1)\n",
        "\n",
        "        #if 'Deck' not in self.colunasIndesejadas:\n",
        "        #  Xdrop['Deck'] = Xdrop['Cabin'].apply(extraiDeck)\n",
        "        \n",
        "        #Coluna Cabin será excluída independentemente de qualquer tratamento\n",
        "        #Xdrop = Xdrop.drop('Cabin',axis=1)\n",
        "\n",
        "        if 'Name' not in self.colunasIndesejadas:\n",
        "            Xdrop['Name'] = Xdrop['Name'].apply(extraiPronome)\n",
        "\n",
        "            # substituir títulos com um título mais comum ou como Rare\n",
        "            Xdrop['Name'] = Xdrop['Name'].replace(['Lady', 'Countess','Capt', 'Col','Don', 'Dr',\\\n",
        "                                                    'Major', 'Rev', 'Sir', 'Jonkheer', 'Dona'], 'Rare')\n",
        "            Xdrop['Name'] = Xdrop['Name'].replace('Mlle', 'Miss')\n",
        "            Xdrop['Name'] = Xdrop['Name'].replace('Ms', 'Miss')\n",
        "            Xdrop['Name'] = Xdrop['Name'].replace('Mme', 'Mrs')\n",
        "            \n",
        "        if 'Family' not in self.colunasIndesejadas:\n",
        "            Xdrop['Family'] = Xdrop['Family'].apply(extraiFamilia)\n",
        "        return Xdrop\n"
      ],
      "execution_count": 6,
      "outputs": []
    },
    {
      "cell_type": "code",
      "metadata": {
        "colab": {
          "base_uri": "https://localhost:8080/",
          "height": 204
        },
        "id": "D_WNUBWaczl1",
        "outputId": "1abde2a7-9987-4d86-9c56-190094e087c3"
      },
      "source": [
        "#Teste\r\n",
        "atributosDesejados = AtributosDesejados(excluirName=False,excluirFamily=False,excluirAloneAndRelativies=False)#,excluirDeck=False)\r\n",
        "a = atributosDesejados.fit_transform(X)\r\n",
        "a.head()"
      ],
      "execution_count": 7,
      "outputs": [
        {
          "output_type": "execute_result",
          "data": {
            "text/html": [
              "<div>\n",
              "<style scoped>\n",
              "    .dataframe tbody tr th:only-of-type {\n",
              "        vertical-align: middle;\n",
              "    }\n",
              "\n",
              "    .dataframe tbody tr th {\n",
              "        vertical-align: top;\n",
              "    }\n",
              "\n",
              "    .dataframe thead th {\n",
              "        text-align: right;\n",
              "    }\n",
              "</style>\n",
              "<table border=\"1\" class=\"dataframe\">\n",
              "  <thead>\n",
              "    <tr style=\"text-align: right;\">\n",
              "      <th></th>\n",
              "      <th>Pclass</th>\n",
              "      <th>Name</th>\n",
              "      <th>Sex</th>\n",
              "      <th>Age</th>\n",
              "      <th>SibSp</th>\n",
              "      <th>Parch</th>\n",
              "      <th>Fare</th>\n",
              "      <th>Embarked</th>\n",
              "      <th>Family</th>\n",
              "      <th>Relatives</th>\n",
              "      <th>Alone</th>\n",
              "    </tr>\n",
              "  </thead>\n",
              "  <tbody>\n",
              "    <tr>\n",
              "      <th>0</th>\n",
              "      <td>3</td>\n",
              "      <td>Mr</td>\n",
              "      <td>male</td>\n",
              "      <td>22.0</td>\n",
              "      <td>1</td>\n",
              "      <td>0</td>\n",
              "      <td>7.2500</td>\n",
              "      <td>S</td>\n",
              "      <td>Braund</td>\n",
              "      <td>1</td>\n",
              "      <td>0</td>\n",
              "    </tr>\n",
              "    <tr>\n",
              "      <th>1</th>\n",
              "      <td>1</td>\n",
              "      <td>Mrs</td>\n",
              "      <td>female</td>\n",
              "      <td>38.0</td>\n",
              "      <td>1</td>\n",
              "      <td>0</td>\n",
              "      <td>71.2833</td>\n",
              "      <td>C</td>\n",
              "      <td>Cumings</td>\n",
              "      <td>1</td>\n",
              "      <td>0</td>\n",
              "    </tr>\n",
              "    <tr>\n",
              "      <th>2</th>\n",
              "      <td>3</td>\n",
              "      <td>Miss</td>\n",
              "      <td>female</td>\n",
              "      <td>26.0</td>\n",
              "      <td>0</td>\n",
              "      <td>0</td>\n",
              "      <td>7.9250</td>\n",
              "      <td>S</td>\n",
              "      <td>Heikkinen</td>\n",
              "      <td>0</td>\n",
              "      <td>1</td>\n",
              "    </tr>\n",
              "    <tr>\n",
              "      <th>3</th>\n",
              "      <td>1</td>\n",
              "      <td>Mrs</td>\n",
              "      <td>female</td>\n",
              "      <td>35.0</td>\n",
              "      <td>1</td>\n",
              "      <td>0</td>\n",
              "      <td>53.1000</td>\n",
              "      <td>S</td>\n",
              "      <td>Futrelle</td>\n",
              "      <td>1</td>\n",
              "      <td>0</td>\n",
              "    </tr>\n",
              "    <tr>\n",
              "      <th>4</th>\n",
              "      <td>3</td>\n",
              "      <td>Mr</td>\n",
              "      <td>male</td>\n",
              "      <td>35.0</td>\n",
              "      <td>0</td>\n",
              "      <td>0</td>\n",
              "      <td>8.0500</td>\n",
              "      <td>S</td>\n",
              "      <td>Allen</td>\n",
              "      <td>0</td>\n",
              "      <td>1</td>\n",
              "    </tr>\n",
              "  </tbody>\n",
              "</table>\n",
              "</div>"
            ],
            "text/plain": [
              "   Pclass  Name     Sex   Age  ...  Embarked     Family  Relatives Alone\n",
              "0       3    Mr    male  22.0  ...         S     Braund          1     0\n",
              "1       1   Mrs  female  38.0  ...         C    Cumings          1     0\n",
              "2       3  Miss  female  26.0  ...         S  Heikkinen          0     1\n",
              "3       1   Mrs  female  35.0  ...         S   Futrelle          1     0\n",
              "4       3    Mr    male  35.0  ...         S      Allen          0     1\n",
              "\n",
              "[5 rows x 11 columns]"
            ]
          },
          "metadata": {
            "tags": []
          },
          "execution_count": 7
        }
      ]
    },
    {
      "cell_type": "code",
      "metadata": {
        "id": "ICGVinTPK2LM"
      },
      "source": [
        "#a.select_dtypes(include='number').columns"
      ],
      "execution_count": 8,
      "outputs": []
    },
    {
      "cell_type": "code",
      "metadata": {
        "id": "XtD0jt5daber"
      },
      "source": [
        "from sklearn.base import BaseEstimator, TransformerMixin\n",
        "\n",
        "class AtributosNumericos(BaseEstimator, TransformerMixin):\n",
        "    def fit(self, X, y=None):\n",
        "        self.colunasNumericas = X.select_dtypes(include='number').columns\n",
        "        return self\n",
        "    def transform(self, X, y=None):\n",
        "        return X[self.colunasNumericas].to_numpy()\n"
      ],
      "execution_count": 9,
      "outputs": []
    },
    {
      "cell_type": "code",
      "metadata": {
        "colab": {
          "base_uri": "https://localhost:8080/"
        },
        "id": "rAF7TwDQMchw",
        "outputId": "e9fcab11-75c0-4fff-d5a4-53dd199b6478"
      },
      "source": [
        "#Teste\r\n",
        "atribNum = AtributosNumericos()\r\n",
        "numerics = atribNum.fit_transform(X)\r\n",
        "numerics"
      ],
      "execution_count": 10,
      "outputs": [
        {
          "output_type": "execute_result",
          "data": {
            "text/plain": [
              "array([[  1.    ,   3.    ,  22.    , ...,   7.25  ,   0.    ,   0.    ],\n",
              "       [  2.    ,   1.    ,  38.    , ...,  71.2833,   0.    ,   0.    ],\n",
              "       [  3.    ,   3.    ,  26.    , ...,   7.925 ,   0.    ,   0.    ],\n",
              "       ...,\n",
              "       [889.    ,   3.    ,      nan, ...,  23.45  ,   0.    ,   0.    ],\n",
              "       [890.    ,   1.    ,  26.    , ...,  30.    ,   0.    ,   0.    ],\n",
              "       [891.    ,   3.    ,  32.    , ...,   7.75  ,   0.    ,   0.    ]])"
            ]
          },
          "metadata": {
            "tags": []
          },
          "execution_count": 10
        }
      ]
    },
    {
      "cell_type": "code",
      "metadata": {
        "id": "Pw8zgYO1aber"
      },
      "source": [
        "from sklearn.base import BaseEstimator, TransformerMixin\n",
        "\n",
        "class AtributosCategoricos(BaseEstimator, TransformerMixin):\n",
        "    def fit(self, X, y=None):\n",
        "        self.colunasCategoricas = X.select_dtypes(include='object').columns\n",
        "        return self\n",
        "    def transform(self, X, y=None):\n",
        "        return X[self.colunasCategoricas].to_numpy()\n"
      ],
      "execution_count": 11,
      "outputs": []
    },
    {
      "cell_type": "code",
      "metadata": {
        "colab": {
          "base_uri": "https://localhost:8080/"
        },
        "id": "7IyhVAWe1q63",
        "outputId": "96d8ddab-b5d0-4e73-a496-d9f225156993"
      },
      "source": [
        "#Teste\r\n",
        "atribCateg = AtributosCategoricos()\r\n",
        "teste = atribCateg.fit_transform(a)\r\n",
        "print(atribCateg.colunasCategoricas)\r\n",
        "print(teste)"
      ],
      "execution_count": 12,
      "outputs": [
        {
          "output_type": "stream",
          "text": [
            "Index(['Name', 'Sex', 'Embarked', 'Family'], dtype='object')\n",
            "[['Mr' 'male' 'S' 'Braund']\n",
            " ['Mrs' 'female' 'C' 'Cumings']\n",
            " ['Miss' 'female' 'S' 'Heikkinen']\n",
            " ...\n",
            " ['Miss' 'female' 'S' 'Johnston']\n",
            " ['Mr' 'male' 'C' 'Behr']\n",
            " ['Mr' 'male' 'Q' 'Dooley']]\n"
          ],
          "name": "stdout"
        }
      ]
    },
    {
      "cell_type": "code",
      "metadata": {
        "id": "sbEuH1_Qaber"
      },
      "source": [
        "from sklearn.impute import SimpleImputer\n",
        "from sklearn.preprocessing import OneHotEncoder, StandardScaler\n",
        "from sklearn.pipeline import Pipeline, FeatureUnion\n",
        "\n",
        "trataAtributos = Pipeline([\n",
        "    ('unecaracteristicas', FeatureUnion([\n",
        "        ('pipenum', Pipeline([\n",
        "            ('atributos_numericos', AtributosNumericos()),\n",
        "            ('imputer', SimpleImputer(strategy='median')),\n",
        "            ('scaler', StandardScaler())\n",
        "        ])),\n",
        "        ('pipecat', Pipeline([\n",
        "            ('atributos_categoricos', AtributosCategoricos()),\n",
        "            ('imputer', SimpleImputer(strategy='most_frequent')),\n",
        "            ('encoder', OneHotEncoder(handle_unknown='ignore'))\n",
        "        ]))\n",
        "    ])),\n",
        "])\n"
      ],
      "execution_count": 13,
      "outputs": []
    },
    {
      "cell_type": "code",
      "metadata": {
        "colab": {
          "base_uri": "https://localhost:8080/"
        },
        "id": "b3Znw3lFabes",
        "outputId": "469f3a69-c6ad-42d9-f5fb-8a11a030217d"
      },
      "source": [
        "from sklearn.ensemble import RandomForestClassifier\n",
        "from sklearn.model_selection import GridSearchCV, cross_validate, RepeatedKFold\n",
        "import numpy as np\n",
        "\n",
        "pipetotal = Pipeline([\n",
        "    ('atributosDesejados', AtributosDesejados()),\n",
        "    ('trataAtributos', trataAtributos),\n",
        "    ('classificador', RandomForestClassifier(n_jobs=-1))\n",
        "])\n",
        "\n",
        "parametros = {\n",
        "    'atributosDesejados__excluirName': [False],\n",
        "    'atributosDesejados__excluirFamily': [False],\n",
        "    'atributosDesejados__excluirAloneAndRelativies': [False],\n",
        "    #'atributosDesejados__excluirDeck': [True],\n",
        "    'classificador__max_depth': list(range(6,20,4)),\n",
        "    'classificador__criterion': ['gini', 'entropy'],\n",
        "    'classificador__n_estimators': [100]\n",
        "}\n",
        "modelo = GridSearchCV(pipetotal, param_grid=parametros, verbose=1,scoring='accuracy')\n",
        "\n",
        "scores = cross_validate(modelo, X, y, cv=RepeatedKFold())\n",
        "scores['test_score'], np.mean(scores['test_score']), np.std(scores['test_score'])"
      ],
      "execution_count": 14,
      "outputs": [
        {
          "output_type": "stream",
          "text": [
            "Fitting 5 folds for each of 8 candidates, totalling 40 fits\n"
          ],
          "name": "stdout"
        },
        {
          "output_type": "stream",
          "text": [
            "[Parallel(n_jobs=1)]: Using backend SequentialBackend with 1 concurrent workers.\n",
            "/usr/local/lib/python3.7/dist-packages/ipykernel_launcher.py:29: SettingWithCopyWarning: \n"
          ],
          "name": "stderr"
        },
        {
          "output_type": "execute_result",
          "data": {
            "text/plain": [
              "(array([0.88826816, 0.83146067, 0.78651685, 0.79775281, 0.84269663,\n",
              "        0.81005587, 0.84831461, 0.80337079, 0.85955056, 0.81460674,\n",
              "        0.82122905, 0.85955056, 0.78089888, 0.85393258, 0.84269663,\n",
              "        0.8547486 , 0.83146067, 0.84269663, 0.80898876, 0.82022472,\n",
              "        0.83240223, 0.8258427 , 0.83707865, 0.83707865, 0.83146067,\n",
              "        0.82681564, 0.84269663, 0.86516854, 0.80337079, 0.82022472,\n",
              "        0.88826816, 0.80337079, 0.82022472, 0.84269663, 0.8258427 ,\n",
              "        0.77653631, 0.85393258, 0.84831461, 0.84831461, 0.82022472,\n",
              "        0.82122905, 0.86516854, 0.80337079, 0.81460674, 0.85393258,\n",
              "        0.80446927, 0.83707865, 0.83707865, 0.82022472, 0.8258427 ]),\n",
              " 0.830637750298161,\n",
              " 0.02410014273995464)"
            ]
          },
          "metadata": {
            "tags": []
          },
          "execution_count": 14
        }
      ]
    },
    {
      "cell_type": "code",
      "metadata": {
        "id": "Y9J5zfnAIXsX"
      },
      "source": [
        "#Adicionado Tratamento específico de pronomes de tratamento     -0.77751 no kaggle\r\n",
        "#(array([0.8603352 , 0.82022472, 0.84269663, 0.80898876, 0.82022472,\r\n",
        "#        0.8603352 , 0.84831461, 0.7752809 , 0.8258427 , 0.8258427 ,\r\n",
        "#        0.7877095 , 0.83146067, 0.83146067, 0.83707865, 0.78089888,\r\n",
        "#        0.87150838, 0.80337079, 0.80337079, 0.82022472, 0.8258427 ,\r\n",
        "#        0.81005587, 0.81460674, 0.85955056, 0.86516854, 0.83707865,\r\n",
        "#        0.82681564, 0.83707865, 0.78651685, 0.82022472, 0.8258427 ,\r\n",
        "#        0.82122905, 0.8258427 , 0.83707865, 0.84831461, 0.81460674,\r\n",
        "#        0.79329609, 0.80898876, 0.85393258, 0.83707865, 0.81460674,\r\n",
        "#        0.8547486 , 0.80337079, 0.81460674, 0.82022472, 0.83707865,\r\n",
        "#        0.86592179, 0.83707865, 0.76404494, 0.85955056, 0.80337079]),\r\n",
        "# 0.825578431987948,\r\n",
        "# 0.024384320007491786)\r\n",
        "\r\n",
        "\r\n",
        "#Adicionado True or False Name (antes estava só false)  -0.78947 no kaggle\r\n",
        "#(array([0.82122905, 0.8258427 , 0.80898876, 0.83707865, 0.80898876,\r\n",
        "#        0.7877095 , 0.7752809 , 0.85955056, 0.87078652, 0.8258427 ,\r\n",
        "#        0.8547486 , 0.80898876, 0.80337079, 0.85393258, 0.83146067,\r\n",
        "#        0.82681564, 0.83146067, 0.86516854, 0.79775281, 0.8258427 ,\r\n",
        "#        0.84357542, 0.82022472, 0.84269663, 0.85393258, 0.78651685,\r\n",
        "#        0.8603352 , 0.84831461, 0.83707865, 0.78651685, 0.82022472,\r\n",
        "#        0.83240223, 0.8258427 , 0.81460674, 0.83146067, 0.80337079,\r\n",
        "#        0.82681564, 0.84269663, 0.83146067, 0.8258427 , 0.82022472,\r\n",
        "#        0.8547486 , 0.81460674, 0.84831461, 0.78089888, 0.83707865,\r\n",
        "#        0.84916201, 0.83146067, 0.81460674, 0.79775281, 0.80337079]),\r\n",
        "# 0.8261396020337705,\r\n",
        "# 0.02267974418906704)\r\n",
        "\r\n",
        "#Adicionado Deck  -0.78708 no kaggle\r\n",
        "#(array([0.82122905, 0.80898876, 0.81460674, 0.83707865, 0.80898876,\r\n",
        "#        0.83798883, 0.82022472, 0.86516854, 0.8258427 , 0.86516854,\r\n",
        "#        0.7877095 , 0.84269663, 0.80898876, 0.84831461, 0.83146067,\r\n",
        "#        0.81005587, 0.83707865, 0.80337079, 0.83707865, 0.84269663,\r\n",
        "#        0.84357542, 0.85393258, 0.81460674, 0.83707865, 0.79213483,\r\n",
        "#        0.7877095 , 0.84831461, 0.79775281, 0.8258427 , 0.80337079,\r\n",
        "#        0.81005587, 0.81460674, 0.83707865, 0.8258427 , 0.83707865,\r\n",
        "#        0.84916201, 0.87078652, 0.78089888, 0.84831461, 0.84269663,\r\n",
        "#        0.80446927, 0.85955056, 0.83707865, 0.84269663, 0.81460674,\r\n",
        "#        0.84357542, 0.87078652, 0.82022472, 0.78089888, 0.85393258]),\r\n",
        "# 0.8280679178959263,\r\n",
        "# 0.023137238859978912)\r\n",
        "\r\n",
        "#Adicionado alone e relativies  -0.78468 no Kaggle\r\n",
        "#(array([0.81564246, 0.85393258, 0.84831461, 0.79775281, 0.83146067,\r\n",
        "#        0.82122905, 0.85393258, 0.83146067, 0.80898876, 0.84831461,\r\n",
        "#        0.83240223, 0.83707865, 0.85393258, 0.78089888, 0.85955056,\r\n",
        "#        0.87150838, 0.84831461, 0.80337079, 0.8258427 , 0.7752809 ,\r\n",
        "#        0.8547486 , 0.83146067, 0.83146067, 0.84269663, 0.80337079,\r\n",
        "#        0.83798883, 0.78651685, 0.84269663, 0.82022472, 0.85393258,\r\n",
        "#        0.82122905, 0.79775281, 0.83707865, 0.85955056, 0.84269663,\r\n",
        "#        0.88268156, 0.85393258, 0.8258427 , 0.78651685, 0.80898876,\r\n",
        "#        0.83798883, 0.84269663, 0.83146067, 0.83707865, 0.81460674,\r\n",
        "#        0.82122905, 0.84269663, 0.84831461, 0.81460674, 0.82022472]),\r\n",
        "# 0.8306295901073381,\r\n",
        "# 0.023172191084298816)\r\n",
        "\r\n",
        "#ca(array([0.86592179, 0.81460674, 0.84269663, 0.81460674, 0.78651685,\r\n",
        "#        0.80446927, 0.85955056, 0.84269663, 0.8258427 , 0.82022472,\r\n",
        "#        0.83798883, 0.84269663, 0.84269663, 0.79213483, 0.81460674,\r\n",
        "#        0.83240223, 0.83146067, 0.79775281, 0.83707865, 0.8258427 ,\r\n",
        "#        0.87709497, 0.78089888, 0.82022472, 0.85955056, 0.8258427 ,\r\n",
        "#        0.78212291, 0.82022472, 0.87078652, 0.81460674, 0.80337079,\r\n",
        "#        0.79329609, 0.87078652, 0.84831461, 0.81460674, 0.84269663,\r\n",
        "#        0.81005587, 0.80898876, 0.84269663, 0.84831461, 0.83707865,\r\n",
        "#        0.8603352 , 0.82022472, 0.79213483, 0.81460674, 0.84831461,\r\n",
        "#        0.88826816, 0.80898876, 0.82022472, 0.80898876, 0.81460674]),\r\n",
        "# 0.8276009038980603,\r\n",
        "# 0.025248706148010325)"
      ],
      "execution_count": null,
      "outputs": []
    },
    {
      "cell_type": "code",
      "metadata": {
        "id": "N4xSnqOUabet"
      },
      "source": [
        "modelo.fit(X,y)\n",
        "y_pred = modelo.predict(test)\n",
        "result = test[['PassengerId']]\n",
        "result['Survived'] = y_pred\n",
        "result.to_csv('submission.csv',index=False)"
      ],
      "execution_count": null,
      "outputs": []
    },
    {
      "cell_type": "code",
      "metadata": {
        "id": "6jTMAL9nJLOT"
      },
      "source": [
        "!kaggle competitions submit -c titanic -f submission.csv -m \"new submission\""
      ],
      "execution_count": null,
      "outputs": []
    },
    {
      "cell_type": "code",
      "metadata": {
        "id": "Tt72tZ93xEbV"
      },
      "source": [
        ""
      ],
      "execution_count": null,
      "outputs": []
    }
  ]
}