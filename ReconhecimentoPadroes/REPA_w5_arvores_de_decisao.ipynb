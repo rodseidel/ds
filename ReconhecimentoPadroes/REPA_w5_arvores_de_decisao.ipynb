{
  "nbformat": 4,
  "nbformat_minor": 0,
  "metadata": {
    "colab": {
      "name": "REPA_w5_arvores_de_decisao.ipynb",
      "provenance": [],
      "collapsed_sections": [],
      "toc_visible": true
    },
    "kernelspec": {
      "name": "python3",
      "display_name": "Python 3"
    }
  },
  "cells": [
    {
      "cell_type": "markdown",
      "metadata": {
        "id": "MXc5u_RQQGao"
      },
      "source": [
        "#Enunciado"
      ]
    },
    {
      "cell_type": "markdown",
      "metadata": {
        "id": "JiUpbnz0AC2Z"
      },
      "source": [
        "*  Crie a sua heurística **para escolher a melhor característica para um nó de uma árvore de decisão** e compare com a implementação feita nos vídeos postados nesse tópico aqui no AVA e com a implementação do scikit learn.\n",
        "\n",
        "*  Faça comparações plotando as regiões de decisão com resubstituição para a base iris e as características usadas nos vídeos.\n",
        "\n",
        "*  Também faça comparações usando validação cruzada com pelo menos 3 bases de classificação com atributos contínuos.\n",
        "\n",
        "*  Escreva um parágrafo expondo sua interpretação dos resultados obtidos."
      ]
    },
    {
      "cell_type": "markdown",
      "metadata": {
        "id": "F8V4-oKXQNA3"
      },
      "source": [
        "#Preparação"
      ]
    },
    {
      "cell_type": "code",
      "metadata": {
        "id": "XnjOdrjf_4L4"
      },
      "source": [
        "from sklearn.datasets import load_iris\n",
        "import numpy as np\n",
        "import matplotlib.pyplot as plt\n",
        "from sklearn.metrics import accuracy_score\n",
        "from collections import Counter\n",
        "from sklearn.base import BaseEstimator, ClassifierMixin\n",
        "from scipy import stats\n",
        "from sklearn.tree import DecisionTreeClassifier\n",
        "import zipfile\n",
        "import pandas as pd\n",
        "from sklearn.preprocessing import OrdinalEncoder\n",
        "from sklearn.model_selection import cross_validate"
      ],
      "execution_count": 1,
      "outputs": []
    },
    {
      "cell_type": "code",
      "metadata": {
        "colab": {
          "base_uri": "https://localhost:8080/"
        },
        "id": "10rOaZByBZ2z",
        "outputId": "718fc592-039b-417f-ebad-2855099d6eec"
      },
      "source": [
        "iris = load_iris()\n",
        "iris.feature_names,iris.target_names"
      ],
      "execution_count": 2,
      "outputs": [
        {
          "output_type": "execute_result",
          "data": {
            "text/plain": [
              "(['sepal length (cm)',\n",
              "  'sepal width (cm)',\n",
              "  'petal length (cm)',\n",
              "  'petal width (cm)'],\n",
              " array(['setosa', 'versicolor', 'virginica'], dtype='<U10'))"
            ]
          },
          "metadata": {
            "tags": []
          },
          "execution_count": 2
        }
      ]
    },
    {
      "cell_type": "code",
      "metadata": {
        "colab": {
          "base_uri": "https://localhost:8080/"
        },
        "id": "Tg4DfOC6Bb3s",
        "outputId": "17321808-627b-4295-8374-4775cb11c202"
      },
      "source": [
        "X, y = iris.data[:,2:], iris.target\n",
        "X.shape, y.shape"
      ],
      "execution_count": 3,
      "outputs": [
        {
          "output_type": "execute_result",
          "data": {
            "text/plain": [
              "((150, 2), (150,))"
            ]
          },
          "metadata": {
            "tags": []
          },
          "execution_count": 3
        }
      ]
    },
    {
      "cell_type": "code",
      "metadata": {
        "colab": {
          "base_uri": "https://localhost:8080/"
        },
        "id": "39d7OODLCQ1i",
        "outputId": "02fdd3b0-bcfd-4daf-937e-92e2a7dc8a79"
      },
      "source": [
        "combinacoes = 1\n",
        "for i in range(X.shape[1]):\n",
        "    valores = set(X[:,i])\n",
        "    combinacoes *= len(valores)\n",
        "    print(valores)\n",
        "print(combinacoes)"
      ],
      "execution_count": 4,
      "outputs": [
        {
          "output_type": "stream",
          "text": [
            "{1.7, 1.4, 1.6, 1.3, 1.5, 1.1, 1.2, 1.0, 1.9, 4.7, 4.5, 4.9, 4.0, 5.0, 6.0, 3.5, 3.0, 4.6, 4.4, 4.1, 5.1, 5.9, 5.6, 5.5, 5.4, 6.6, 6.1, 6.9, 6.4, 3.6, 3.3, 3.8, 3.7, 4.2, 4.8, 4.3, 5.8, 5.3, 5.7, 5.2, 6.3, 6.7, 3.9}\n",
            "{0.2, 0.4, 0.3, 0.5, 0.6, 1.4, 1.5, 1.3, 1.6, 1.0, 1.1, 2.5, 2.0, 2.1, 1.2, 1.7, 0.1, 2.2, 2.3, 1.8, 1.9, 2.4}\n",
            "946\n"
          ],
          "name": "stdout"
        }
      ]
    },
    {
      "cell_type": "markdown",
      "metadata": {
        "id": "bUr3tJX_FLyV"
      },
      "source": [
        "\n",
        "#Heurística própria"
      ]
    },
    {
      "cell_type": "code",
      "metadata": {
        "colab": {
          "base_uri": "https://localhost:8080/"
        },
        "id": "mKf_EZBEDQ1e",
        "outputId": "9554837e-88b6-49cb-ef3e-c06aa3327919"
      },
      "source": [
        "#OPÇÕES\n",
        "#Gini\n",
        "#Entropia\n",
        "#Chi quadrado\n",
        "\n",
        "def impureza_new(y): #Utilizada Entropia no lugar de Gini\n",
        "    labels = list(set(y))\n",
        "    labels.sort()\n",
        "    probabilidades = np.zeros((len(labels),))\n",
        "    \n",
        "    for i,k in enumerate(labels):\n",
        "        sucesso = sum(y==k)/len(y)\n",
        "        #falha = sum(y!=k)/len(y)\n",
        "        #probabilidades[i] = -sucesso*np.log2(sucesso)-falha*np.log2(falha) #prob sucesso\n",
        "        probabilidades[i] = -(sucesso)*np.log2(sucesso)\n",
        "    result = sum(probabilidades)\n",
        "    return result\n",
        "\n",
        "ytmp = y[:]\n",
        "valor = impureza_new(ytmp)\n",
        "valor"
      ],
      "execution_count": 5,
      "outputs": [
        {
          "output_type": "execute_result",
          "data": {
            "text/plain": [
              "1.584962500721156"
            ]
          },
          "metadata": {
            "tags": []
          },
          "execution_count": 5
        }
      ]
    },
    {
      "cell_type": "code",
      "metadata": {
        "colab": {
          "base_uri": "https://localhost:8080/"
        },
        "id": "IoKmSA4SDmS7",
        "outputId": "1e328c9e-7f2a-4e74-e7a3-e52917701c01"
      },
      "source": [
        "def impurezaValor_new(x, y, valor):\n",
        "    maiores = x>valor\n",
        "    impurezaMaiores = impureza_new(y[maiores])\n",
        "    propMaiores = sum(maiores)/len(y)\n",
        "    impurezaMenores = impureza_new(y[~maiores])\n",
        "    propMenores = sum(~maiores)/len(y)\n",
        "    impurezaTotal = propMaiores*impurezaMaiores + propMenores*impurezaMenores\n",
        "    return impurezaTotal, impurezaMaiores, impurezaMenores\n",
        "impurezaValor_new(X[:,0], y, 2.5)"
      ],
      "execution_count": 6,
      "outputs": [
        {
          "output_type": "execute_result",
          "data": {
            "text/plain": [
              "(0.6666666666666666, 1.0, 0.0)"
            ]
          },
          "metadata": {
            "tags": []
          },
          "execution_count": 6
        }
      ]
    },
    {
      "cell_type": "code",
      "metadata": {
        "colab": {
          "base_uri": "https://localhost:8080/"
        },
        "id": "nnZiQqpZDxnd",
        "outputId": "9c8e02cf-2d8f-46b2-f32c-7dced10d99b0"
      },
      "source": [
        "def melhorValor_new(x, y):\n",
        "    result = None\n",
        "    menorImpureza = float('inf')\n",
        "    xmax = np.max(x)\n",
        "    xmin = np.min(x)\n",
        "   \n",
        "    #lista para cálculo da mediana dos valores que contém a mediana do x e os valores de min e max encontrados durante a execução\n",
        "    xlist = []\n",
        "    xlist.append(np.median(x))\n",
        "\n",
        "    while True:\n",
        "        valor = np.median(xlist) #np.median(x) ##stats.mode(x)[0][0]\n",
        "\n",
        "        impTotal, impMaiores, impMenores = impurezaValor_new(x, y, valor)\n",
        "        if impTotal < menorImpureza:\n",
        "            menorImpureza = impTotal\n",
        "            result = valor\n",
        "            if impMaiores == 0 or impMenores == 0:\n",
        "                break\n",
        "            if impMaiores < impMenores:\n",
        "                xmin = valor\n",
        "            else:\n",
        "                xmax = valor\n",
        "        else:\n",
        "            break\n",
        "        \n",
        "        xlist.append(xmax)\n",
        "        xlist.append(xmin)\n",
        "\n",
        "    return result, menorImpureza\n",
        "melhorValor_new(X[:,0], y)"
      ],
      "execution_count": 7,
      "outputs": [
        {
          "output_type": "execute_result",
          "data": {
            "text/plain": [
              "(4.35, 0.9182958340544896)"
            ]
          },
          "metadata": {
            "tags": []
          },
          "execution_count": 7
        }
      ]
    },
    {
      "cell_type": "code",
      "metadata": {
        "colab": {
          "base_uri": "https://localhost:8080/"
        },
        "id": "JTbIzPs3Ed46",
        "outputId": "48731cd5-e725-41f1-f5d0-f34a733eb18f"
      },
      "source": [
        "def melhorCaracteristica_new(X, y):\n",
        "    impurezas = []\n",
        "    valores = []\n",
        "    for caracteristica in range(X.shape[1]):\n",
        "        valor, imp = melhorValor_new(X[:,caracteristica], y)\n",
        "        impurezas.append(imp)\n",
        "        valores.append(valor)\n",
        "    impurezas = np.array(impurezas)\n",
        "    caracteristica = np.argmin(impurezas)\n",
        "    return caracteristica, valores[caracteristica], impurezas[caracteristica]\n",
        "print(melhorCaracteristica_new(X,y))"
      ],
      "execution_count": 8,
      "outputs": [
        {
          "output_type": "stream",
          "text": [
            "(1, 1.3, 0.9159794717999729)\n"
          ],
          "name": "stdout"
        }
      ]
    },
    {
      "cell_type": "code",
      "metadata": {
        "id": "plvTK2voN-XQ"
      },
      "source": [
        "def maisFrequente_new(y):\n",
        "    return Counter(y.flat).most_common(1)[0][0]"
      ],
      "execution_count": 9,
      "outputs": []
    },
    {
      "cell_type": "code",
      "metadata": {
        "colab": {
          "base_uri": "https://localhost:8080/"
        },
        "id": "aJFxWOgVOQOd",
        "outputId": "0191eb50-657a-49f5-b837-fe280a5a5555"
      },
      "source": [
        "class Arvore_new(BaseEstimator, ClassifierMixin):\n",
        "    def fit(self, X, y):\n",
        "        self.caracteristica, self.valor, self.imp = melhorCaracteristica_new(X,y)\n",
        "        maiores = X[:,self.caracteristica] > self.valor\n",
        "        if sum(maiores)>0 and sum(~maiores)>0:\n",
        "            self.maiores = Arvore_new()\n",
        "            self.maiores.fit(X[maiores,:],y[maiores])\n",
        "            self.menores = Arvore_new()\n",
        "            self.menores.fit(X[~maiores,:],y[~maiores])\n",
        "        else:\n",
        "            self.resposta = maisFrequente_new(y)\n",
        "    def predict(self, X):\n",
        "        y = np.empty((X.shape[0]))\n",
        "        if hasattr(self, 'resposta'):\n",
        "            y[:] = self.resposta\n",
        "        else:\n",
        "            maiores = X[:,self.caracteristica] > self.valor\n",
        "            y[maiores] = self.maiores.predict(X[maiores,:])\n",
        "            y[~maiores] = self.menores.predict(X[~maiores,:])\n",
        "        return y\n",
        "\n",
        "modelo = Arvore_new()\n",
        "modelo.fit(X,y)\n",
        "ypred = modelo.predict(X)\n",
        "accuracy_score(y, ypred), (ypred == y)"
      ],
      "execution_count": 10,
      "outputs": [
        {
          "output_type": "execute_result",
          "data": {
            "text/plain": [
              "(0.9933333333333333,\n",
              " array([ True,  True,  True,  True,  True,  True,  True,  True,  True,\n",
              "         True,  True,  True,  True,  True,  True,  True,  True,  True,\n",
              "         True,  True,  True,  True,  True,  True,  True,  True,  True,\n",
              "         True,  True,  True,  True,  True,  True,  True,  True,  True,\n",
              "         True,  True,  True,  True,  True,  True,  True,  True,  True,\n",
              "         True,  True,  True,  True,  True,  True,  True,  True,  True,\n",
              "         True,  True,  True,  True,  True,  True,  True,  True,  True,\n",
              "         True,  True,  True,  True,  True,  True,  True, False,  True,\n",
              "         True,  True,  True,  True,  True,  True,  True,  True,  True,\n",
              "         True,  True,  True,  True,  True,  True,  True,  True,  True,\n",
              "         True,  True,  True,  True,  True,  True,  True,  True,  True,\n",
              "         True,  True,  True,  True,  True,  True,  True,  True,  True,\n",
              "         True,  True,  True,  True,  True,  True,  True,  True,  True,\n",
              "         True,  True,  True,  True,  True,  True,  True,  True,  True,\n",
              "         True,  True,  True,  True,  True,  True,  True,  True,  True,\n",
              "         True,  True,  True,  True,  True,  True,  True,  True,  True,\n",
              "         True,  True,  True,  True,  True,  True]))"
            ]
          },
          "metadata": {
            "tags": []
          },
          "execution_count": 10
        }
      ]
    },
    {
      "cell_type": "markdown",
      "metadata": {
        "id": "FwXKg_WvP9vI"
      },
      "source": [
        "#Implementação da vídeo aula para comparação"
      ]
    },
    {
      "cell_type": "code",
      "metadata": {
        "colab": {
          "base_uri": "https://localhost:8080/"
        },
        "id": "3nOOurmlOQKq",
        "outputId": "ac3d8fa2-cc08-476c-a61c-42f94ce99177"
      },
      "source": [
        "def impureza(y): #Gini\n",
        "    labels = list(set(y))\n",
        "    labels.sort()\n",
        "    probabilidades = np.zeros((len(labels),))\n",
        "    for i,k in enumerate(labels):\n",
        "        probabilidades[i] = sum(y==k)/len(y)\n",
        "    result = 1 - sum(probabilidades**2)\n",
        "    return result\n",
        "\n",
        "ytmp = y[:]\n",
        "valor = impureza(ytmp)\n",
        "valor"
      ],
      "execution_count": 11,
      "outputs": [
        {
          "output_type": "execute_result",
          "data": {
            "text/plain": [
              "0.6666666666666667"
            ]
          },
          "metadata": {
            "tags": []
          },
          "execution_count": 11
        }
      ]
    },
    {
      "cell_type": "code",
      "metadata": {
        "colab": {
          "base_uri": "https://localhost:8080/"
        },
        "id": "qQGhvh04OQEo",
        "outputId": "8bff7ec3-b145-49a0-fcd1-5ccfdad6a080"
      },
      "source": [
        "def impurezaValor(x, y, valor):\n",
        "    maiores = x>valor\n",
        "    impurezaMaiores = impureza(y[maiores])\n",
        "    propMaiores = sum(maiores)/len(y)\n",
        "    impurezaMenores = impureza(y[~maiores])\n",
        "    propMenores = sum(~maiores)/len(y)\n",
        "    impurezaTotal = propMaiores*impurezaMaiores + propMenores*impurezaMenores\n",
        "    return impurezaTotal, impurezaMaiores, impurezaMenores\n",
        "impurezaValor(X[:,0], y, 2.5)"
      ],
      "execution_count": 12,
      "outputs": [
        {
          "output_type": "execute_result",
          "data": {
            "text/plain": [
              "(0.3333333333333333, 0.5, 0.0)"
            ]
          },
          "metadata": {
            "tags": []
          },
          "execution_count": 12
        }
      ]
    },
    {
      "cell_type": "code",
      "metadata": {
        "colab": {
          "base_uri": "https://localhost:8080/"
        },
        "id": "jhvgW8XyOP6t",
        "outputId": "03cf2fe2-7325-490e-e5a5-9d7727412a25"
      },
      "source": [
        "def melhorValor(x, y):\n",
        "    result = None\n",
        "    menorImpureza = float('inf')\n",
        "    xmax = np.max(x)\n",
        "    xmin = np.min(x)\n",
        "    while True:\n",
        "        valor = (xmin+xmax)/2\n",
        "        impTotal, impMaiores, impMenores = impurezaValor(x, y, valor)\n",
        "        if impTotal < menorImpureza:\n",
        "            menorImpureza = impTotal\n",
        "            result = valor\n",
        "            if impMaiores == 0 or impMenores == 0:\n",
        "                break\n",
        "            if impMaiores < impMenores:\n",
        "                xmin = valor\n",
        "            else:\n",
        "                xmax = valor\n",
        "        else:\n",
        "            break\n",
        "    return result, menorImpureza\n",
        "melhorValor(X[:,0], y)"
      ],
      "execution_count": 13,
      "outputs": [
        {
          "output_type": "execute_result",
          "data": {
            "text/plain": [
              "(2.475, 0.3333333333333333)"
            ]
          },
          "metadata": {
            "tags": []
          },
          "execution_count": 13
        }
      ]
    },
    {
      "cell_type": "code",
      "metadata": {
        "colab": {
          "base_uri": "https://localhost:8080/"
        },
        "id": "QRhykoUDQ68g",
        "outputId": "f609a4f4-dd8d-49c4-f77f-ac8e66eebaf6"
      },
      "source": [
        "def melhorCaracteristica(X, y):\n",
        "    impurezas = []\n",
        "    valores = []\n",
        "    for caracteristica in range(X.shape[1]):\n",
        "        valor, imp = melhorValor(X[:,caracteristica], y)\n",
        "        impurezas.append(imp)\n",
        "        valores.append(valor)\n",
        "    impurezas = np.array(impurezas)\n",
        "    caracteristica = np.argmin(impurezas)\n",
        "    return caracteristica, valores[caracteristica], impurezas[caracteristica]\n",
        "print(melhorCaracteristica(X,y))"
      ],
      "execution_count": 14,
      "outputs": [
        {
          "output_type": "stream",
          "text": [
            "(0, 2.475, 0.3333333333333333)\n"
          ],
          "name": "stdout"
        }
      ]
    },
    {
      "cell_type": "code",
      "metadata": {
        "colab": {
          "base_uri": "https://localhost:8080/"
        },
        "id": "OG6oJ72IQ65u",
        "outputId": "787793d7-9768-485c-f891-dd8a345958b2"
      },
      "source": [
        "def maisFrequente(y):\n",
        "    return Counter(y.flat).most_common(1)[0][0]\n",
        "\n",
        "class Arvore(BaseEstimator, ClassifierMixin):\n",
        "    def fit(self, X, y):\n",
        "        self.caracteristica, self.valor, self.imp = melhorCaracteristica(X,y)\n",
        "        maiores = X[:,self.caracteristica] > self.valor\n",
        "        if sum(maiores)>0 and sum(~maiores)>0:\n",
        "            self.maiores = Arvore()\n",
        "            self.maiores.fit(X[maiores,:],y[maiores])\n",
        "            self.menores = Arvore()\n",
        "            self.menores.fit(X[~maiores,:],y[~maiores])\n",
        "        else:\n",
        "            self.resposta = maisFrequente(y)\n",
        "    def predict(self, X):\n",
        "        y = np.empty((X.shape[0]))\n",
        "        if hasattr(self, 'resposta'):\n",
        "            y[:] = self.resposta\n",
        "        else:\n",
        "            maiores = X[:,self.caracteristica] > self.valor\n",
        "            y[maiores] = self.maiores.predict(X[maiores,:])\n",
        "            y[~maiores] = self.menores.predict(X[~maiores,:])\n",
        "        return y\n",
        "\n",
        "modelo = Arvore()\n",
        "modelo.fit(X,y)\n",
        "ypred = modelo.predict(X)\n",
        "accuracy_score(y, ypred), (ypred == y)"
      ],
      "execution_count": 15,
      "outputs": [
        {
          "output_type": "execute_result",
          "data": {
            "text/plain": [
              "(0.9933333333333333,\n",
              " array([ True,  True,  True,  True,  True,  True,  True,  True,  True,\n",
              "         True,  True,  True,  True,  True,  True,  True,  True,  True,\n",
              "         True,  True,  True,  True,  True,  True,  True,  True,  True,\n",
              "         True,  True,  True,  True,  True,  True,  True,  True,  True,\n",
              "         True,  True,  True,  True,  True,  True,  True,  True,  True,\n",
              "         True,  True,  True,  True,  True,  True,  True,  True,  True,\n",
              "         True,  True,  True,  True,  True,  True,  True,  True,  True,\n",
              "         True,  True,  True,  True,  True,  True,  True, False,  True,\n",
              "         True,  True,  True,  True,  True,  True,  True,  True,  True,\n",
              "         True,  True,  True,  True,  True,  True,  True,  True,  True,\n",
              "         True,  True,  True,  True,  True,  True,  True,  True,  True,\n",
              "         True,  True,  True,  True,  True,  True,  True,  True,  True,\n",
              "         True,  True,  True,  True,  True,  True,  True,  True,  True,\n",
              "         True,  True,  True,  True,  True,  True,  True,  True,  True,\n",
              "         True,  True,  True,  True,  True,  True,  True,  True,  True,\n",
              "         True,  True,  True,  True,  True,  True,  True,  True,  True,\n",
              "         True,  True,  True,  True,  True,  True]))"
            ]
          },
          "metadata": {
            "tags": []
          },
          "execution_count": 15
        }
      ]
    },
    {
      "cell_type": "markdown",
      "metadata": {
        "id": "PLPOn3duRO5S"
      },
      "source": [
        "#Comparação regiões decisão"
      ]
    },
    {
      "cell_type": "code",
      "metadata": {
        "id": "U-80r3wQQ6wI"
      },
      "source": [
        "def plotDecisao(modelo, X, y, titulo):\n",
        "    modelo.fit(X, y)\n",
        "    x0s = np.linspace(np.min(X[:,0])-0.2, np.max(X[:,0])+0.2, 100)\n",
        "    x1s = np.linspace(np.min(X[:,1])-0.2, np.max(X[:,1])+0.2, 100)\n",
        "    x0, x1 = np.meshgrid(x0s, x1s)\n",
        "    Xdec = np.c_[x0.ravel(), x1.ravel()]\n",
        "    ypred = modelo.predict(Xdec)\n",
        "    plt.title(titulo)\n",
        "    plt.contourf(x0, x1, ypred.reshape(x0.shape), alpha=0.25)\n",
        "    for k in set(y):\n",
        "        plt.plot(X[:,0][y==k], X[:,1][y==k], 'o', label=f\"{iris.target_names[k]} [{k}]\")\n",
        "        \n",
        "    plt.xlabel(f\"X[0]: {iris.feature_names[0]}\")\n",
        "    plt.ylabel(f\"X[1]: {iris.feature_names[1]}\")\n",
        "    plt.show()"
      ],
      "execution_count": 16,
      "outputs": []
    },
    {
      "cell_type": "code",
      "metadata": {
        "colab": {
          "base_uri": "https://localhost:8080/",
          "height": 850
        },
        "id": "WFPH7iV8Q6tI",
        "outputId": "6ad09713-5f10-4760-e84e-7ba1bc70934b"
      },
      "source": [
        "plotDecisao(Arvore(), X, y, \"Regiões vídeo aula\")\n",
        "plotDecisao(Arvore_new(), X, y, \"Regiões minha heurística\")\n",
        "plotDecisao(DecisionTreeClassifier(), X, y, \"Regiões sklearn\")"
      ],
      "execution_count": 17,
      "outputs": [
        {
          "output_type": "display_data",
          "data": {
            "image/png": "[encoded data removed]",
            "text/plain": [
              "<Figure size 432x288 with 1 Axes>"
            ]
          },
          "metadata": {
            "tags": [],
            "needs_background": "light"
          }
        },
        {
          "output_type": "display_data",
          "data": {
            "image/png": "[encoded data removed]",
            "text/plain": [
              "<Figure size 432x288 with 1 Axes>"
            ]
          },
          "metadata": {
            "tags": [],
            "needs_background": "light"
          }
        },
        {
          "output_type": "display_data",
          "data": {
            "image/png": "[encoded data removed]",
            "text/plain": [
              "<Figure size 432x288 with 1 Axes>"
            ]
          },
          "metadata": {
            "tags": [],
            "needs_background": "light"
          }
        }
      ]
    },
    {
      "cell_type": "code",
      "metadata": {
        "id": "D_kMTBbJOemN"
      },
      "source": [
        "scores_iris_video_aula = cross_validate(Arvore(), X, y)\n",
        "scores_iris_rodrigo = cross_validate(Arvore_new(), X, y)\n",
        "scores_iris_sklearn = cross_validate(DecisionTreeClassifier(), X, y)"
      ],
      "execution_count": 18,
      "outputs": []
    },
    {
      "cell_type": "code",
      "metadata": {
        "id": "NIyDovKXOei3"
      },
      "source": [
        "resultados = []\n",
        "resultados.append((\"Iris\",\"Vídeo aula\",np.mean(scores_iris_video_aula['test_score'])))\n",
        "resultados.append((\"Iris\",\"Rodrigo\",np.mean(scores_iris_rodrigo['test_score'])))\n",
        "resultados.append((\"Iris\",\"Sklearn\",np.mean(scores_iris_sklearn['test_score'])))"
      ],
      "execution_count": 19,
      "outputs": []
    },
    {
      "cell_type": "code",
      "metadata": {
        "colab": {
          "base_uri": "https://localhost:8080/"
        },
        "id": "XjNgJXkMOefL",
        "outputId": "ed56dee1-d326-454e-dbb8-2dfff2c1eca9"
      },
      "source": [
        "scores_iris_video_aula['test_score'], np.mean(scores_iris_video_aula['test_score'])"
      ],
      "execution_count": 20,
      "outputs": [
        {
          "output_type": "execute_result",
          "data": {
            "text/plain": [
              "(array([0.96666667, 0.96666667, 0.9       , 0.93333333, 1.        ]),\n",
              " 0.9533333333333334)"
            ]
          },
          "metadata": {
            "tags": []
          },
          "execution_count": 20
        }
      ]
    },
    {
      "cell_type": "code",
      "metadata": {
        "colab": {
          "base_uri": "https://localhost:8080/"
        },
        "id": "MX3BNq2GOeb-",
        "outputId": "a98c870d-6b5a-41e3-b421-80223d837d82"
      },
      "source": [
        "scores_iris_rodrigo['test_score'], np.mean(scores_iris_rodrigo['test_score'])"
      ],
      "execution_count": 21,
      "outputs": [
        {
          "output_type": "execute_result",
          "data": {
            "text/plain": [
              "(array([0.96666667, 0.96666667, 0.83333333, 0.9       , 1.        ]),\n",
              " 0.9333333333333332)"
            ]
          },
          "metadata": {
            "tags": []
          },
          "execution_count": 21
        }
      ]
    },
    {
      "cell_type": "code",
      "metadata": {
        "colab": {
          "base_uri": "https://localhost:8080/"
        },
        "id": "7RFlIoIPOxJW",
        "outputId": "50590135-dfcb-488e-9ea6-d0191dfd586d"
      },
      "source": [
        "scores_iris_sklearn['test_score'], np.mean(scores_iris_sklearn['test_score'])"
      ],
      "execution_count": 22,
      "outputs": [
        {
          "output_type": "execute_result",
          "data": {
            "text/plain": [
              "(array([0.96666667, 0.96666667, 0.9       , 0.93333333, 1.        ]),\n",
              " 0.9533333333333334)"
            ]
          },
          "metadata": {
            "tags": []
          },
          "execution_count": 22
        }
      ]
    },
    {
      "cell_type": "markdown",
      "metadata": {
        "id": "aM2PGJYR8es8"
      },
      "source": [
        "#Comparação em outras bases de dados com atributos contínuos usando validação cruzada"
      ]
    },
    {
      "cell_type": "markdown",
      "metadata": {
        "id": "FfhhS2PiFkbb"
      },
      "source": [
        "##Base 01 - Banknote authentication dataset\n",
        "* https://archive.ics.uci.edu/ml/datasets/banknote+authentication"
      ]
    },
    {
      "cell_type": "code",
      "metadata": {
        "colab": {
          "base_uri": "https://localhost:8080/"
        },
        "id": "Jjhzy94QFuJ6",
        "outputId": "1ca8634c-6656-4b62-f06a-1fe192527eec"
      },
      "source": [
        "!wget https://archive.ics.uci.edu/ml/machine-learning-databases/00267/data_banknote_authentication.txt"
      ],
      "execution_count": 23,
      "outputs": [
        {
          "output_type": "stream",
          "text": [
            "--2020-12-17 23:34:44--  https://archive.ics.uci.edu/ml/machine-learning-databases/00267/data_banknote_authentication.txt\n",
            "Resolving archive.ics.uci.edu (archive.ics.uci.edu)... 128.195.10.252\n",
            "Connecting to archive.ics.uci.edu (archive.ics.uci.edu)|128.195.10.252|:443... connected.\n",
            "HTTP request sent, awaiting response... 200 OK\n",
            "Length: 46400 (45K) [application/x-httpd-php]\n",
            "Saving to: ‘data_banknote_authentication.txt.11’\n",
            "\n",
            "data_banknote_authe 100%[===================>]  45.31K  --.-KB/s    in 0.1s    \n",
            "\n",
            "2020-12-17 23:34:45 (350 KB/s) - ‘data_banknote_authentication.txt.11’ saved [46400/46400]\n",
            "\n"
          ],
          "name": "stdout"
        }
      ]
    },
    {
      "cell_type": "code",
      "metadata": {
        "id": "CVPURbN-FuHY"
      },
      "source": [
        "df_banknote = pd.read_csv('data_banknote_authentication.txt')\n",
        "df_banknote.columns = [\"variance\",\"skewness\",\"curtosis\",\"entropy\",\"class\"]"
      ],
      "execution_count": 24,
      "outputs": []
    },
    {
      "cell_type": "code",
      "metadata": {
        "colab": {
          "base_uri": "https://localhost:8080/"
        },
        "id": "u2N07dRRG0Fw",
        "outputId": "7cce50b4-2247-4c7b-c17a-64e4108b0bed"
      },
      "source": [
        "df_banknote.info()"
      ],
      "execution_count": 25,
      "outputs": [
        {
          "output_type": "stream",
          "text": [
            "<class 'pandas.core.frame.DataFrame'>\n",
            "RangeIndex: 1371 entries, 0 to 1370\n",
            "Data columns (total 5 columns):\n",
            " #   Column    Non-Null Count  Dtype  \n",
            "---  ------    --------------  -----  \n",
            " 0   variance  1371 non-null   float64\n",
            " 1   skewness  1371 non-null   float64\n",
            " 2   curtosis  1371 non-null   float64\n",
            " 3   entropy   1371 non-null   float64\n",
            " 4   class     1371 non-null   int64  \n",
            "dtypes: float64(4), int64(1)\n",
            "memory usage: 53.7 KB\n"
          ],
          "name": "stdout"
        }
      ]
    },
    {
      "cell_type": "code",
      "metadata": {
        "colab": {
          "base_uri": "https://localhost:8080/",
          "height": 195
        },
        "id": "edoSjNx7Ft1i",
        "outputId": "5b4a31ab-7d7e-405a-f19a-34ec42c58707"
      },
      "source": [
        "df_banknote.head()"
      ],
      "execution_count": 26,
      "outputs": [
        {
          "output_type": "execute_result",
          "data": {
            "text/html": [
              "<div>\n",
              "<style scoped>\n",
              "    .dataframe tbody tr th:only-of-type {\n",
              "        vertical-align: middle;\n",
              "    }\n",
              "\n",
              "    .dataframe tbody tr th {\n",
              "        vertical-align: top;\n",
              "    }\n",
              "\n",
              "    .dataframe thead th {\n",
              "        text-align: right;\n",
              "    }\n",
              "</style>\n",
              "<table border=\"1\" class=\"dataframe\">\n",
              "  <thead>\n",
              "    <tr style=\"text-align: right;\">\n",
              "      <th></th>\n",
              "      <th>variance</th>\n",
              "      <th>skewness</th>\n",
              "      <th>curtosis</th>\n",
              "      <th>entropy</th>\n",
              "      <th>class</th>\n",
              "    </tr>\n",
              "  </thead>\n",
              "  <tbody>\n",
              "    <tr>\n",
              "      <th>0</th>\n",
              "      <td>4.54590</td>\n",
              "      <td>8.1674</td>\n",
              "      <td>-2.4586</td>\n",
              "      <td>-1.46210</td>\n",
              "      <td>0</td>\n",
              "    </tr>\n",
              "    <tr>\n",
              "      <th>1</th>\n",
              "      <td>3.86600</td>\n",
              "      <td>-2.6383</td>\n",
              "      <td>1.9242</td>\n",
              "      <td>0.10645</td>\n",
              "      <td>0</td>\n",
              "    </tr>\n",
              "    <tr>\n",
              "      <th>2</th>\n",
              "      <td>3.45660</td>\n",
              "      <td>9.5228</td>\n",
              "      <td>-4.0112</td>\n",
              "      <td>-3.59440</td>\n",
              "      <td>0</td>\n",
              "    </tr>\n",
              "    <tr>\n",
              "      <th>3</th>\n",
              "      <td>0.32924</td>\n",
              "      <td>-4.4552</td>\n",
              "      <td>4.5718</td>\n",
              "      <td>-0.98880</td>\n",
              "      <td>0</td>\n",
              "    </tr>\n",
              "    <tr>\n",
              "      <th>4</th>\n",
              "      <td>4.36840</td>\n",
              "      <td>9.6718</td>\n",
              "      <td>-3.9606</td>\n",
              "      <td>-3.16250</td>\n",
              "      <td>0</td>\n",
              "    </tr>\n",
              "  </tbody>\n",
              "</table>\n",
              "</div>"
            ],
            "text/plain": [
              "   variance  skewness  curtosis  entropy  class\n",
              "0   4.54590    8.1674   -2.4586 -1.46210      0\n",
              "1   3.86600   -2.6383    1.9242  0.10645      0\n",
              "2   3.45660    9.5228   -4.0112 -3.59440      0\n",
              "3   0.32924   -4.4552    4.5718 -0.98880      0\n",
              "4   4.36840    9.6718   -3.9606 -3.16250      0"
            ]
          },
          "metadata": {
            "tags": []
          },
          "execution_count": 26
        }
      ]
    },
    {
      "cell_type": "code",
      "metadata": {
        "colab": {
          "base_uri": "https://localhost:8080/"
        },
        "id": "T4qSAFsQFt4a",
        "outputId": "c701ee7f-b8d8-414b-e541-cf576a8d0b3e"
      },
      "source": [
        "X_banknote = np.array(df_banknote.drop([\"class\"], axis=1))[:,2:]\n",
        "y_banknote = np.array(df_banknote[\"class\"].values)\n",
        "\n",
        "X_banknote.shape, y_banknote.shape, np.transpose(set(y_banknote))"
      ],
      "execution_count": 27,
      "outputs": [
        {
          "output_type": "execute_result",
          "data": {
            "text/plain": [
              "((1371, 2), (1371,), array({0, 1}, dtype=object))"
            ]
          },
          "metadata": {
            "tags": []
          },
          "execution_count": 27
        }
      ]
    },
    {
      "cell_type": "code",
      "metadata": {
        "id": "gNYAa5kqKNB0"
      },
      "source": [
        "#df_banknote.drop([\"class\"], axis=1).describe()"
      ],
      "execution_count": 28,
      "outputs": []
    },
    {
      "cell_type": "code",
      "metadata": {
        "colab": {
          "base_uri": "https://localhost:8080/"
        },
        "id": "WIH_rhNvFtmg",
        "outputId": "ce83ef45-70c2-46b2-eb11-f4f95bf4e618"
      },
      "source": [
        "melhor_feature_prof_banknote = melhorCaracteristica(X_banknote, y_banknote)\n",
        "melhor_feature_rodrigo_banknote = melhorCaracteristica_new(X_banknote, y_banknote)\n",
        "\n",
        "arvore_banknote = DecisionTreeClassifier()\n",
        "arvore_banknote.fit(X_banknote,y_banknote)\n",
        "melhor_feature_sklearn_banknote = np.argmax(arvore_banknote.feature_importances_), max(arvore_banknote.feature_importances_), arvore_banknote.tree_.impurity[np.argmax(arvore_banknote.feature_importances_)]\n",
        "\n",
        "melhor_feature_prof_banknote, melhor_feature_rodrigo_banknote, melhor_feature_sklearn_banknote"
      ],
      "execution_count": 29,
      "outputs": [
        {
          "output_type": "execute_result",
          "data": {
            "text/plain": [
              "((0, 6.320649999999999, 0.4728161372623945),\n",
              " (1, -0.58665, 0.9901267029949467),\n",
              " (0, 0.5873446829924446, 0.4939347460499106))"
            ]
          },
          "metadata": {
            "tags": []
          },
          "execution_count": 29
        }
      ]
    },
    {
      "cell_type": "code",
      "metadata": {
        "colab": {
          "base_uri": "https://localhost:8080/",
          "height": 850
        },
        "id": "62kSYl3kG_16",
        "outputId": "558db72b-58bf-4d3c-8e14-1099d98f1a04"
      },
      "source": [
        "def plotDecisao_banknote(modelo, X, y, title):\n",
        "    modelo.fit(X, y)\n",
        "    x0s = np.linspace(np.min(X[:,0])-0.2, np.max(X[:,0])+0.2, 100)\n",
        "    x1s = np.linspace(np.min(X[:,1])-0.2, np.max(X[:,1])+0.2, 100)\n",
        "    x0, x1 = np.meshgrid(x0s, x1s)\n",
        "    Xdec = np.c_[x0.ravel(), x1.ravel()]\n",
        "    ypred = modelo.predict(Xdec)\n",
        "    plt.title(title)\n",
        "    plt.contourf(x0, x1, ypred.reshape(x0.shape), alpha=0.25)\n",
        "    \n",
        "    for k in set(y):\n",
        "        plt.plot(X[:,0][y==k], X[:,1][y==k], 'o', label=f\"{y_banknote[k]} [{k}]\")\n",
        "    \n",
        "    plt.xlabel(f\"X[0]: {df_banknote.keys()[0]}\")\n",
        "    plt.ylabel(f\"X[1]: {df_banknote.keys()[1]}\")\n",
        "    plt.show()\n",
        "\n",
        "\n",
        "plotDecisao_banknote(Arvore(), X_banknote, y_banknote, \"Regiões vídeo aula\")\n",
        "plotDecisao_banknote(Arvore_new(), X_banknote, y_banknote, \"Regiões Rodrigo\")\n",
        "plotDecisao_banknote(DecisionTreeClassifier(), X_banknote, y_banknote, \"Regiões sklearn\")"
      ],
      "execution_count": 30,
      "outputs": [
        {
          "output_type": "display_data",
          "data": {
            "image/png": "[encoded data removed]",
            "text/plain": [
              "<Figure size 432x288 with 1 Axes>"
            ]
          },
          "metadata": {
            "tags": [],
            "needs_background": "light"
          }
        },
        {
          "output_type": "display_data",
          "data": {
            "image/png": "[encoded data removed]",
            "text/plain": [
              "<Figure size 432x288 with 1 Axes>"
            ]
          },
          "metadata": {
            "tags": [],
            "needs_background": "light"
          }
        },
        {
          "output_type": "display_data",
          "data": {
            "image/png": "[encoded data removed]",
            "text/plain": [
              "<Figure size 432x288 with 1 Axes>"
            ]
          },
          "metadata": {
            "tags": [],
            "needs_background": "light"
          }
        }
      ]
    },
    {
      "cell_type": "code",
      "metadata": {
        "id": "WCCZgAMxG_uM"
      },
      "source": [
        "scores_banknote_video_aula = cross_validate(Arvore(), X_banknote, y_banknote)\n",
        "scores_banknote_rodrigo = cross_validate(Arvore_new(), X_banknote, y_banknote)\n",
        "scores_banknote_sklearn = cross_validate(DecisionTreeClassifier(), X_banknote, y_banknote)"
      ],
      "execution_count": 31,
      "outputs": []
    },
    {
      "cell_type": "code",
      "metadata": {
        "id": "scEZZ5ZdvBVx"
      },
      "source": [
        "resultados.append((\"Banknote\",\"Vídeo aula\",np.mean(scores_banknote_video_aula['test_score'])))\n",
        "resultados.append((\"Banknote\",\"Rodrigo\",np.mean(scores_banknote_rodrigo['test_score'])))\n",
        "resultados.append((\"Banknote\",\"Sklearn\",np.mean(scores_banknote_sklearn['test_score'])))"
      ],
      "execution_count": 32,
      "outputs": []
    },
    {
      "cell_type": "code",
      "metadata": {
        "colab": {
          "base_uri": "https://localhost:8080/"
        },
        "id": "Tvd5qGuQQJuA",
        "outputId": "ef892316-71d9-4251-f443-adfca0bd754f"
      },
      "source": [
        "scores_banknote_video_aula['test_score'], np.mean(scores_banknote_video_aula['test_score'])"
      ],
      "execution_count": 33,
      "outputs": [
        {
          "output_type": "execute_result",
          "data": {
            "text/plain": [
              "(array([0.71636364, 0.69343066, 0.71532847, 0.67153285, 0.67518248]),\n",
              " 0.6943676177836762)"
            ]
          },
          "metadata": {
            "tags": []
          },
          "execution_count": 33
        }
      ]
    },
    {
      "cell_type": "code",
      "metadata": {
        "colab": {
          "base_uri": "https://localhost:8080/"
        },
        "id": "kE1ukbxKutqO",
        "outputId": "b403f12f-1831-4857-b98e-042d2294a5e2"
      },
      "source": [
        "scores_banknote_rodrigo['test_score'], np.mean(scores_banknote_rodrigo['test_score'])"
      ],
      "execution_count": 34,
      "outputs": [
        {
          "output_type": "execute_result",
          "data": {
            "text/plain": [
              "(array([0.67636364, 0.66788321, 0.70437956, 0.68248175, 0.6459854 ]),\n",
              " 0.6754187126741872)"
            ]
          },
          "metadata": {
            "tags": []
          },
          "execution_count": 34
        }
      ]
    },
    {
      "cell_type": "code",
      "metadata": {
        "colab": {
          "base_uri": "https://localhost:8080/"
        },
        "id": "qdlDcCMFutma",
        "outputId": "10ece8e2-a94b-4540-dfb8-d9f63e5c5c3a"
      },
      "source": [
        "scores_banknote_sklearn['test_score'], np.mean(scores_banknote_sklearn['test_score'])"
      ],
      "execution_count": 35,
      "outputs": [
        {
          "output_type": "execute_result",
          "data": {
            "text/plain": [
              "(array([0.73818182, 0.68978102, 0.70437956, 0.70072993, 0.65328467]),\n",
              " 0.697271400132714)"
            ]
          },
          "metadata": {
            "tags": []
          },
          "execution_count": 35
        }
      ]
    },
    {
      "cell_type": "markdown",
      "metadata": {
        "id": "gRe7V5aQQKPW"
      },
      "source": [
        "##Base 02 - Cryotherapy dataset\n",
        "* https://archive.ics.uci.edu/ml/datasets/Cryotherapy+Dataset+"
      ]
    },
    {
      "cell_type": "code",
      "metadata": {
        "colab": {
          "base_uri": "https://localhost:8080/"
        },
        "id": "iwQwStcCQvBZ",
        "outputId": "51f7ad70-c113-482d-c6ad-fb321f20d224"
      },
      "source": [
        "!wget https://archive.ics.uci.edu/ml/machine-learning-databases/00429/Cryotherapy.xlsx"
      ],
      "execution_count": 36,
      "outputs": [
        {
          "output_type": "stream",
          "text": [
            "--2020-12-17 23:34:58--  https://archive.ics.uci.edu/ml/machine-learning-databases/00429/Cryotherapy.xlsx\n",
            "Resolving archive.ics.uci.edu (archive.ics.uci.edu)... 128.195.10.252\n",
            "Connecting to archive.ics.uci.edu (archive.ics.uci.edu)|128.195.10.252|:443... connected.\n",
            "HTTP request sent, awaiting response... 200 OK\n",
            "Length: 33589 (33K) [application/x-httpd-php]\n",
            "Saving to: ‘Cryotherapy.xlsx.10’\n",
            "\n",
            "Cryotherapy.xlsx.10 100%[===================>]  32.80K  --.-KB/s    in 0.07s   \n",
            "\n",
            "2020-12-17 23:34:58 (494 KB/s) - ‘Cryotherapy.xlsx.10’ saved [33589/33589]\n",
            "\n"
          ],
          "name": "stdout"
        }
      ]
    },
    {
      "cell_type": "code",
      "metadata": {
        "id": "JhwCgLN3Qu9a"
      },
      "source": [
        "df_cryo = pd.read_excel('Cryotherapy.xlsx')"
      ],
      "execution_count": 37,
      "outputs": []
    },
    {
      "cell_type": "code",
      "metadata": {
        "colab": {
          "base_uri": "https://localhost:8080/"
        },
        "id": "mo-XyN_iRAs6",
        "outputId": "c2d94e66-03d4-452a-fca1-29c784ae8b41"
      },
      "source": [
        "df_cryo.info()"
      ],
      "execution_count": 38,
      "outputs": [
        {
          "output_type": "stream",
          "text": [
            "<class 'pandas.core.frame.DataFrame'>\n",
            "RangeIndex: 90 entries, 0 to 89\n",
            "Data columns (total 7 columns):\n",
            " #   Column               Non-Null Count  Dtype  \n",
            "---  ------               --------------  -----  \n",
            " 0   sex                  90 non-null     int64  \n",
            " 1   age                  90 non-null     int64  \n",
            " 2   Time                 90 non-null     float64\n",
            " 3   Number_of_Warts      90 non-null     int64  \n",
            " 4   Type                 90 non-null     int64  \n",
            " 5   Area                 90 non-null     int64  \n",
            " 6   Result_of_Treatment  90 non-null     int64  \n",
            "dtypes: float64(1), int64(6)\n",
            "memory usage: 5.0 KB\n"
          ],
          "name": "stdout"
        }
      ]
    },
    {
      "cell_type": "code",
      "metadata": {
        "colab": {
          "base_uri": "https://localhost:8080/",
          "height": 402
        },
        "id": "Bds0wo1zQu5H",
        "outputId": "ae8aa839-ff66-4165-ed49-ee170a9303a8"
      },
      "source": [
        "df_cryo"
      ],
      "execution_count": 39,
      "outputs": [
        {
          "output_type": "execute_result",
          "data": {
            "text/html": [
              "<div>\n",
              "<style scoped>\n",
              "    .dataframe tbody tr th:only-of-type {\n",
              "        vertical-align: middle;\n",
              "    }\n",
              "\n",
              "    .dataframe tbody tr th {\n",
              "        vertical-align: top;\n",
              "    }\n",
              "\n",
              "    .dataframe thead th {\n",
              "        text-align: right;\n",
              "    }\n",
              "</style>\n",
              "<table border=\"1\" class=\"dataframe\">\n",
              "  <thead>\n",
              "    <tr style=\"text-align: right;\">\n",
              "      <th></th>\n",
              "      <th>sex</th>\n",
              "      <th>age</th>\n",
              "      <th>Time</th>\n",
              "      <th>Number_of_Warts</th>\n",
              "      <th>Type</th>\n",
              "      <th>Area</th>\n",
              "      <th>Result_of_Treatment</th>\n",
              "    </tr>\n",
              "  </thead>\n",
              "  <tbody>\n",
              "    <tr>\n",
              "      <th>0</th>\n",
              "      <td>1</td>\n",
              "      <td>35</td>\n",
              "      <td>12.00</td>\n",
              "      <td>5</td>\n",
              "      <td>1</td>\n",
              "      <td>100</td>\n",
              "      <td>0</td>\n",
              "    </tr>\n",
              "    <tr>\n",
              "      <th>1</th>\n",
              "      <td>1</td>\n",
              "      <td>29</td>\n",
              "      <td>7.00</td>\n",
              "      <td>5</td>\n",
              "      <td>1</td>\n",
              "      <td>96</td>\n",
              "      <td>1</td>\n",
              "    </tr>\n",
              "    <tr>\n",
              "      <th>2</th>\n",
              "      <td>1</td>\n",
              "      <td>50</td>\n",
              "      <td>8.00</td>\n",
              "      <td>1</td>\n",
              "      <td>3</td>\n",
              "      <td>132</td>\n",
              "      <td>0</td>\n",
              "    </tr>\n",
              "    <tr>\n",
              "      <th>3</th>\n",
              "      <td>1</td>\n",
              "      <td>32</td>\n",
              "      <td>11.75</td>\n",
              "      <td>7</td>\n",
              "      <td>3</td>\n",
              "      <td>750</td>\n",
              "      <td>0</td>\n",
              "    </tr>\n",
              "    <tr>\n",
              "      <th>4</th>\n",
              "      <td>1</td>\n",
              "      <td>67</td>\n",
              "      <td>9.25</td>\n",
              "      <td>1</td>\n",
              "      <td>1</td>\n",
              "      <td>42</td>\n",
              "      <td>0</td>\n",
              "    </tr>\n",
              "    <tr>\n",
              "      <th>...</th>\n",
              "      <td>...</td>\n",
              "      <td>...</td>\n",
              "      <td>...</td>\n",
              "      <td>...</td>\n",
              "      <td>...</td>\n",
              "      <td>...</td>\n",
              "      <td>...</td>\n",
              "    </tr>\n",
              "    <tr>\n",
              "      <th>85</th>\n",
              "      <td>2</td>\n",
              "      <td>34</td>\n",
              "      <td>12.00</td>\n",
              "      <td>3</td>\n",
              "      <td>3</td>\n",
              "      <td>95</td>\n",
              "      <td>0</td>\n",
              "    </tr>\n",
              "    <tr>\n",
              "      <th>86</th>\n",
              "      <td>2</td>\n",
              "      <td>20</td>\n",
              "      <td>3.50</td>\n",
              "      <td>6</td>\n",
              "      <td>1</td>\n",
              "      <td>75</td>\n",
              "      <td>1</td>\n",
              "    </tr>\n",
              "    <tr>\n",
              "      <th>87</th>\n",
              "      <td>2</td>\n",
              "      <td>35</td>\n",
              "      <td>8.25</td>\n",
              "      <td>8</td>\n",
              "      <td>3</td>\n",
              "      <td>100</td>\n",
              "      <td>0</td>\n",
              "    </tr>\n",
              "    <tr>\n",
              "      <th>88</th>\n",
              "      <td>1</td>\n",
              "      <td>24</td>\n",
              "      <td>10.75</td>\n",
              "      <td>10</td>\n",
              "      <td>1</td>\n",
              "      <td>20</td>\n",
              "      <td>1</td>\n",
              "    </tr>\n",
              "    <tr>\n",
              "      <th>89</th>\n",
              "      <td>1</td>\n",
              "      <td>19</td>\n",
              "      <td>8.00</td>\n",
              "      <td>8</td>\n",
              "      <td>1</td>\n",
              "      <td>160</td>\n",
              "      <td>1</td>\n",
              "    </tr>\n",
              "  </tbody>\n",
              "</table>\n",
              "<p>90 rows × 7 columns</p>\n",
              "</div>"
            ],
            "text/plain": [
              "    sex  age   Time  Number_of_Warts  Type  Area  Result_of_Treatment\n",
              "0     1   35  12.00                5     1   100                    0\n",
              "1     1   29   7.00                5     1    96                    1\n",
              "2     1   50   8.00                1     3   132                    0\n",
              "3     1   32  11.75                7     3   750                    0\n",
              "4     1   67   9.25                1     1    42                    0\n",
              "..  ...  ...    ...              ...   ...   ...                  ...\n",
              "85    2   34  12.00                3     3    95                    0\n",
              "86    2   20   3.50                6     1    75                    1\n",
              "87    2   35   8.25                8     3   100                    0\n",
              "88    1   24  10.75               10     1    20                    1\n",
              "89    1   19   8.00                8     1   160                    1\n",
              "\n",
              "[90 rows x 7 columns]"
            ]
          },
          "metadata": {
            "tags": []
          },
          "execution_count": 39
        }
      ]
    },
    {
      "cell_type": "code",
      "metadata": {
        "colab": {
          "base_uri": "https://localhost:8080/"
        },
        "id": "UhOvUx6FQuzo",
        "outputId": "8f87d182-89ef-41d7-c9eb-1c4c33065cdb"
      },
      "source": [
        "X_cryo = np.array(df_cryo.drop([\"sex\",\"Number_of_Warts\",\"Type\",\"Area\",\"Result_of_Treatment\"], axis=1))\n",
        "y_cryo = np.array(df_cryo[\"Result_of_Treatment\"].values)\n",
        "\n",
        "X_cryo.shape, y_cryo.shape, np.transpose(set(y_cryo))"
      ],
      "execution_count": 40,
      "outputs": [
        {
          "output_type": "execute_result",
          "data": {
            "text/plain": [
              "((90, 2), (90,), array({0, 1}, dtype=object))"
            ]
          },
          "metadata": {
            "tags": []
          },
          "execution_count": 40
        }
      ]
    },
    {
      "cell_type": "code",
      "metadata": {
        "colab": {
          "base_uri": "https://localhost:8080/"
        },
        "id": "9OA2XNbdQumY",
        "outputId": "e9a642d7-e249-4a36-de5c-b7639704eead"
      },
      "source": [
        "melhor_feature_prof_cryo = melhorCaracteristica(X_cryo, y_cryo)\n",
        "melhor_feature_rodrigo_cryo = melhorCaracteristica_new(X_cryo, y_cryo)\n",
        "\n",
        "arvore_cryo = DecisionTreeClassifier()\n",
        "arvore_cryo.fit(X_cryo,y_cryo)\n",
        "melhor_feature_sklearn_cryo = np.argmax(arvore_cryo.feature_importances_), max(arvore_cryo.feature_importances_), arvore_cryo.tree_.impurity[np.argmax(arvore_cryo.feature_importances_)]\n",
        "\n",
        "melhor_feature_prof_cryo, melhor_feature_rodrigo_cryo, melhor_feature_sklearn_cryo"
      ],
      "execution_count": 41,
      "outputs": [
        {
          "output_type": "execute_result",
          "data": {
            "text/plain": [
              "((1, 6.125, 0.32387955182072836),\n",
              " (1, 8.5, 0.6199404705213222),\n",
              " (1, 0.5984369222102475, 0.16873985938345049))"
            ]
          },
          "metadata": {
            "tags": []
          },
          "execution_count": 41
        }
      ]
    },
    {
      "cell_type": "code",
      "metadata": {
        "colab": {
          "base_uri": "https://localhost:8080/",
          "height": 850
        },
        "id": "J3cm0UP8Quar",
        "outputId": "52185a77-3eb1-46d8-d26d-07e4acf23739"
      },
      "source": [
        "def plotDecisao_cryo(modelo, X, y, title):\n",
        "    modelo.fit(X, y)\n",
        "    x0s = np.linspace(np.min(X[:,0])-0.2, np.max(X[:,0])+0.2, 100)\n",
        "    x1s = np.linspace(np.min(X[:,1])-0.2, np.max(X[:,1])+0.2, 100)\n",
        "    x0, x1 = np.meshgrid(x0s, x1s)\n",
        "    Xdec = np.c_[x0.ravel(), x1.ravel()]\n",
        "    ypred = modelo.predict(Xdec)\n",
        "    plt.title(title)\n",
        "    plt.contourf(x0, x1, ypred.reshape(x0.shape), alpha=0.25)\n",
        "    for k in set(y):\n",
        "        plt.plot(X[:,0][y==k], X[:,1][y==k], 'o', label=f\"{y_cryo[k]} [{k}]\")\n",
        "    plt.xlabel(f\"X[0]: {df_cryo.keys()[0]}\")\n",
        "    plt.ylabel(f\"X[1]: {df_cryo.keys()[1]}\")\n",
        "    plt.show()\n",
        "\n",
        "plotDecisao_cryo(Arvore(), X_cryo, y_cryo, \"Regiões vídeo aula\")\n",
        "plotDecisao_cryo(Arvore_new(), X_cryo, y_cryo, \"Regiões Rodrigo\")\n",
        "plotDecisao_cryo(DecisionTreeClassifier(), X_cryo, y_cryo, \"Regiões sklearn\")"
      ],
      "execution_count": 42,
      "outputs": [
        {
          "output_type": "display_data",
          "data": {
            "image/png": "[encoded data removed]",
            "text/plain": [
              "<Figure size 432x288 with 1 Axes>"
            ]
          },
          "metadata": {
            "tags": [],
            "needs_background": "light"
          }
        },
        {
          "output_type": "display_data",
          "data": {
            "image/png": "[encoded data removed]",
            "text/plain": [
              "<Figure size 432x288 with 1 Axes>"
            ]
          },
          "metadata": {
            "tags": [],
            "needs_background": "light"
          }
        },
        {
          "output_type": "display_data",
          "data": {
            "image/png": "[encoded data removed]",
            "text/plain": [
              "<Figure size 432x288 with 1 Axes>"
            ]
          },
          "metadata": {
            "tags": [],
            "needs_background": "light"
          }
        }
      ]
    },
    {
      "cell_type": "code",
      "metadata": {
        "id": "vzaaaH4r_KgD"
      },
      "source": [
        "scores_cryo_video_aula = cross_validate(Arvore(), X_cryo, y_cryo)\n",
        "scores_cryo_rodrigo = cross_validate(Arvore_new(), X_cryo, y_cryo)\n",
        "scores_cryo_sklearn = cross_validate(DecisionTreeClassifier(), X_cryo, y_cryo)"
      ],
      "execution_count": 43,
      "outputs": []
    },
    {
      "cell_type": "code",
      "metadata": {
        "id": "AqRi4-7nwlW2"
      },
      "source": [
        "resultados.append((\"Cryotherapy\",\"Vídeo aula\",np.mean(scores_cryo_video_aula['test_score'])))\n",
        "resultados.append((\"Cryotherapy\",\"Rodrigo\",np.mean(scores_cryo_rodrigo['test_score'])))\n",
        "resultados.append((\"Cryotherapy\",\"Sklearn\",np.mean(scores_cryo_sklearn['test_score'])))"
      ],
      "execution_count": 44,
      "outputs": []
    },
    {
      "cell_type": "code",
      "metadata": {
        "colab": {
          "base_uri": "https://localhost:8080/"
        },
        "id": "53x5VPFDwZND",
        "outputId": "693e97a1-72a6-4bad-80b7-160076ebdfd8"
      },
      "source": [
        "scores_cryo_video_aula['test_score'], np.mean(scores_cryo_video_aula['test_score'])"
      ],
      "execution_count": 45,
      "outputs": [
        {
          "output_type": "execute_result",
          "data": {
            "text/plain": [
              "(array([0.88888889, 0.66666667, 0.94444444, 0.77777778, 0.77777778]),\n",
              " 0.8111111111111111)"
            ]
          },
          "metadata": {
            "tags": []
          },
          "execution_count": 45
        }
      ]
    },
    {
      "cell_type": "code",
      "metadata": {
        "colab": {
          "base_uri": "https://localhost:8080/"
        },
        "id": "fVPDarpjwZKR",
        "outputId": "3eadb1d2-718f-4784-b576-e739db84ebc6"
      },
      "source": [
        "scores_cryo_rodrigo['test_score'], np.mean(scores_cryo_rodrigo['test_score'])"
      ],
      "execution_count": 46,
      "outputs": [
        {
          "output_type": "execute_result",
          "data": {
            "text/plain": [
              "(array([0.94444444, 0.77777778, 1.        , 0.72222222, 0.83333333]),\n",
              " 0.8555555555555555)"
            ]
          },
          "metadata": {
            "tags": []
          },
          "execution_count": 46
        }
      ]
    },
    {
      "cell_type": "code",
      "metadata": {
        "colab": {
          "base_uri": "https://localhost:8080/"
        },
        "id": "M9jIqeTowZHF",
        "outputId": "8e45bdf7-fb22-48f0-b115-e87f8d6a3b57"
      },
      "source": [
        "scores_cryo_sklearn['test_score'], np.mean(scores_cryo_sklearn['test_score'])"
      ],
      "execution_count": 47,
      "outputs": [
        {
          "output_type": "execute_result",
          "data": {
            "text/plain": [
              "(array([0.88888889, 0.77777778, 1.        , 0.83333333, 0.83333333]),\n",
              " 0.8666666666666666)"
            ]
          },
          "metadata": {
            "tags": []
          },
          "execution_count": 47
        }
      ]
    },
    {
      "cell_type": "markdown",
      "metadata": {
        "id": "aRnphdI0_K32"
      },
      "source": [
        "##Base 03 - Vertebral column dataset\n",
        "* https://archive.ics.uci.edu/ml/datasets/Vertebral+Column  "
      ]
    },
    {
      "cell_type": "code",
      "metadata": {
        "colab": {
          "base_uri": "https://localhost:8080/"
        },
        "id": "S8fSvrQOTmbK",
        "outputId": "2ad82a15-1645-4d4d-940f-fccf2169b32a"
      },
      "source": [
        "!wget https://archive.ics.uci.edu/ml/machine-learning-databases/00212/vertebral_column_data.zip"
      ],
      "execution_count": 48,
      "outputs": [
        {
          "output_type": "stream",
          "text": [
            "--2020-12-17 23:35:00--  https://archive.ics.uci.edu/ml/machine-learning-databases/00212/vertebral_column_data.zip\n",
            "Resolving archive.ics.uci.edu (archive.ics.uci.edu)... 128.195.10.252\n",
            "Connecting to archive.ics.uci.edu (archive.ics.uci.edu)|128.195.10.252|:443... connected.\n",
            "HTTP request sent, awaiting response... 200 OK\n",
            "Length: 33251 (32K) [application/x-httpd-php]\n",
            "Saving to: ‘vertebral_column_data.zip.10’\n",
            "\n",
            "vertebral_column_da 100%[===================>]  32.47K  --.-KB/s    in 0.07s   \n",
            "\n",
            "2020-12-17 23:35:00 (487 KB/s) - ‘vertebral_column_data.zip.10’ saved [33251/33251]\n",
            "\n"
          ],
          "name": "stdout"
        }
      ]
    },
    {
      "cell_type": "code",
      "metadata": {
        "id": "Z5sNsGyHTk6t"
      },
      "source": [
        "#UNZIP FILE\n",
        "zf = zipfile.ZipFile('vertebral_column_data.zip')\n",
        "zf.extractall()"
      ],
      "execution_count": 49,
      "outputs": []
    },
    {
      "cell_type": "code",
      "metadata": {
        "id": "HyuIoagOTtdY"
      },
      "source": [
        "df_vert = pd.read_csv(\"column_3C.dat\",delimiter=\" \")\n",
        "df_vert.columns=[\"pelvic_incidence\",\"pelvic_tilt\",\"lumbar_lordosis_angle\",\"sacral_slope\",\"pelvic_radius\",\"degree_spondylolisthesis\",\"class\"]"
      ],
      "execution_count": 50,
      "outputs": []
    },
    {
      "cell_type": "code",
      "metadata": {
        "colab": {
          "base_uri": "https://localhost:8080/"
        },
        "id": "KTqBJq42U0bl",
        "outputId": "1344b11d-33b4-4035-9d8d-6742412e4552"
      },
      "source": [
        "df_vert.info()"
      ],
      "execution_count": 51,
      "outputs": [
        {
          "output_type": "stream",
          "text": [
            "<class 'pandas.core.frame.DataFrame'>\n",
            "RangeIndex: 309 entries, 0 to 308\n",
            "Data columns (total 7 columns):\n",
            " #   Column                    Non-Null Count  Dtype  \n",
            "---  ------                    --------------  -----  \n",
            " 0   pelvic_incidence          309 non-null    float64\n",
            " 1   pelvic_tilt               309 non-null    float64\n",
            " 2   lumbar_lordosis_angle     309 non-null    float64\n",
            " 3   sacral_slope              309 non-null    float64\n",
            " 4   pelvic_radius             309 non-null    float64\n",
            " 5   degree_spondylolisthesis  309 non-null    float64\n",
            " 6   class                     309 non-null    object \n",
            "dtypes: float64(6), object(1)\n",
            "memory usage: 17.0+ KB\n"
          ],
          "name": "stdout"
        }
      ]
    },
    {
      "cell_type": "code",
      "metadata": {
        "colab": {
          "base_uri": "https://localhost:8080/",
          "height": 402
        },
        "id": "Po60qmw3T-ar",
        "outputId": "cd68300b-b639-48c3-923a-709bb0e51f46"
      },
      "source": [
        "df_vert"
      ],
      "execution_count": 52,
      "outputs": [
        {
          "output_type": "execute_result",
          "data": {
            "text/html": [
              "<div>\n",
              "<style scoped>\n",
              "    .dataframe tbody tr th:only-of-type {\n",
              "        vertical-align: middle;\n",
              "    }\n",
              "\n",
              "    .dataframe tbody tr th {\n",
              "        vertical-align: top;\n",
              "    }\n",
              "\n",
              "    .dataframe thead th {\n",
              "        text-align: right;\n",
              "    }\n",
              "</style>\n",
              "<table border=\"1\" class=\"dataframe\">\n",
              "  <thead>\n",
              "    <tr style=\"text-align: right;\">\n",
              "      <th></th>\n",
              "      <th>pelvic_incidence</th>\n",
              "      <th>pelvic_tilt</th>\n",
              "      <th>lumbar_lordosis_angle</th>\n",
              "      <th>sacral_slope</th>\n",
              "      <th>pelvic_radius</th>\n",
              "      <th>degree_spondylolisthesis</th>\n",
              "      <th>class</th>\n",
              "    </tr>\n",
              "  </thead>\n",
              "  <tbody>\n",
              "    <tr>\n",
              "      <th>0</th>\n",
              "      <td>39.06</td>\n",
              "      <td>10.06</td>\n",
              "      <td>25.02</td>\n",
              "      <td>29.00</td>\n",
              "      <td>114.41</td>\n",
              "      <td>4.56</td>\n",
              "      <td>DH</td>\n",
              "    </tr>\n",
              "    <tr>\n",
              "      <th>1</th>\n",
              "      <td>68.83</td>\n",
              "      <td>22.22</td>\n",
              "      <td>50.09</td>\n",
              "      <td>46.61</td>\n",
              "      <td>105.99</td>\n",
              "      <td>-3.53</td>\n",
              "      <td>DH</td>\n",
              "    </tr>\n",
              "    <tr>\n",
              "      <th>2</th>\n",
              "      <td>69.30</td>\n",
              "      <td>24.65</td>\n",
              "      <td>44.31</td>\n",
              "      <td>44.64</td>\n",
              "      <td>101.87</td>\n",
              "      <td>11.21</td>\n",
              "      <td>DH</td>\n",
              "    </tr>\n",
              "    <tr>\n",
              "      <th>3</th>\n",
              "      <td>49.71</td>\n",
              "      <td>9.65</td>\n",
              "      <td>28.32</td>\n",
              "      <td>40.06</td>\n",
              "      <td>108.17</td>\n",
              "      <td>7.92</td>\n",
              "      <td>DH</td>\n",
              "    </tr>\n",
              "    <tr>\n",
              "      <th>4</th>\n",
              "      <td>40.25</td>\n",
              "      <td>13.92</td>\n",
              "      <td>25.12</td>\n",
              "      <td>26.33</td>\n",
              "      <td>130.33</td>\n",
              "      <td>2.23</td>\n",
              "      <td>DH</td>\n",
              "    </tr>\n",
              "    <tr>\n",
              "      <th>...</th>\n",
              "      <td>...</td>\n",
              "      <td>...</td>\n",
              "      <td>...</td>\n",
              "      <td>...</td>\n",
              "      <td>...</td>\n",
              "      <td>...</td>\n",
              "      <td>...</td>\n",
              "    </tr>\n",
              "    <tr>\n",
              "      <th>304</th>\n",
              "      <td>47.90</td>\n",
              "      <td>13.62</td>\n",
              "      <td>36.00</td>\n",
              "      <td>34.29</td>\n",
              "      <td>117.45</td>\n",
              "      <td>-4.25</td>\n",
              "      <td>NO</td>\n",
              "    </tr>\n",
              "    <tr>\n",
              "      <th>305</th>\n",
              "      <td>53.94</td>\n",
              "      <td>20.72</td>\n",
              "      <td>29.22</td>\n",
              "      <td>33.22</td>\n",
              "      <td>114.37</td>\n",
              "      <td>-0.42</td>\n",
              "      <td>NO</td>\n",
              "    </tr>\n",
              "    <tr>\n",
              "      <th>306</th>\n",
              "      <td>61.45</td>\n",
              "      <td>22.69</td>\n",
              "      <td>46.17</td>\n",
              "      <td>38.75</td>\n",
              "      <td>125.67</td>\n",
              "      <td>-2.71</td>\n",
              "      <td>NO</td>\n",
              "    </tr>\n",
              "    <tr>\n",
              "      <th>307</th>\n",
              "      <td>45.25</td>\n",
              "      <td>8.69</td>\n",
              "      <td>41.58</td>\n",
              "      <td>36.56</td>\n",
              "      <td>118.55</td>\n",
              "      <td>0.21</td>\n",
              "      <td>NO</td>\n",
              "    </tr>\n",
              "    <tr>\n",
              "      <th>308</th>\n",
              "      <td>33.84</td>\n",
              "      <td>5.07</td>\n",
              "      <td>36.64</td>\n",
              "      <td>28.77</td>\n",
              "      <td>123.95</td>\n",
              "      <td>-0.20</td>\n",
              "      <td>NO</td>\n",
              "    </tr>\n",
              "  </tbody>\n",
              "</table>\n",
              "<p>309 rows × 7 columns</p>\n",
              "</div>"
            ],
            "text/plain": [
              "     pelvic_incidence  pelvic_tilt  ...  degree_spondylolisthesis  class\n",
              "0               39.06        10.06  ...                      4.56     DH\n",
              "1               68.83        22.22  ...                     -3.53     DH\n",
              "2               69.30        24.65  ...                     11.21     DH\n",
              "3               49.71         9.65  ...                      7.92     DH\n",
              "4               40.25        13.92  ...                      2.23     DH\n",
              "..                ...          ...  ...                       ...    ...\n",
              "304             47.90        13.62  ...                     -4.25     NO\n",
              "305             53.94        20.72  ...                     -0.42     NO\n",
              "306             61.45        22.69  ...                     -2.71     NO\n",
              "307             45.25         8.69  ...                      0.21     NO\n",
              "308             33.84         5.07  ...                     -0.20     NO\n",
              "\n",
              "[309 rows x 7 columns]"
            ]
          },
          "metadata": {
            "tags": []
          },
          "execution_count": 52
        }
      ]
    },
    {
      "cell_type": "code",
      "metadata": {
        "colab": {
          "base_uri": "https://localhost:8080/",
          "height": 402
        },
        "id": "uQ1le3K-UHKl",
        "outputId": "5bf72048-025c-403d-d8c1-9d3cbe989898"
      },
      "source": [
        "ord_enc = OrdinalEncoder()\n",
        "df_vert[\"class\"] = ord_enc.fit_transform(df_vert[[\"class\"]]).astype(int)\n",
        "\n",
        "df_vert"
      ],
      "execution_count": 53,
      "outputs": [
        {
          "output_type": "execute_result",
          "data": {
            "text/html": [
              "<div>\n",
              "<style scoped>\n",
              "    .dataframe tbody tr th:only-of-type {\n",
              "        vertical-align: middle;\n",
              "    }\n",
              "\n",
              "    .dataframe tbody tr th {\n",
              "        vertical-align: top;\n",
              "    }\n",
              "\n",
              "    .dataframe thead th {\n",
              "        text-align: right;\n",
              "    }\n",
              "</style>\n",
              "<table border=\"1\" class=\"dataframe\">\n",
              "  <thead>\n",
              "    <tr style=\"text-align: right;\">\n",
              "      <th></th>\n",
              "      <th>pelvic_incidence</th>\n",
              "      <th>pelvic_tilt</th>\n",
              "      <th>lumbar_lordosis_angle</th>\n",
              "      <th>sacral_slope</th>\n",
              "      <th>pelvic_radius</th>\n",
              "      <th>degree_spondylolisthesis</th>\n",
              "      <th>class</th>\n",
              "    </tr>\n",
              "  </thead>\n",
              "  <tbody>\n",
              "    <tr>\n",
              "      <th>0</th>\n",
              "      <td>39.06</td>\n",
              "      <td>10.06</td>\n",
              "      <td>25.02</td>\n",
              "      <td>29.00</td>\n",
              "      <td>114.41</td>\n",
              "      <td>4.56</td>\n",
              "      <td>0</td>\n",
              "    </tr>\n",
              "    <tr>\n",
              "      <th>1</th>\n",
              "      <td>68.83</td>\n",
              "      <td>22.22</td>\n",
              "      <td>50.09</td>\n",
              "      <td>46.61</td>\n",
              "      <td>105.99</td>\n",
              "      <td>-3.53</td>\n",
              "      <td>0</td>\n",
              "    </tr>\n",
              "    <tr>\n",
              "      <th>2</th>\n",
              "      <td>69.30</td>\n",
              "      <td>24.65</td>\n",
              "      <td>44.31</td>\n",
              "      <td>44.64</td>\n",
              "      <td>101.87</td>\n",
              "      <td>11.21</td>\n",
              "      <td>0</td>\n",
              "    </tr>\n",
              "    <tr>\n",
              "      <th>3</th>\n",
              "      <td>49.71</td>\n",
              "      <td>9.65</td>\n",
              "      <td>28.32</td>\n",
              "      <td>40.06</td>\n",
              "      <td>108.17</td>\n",
              "      <td>7.92</td>\n",
              "      <td>0</td>\n",
              "    </tr>\n",
              "    <tr>\n",
              "      <th>4</th>\n",
              "      <td>40.25</td>\n",
              "      <td>13.92</td>\n",
              "      <td>25.12</td>\n",
              "      <td>26.33</td>\n",
              "      <td>130.33</td>\n",
              "      <td>2.23</td>\n",
              "      <td>0</td>\n",
              "    </tr>\n",
              "    <tr>\n",
              "      <th>...</th>\n",
              "      <td>...</td>\n",
              "      <td>...</td>\n",
              "      <td>...</td>\n",
              "      <td>...</td>\n",
              "      <td>...</td>\n",
              "      <td>...</td>\n",
              "      <td>...</td>\n",
              "    </tr>\n",
              "    <tr>\n",
              "      <th>304</th>\n",
              "      <td>47.90</td>\n",
              "      <td>13.62</td>\n",
              "      <td>36.00</td>\n",
              "      <td>34.29</td>\n",
              "      <td>117.45</td>\n",
              "      <td>-4.25</td>\n",
              "      <td>1</td>\n",
              "    </tr>\n",
              "    <tr>\n",
              "      <th>305</th>\n",
              "      <td>53.94</td>\n",
              "      <td>20.72</td>\n",
              "      <td>29.22</td>\n",
              "      <td>33.22</td>\n",
              "      <td>114.37</td>\n",
              "      <td>-0.42</td>\n",
              "      <td>1</td>\n",
              "    </tr>\n",
              "    <tr>\n",
              "      <th>306</th>\n",
              "      <td>61.45</td>\n",
              "      <td>22.69</td>\n",
              "      <td>46.17</td>\n",
              "      <td>38.75</td>\n",
              "      <td>125.67</td>\n",
              "      <td>-2.71</td>\n",
              "      <td>1</td>\n",
              "    </tr>\n",
              "    <tr>\n",
              "      <th>307</th>\n",
              "      <td>45.25</td>\n",
              "      <td>8.69</td>\n",
              "      <td>41.58</td>\n",
              "      <td>36.56</td>\n",
              "      <td>118.55</td>\n",
              "      <td>0.21</td>\n",
              "      <td>1</td>\n",
              "    </tr>\n",
              "    <tr>\n",
              "      <th>308</th>\n",
              "      <td>33.84</td>\n",
              "      <td>5.07</td>\n",
              "      <td>36.64</td>\n",
              "      <td>28.77</td>\n",
              "      <td>123.95</td>\n",
              "      <td>-0.20</td>\n",
              "      <td>1</td>\n",
              "    </tr>\n",
              "  </tbody>\n",
              "</table>\n",
              "<p>309 rows × 7 columns</p>\n",
              "</div>"
            ],
            "text/plain": [
              "     pelvic_incidence  pelvic_tilt  ...  degree_spondylolisthesis  class\n",
              "0               39.06        10.06  ...                      4.56      0\n",
              "1               68.83        22.22  ...                     -3.53      0\n",
              "2               69.30        24.65  ...                     11.21      0\n",
              "3               49.71         9.65  ...                      7.92      0\n",
              "4               40.25        13.92  ...                      2.23      0\n",
              "..                ...          ...  ...                       ...    ...\n",
              "304             47.90        13.62  ...                     -4.25      1\n",
              "305             53.94        20.72  ...                     -0.42      1\n",
              "306             61.45        22.69  ...                     -2.71      1\n",
              "307             45.25         8.69  ...                      0.21      1\n",
              "308             33.84         5.07  ...                     -0.20      1\n",
              "\n",
              "[309 rows x 7 columns]"
            ]
          },
          "metadata": {
            "tags": []
          },
          "execution_count": 53
        }
      ]
    },
    {
      "cell_type": "code",
      "metadata": {
        "colab": {
          "base_uri": "https://localhost:8080/"
        },
        "id": "RLdcdvSUXjeg",
        "outputId": "accc8fd8-ff22-406b-9172-fbb4c7c04288"
      },
      "source": [
        "df_vert.info()"
      ],
      "execution_count": 54,
      "outputs": [
        {
          "output_type": "stream",
          "text": [
            "<class 'pandas.core.frame.DataFrame'>\n",
            "RangeIndex: 309 entries, 0 to 308\n",
            "Data columns (total 7 columns):\n",
            " #   Column                    Non-Null Count  Dtype  \n",
            "---  ------                    --------------  -----  \n",
            " 0   pelvic_incidence          309 non-null    float64\n",
            " 1   pelvic_tilt               309 non-null    float64\n",
            " 2   lumbar_lordosis_angle     309 non-null    float64\n",
            " 3   sacral_slope              309 non-null    float64\n",
            " 4   pelvic_radius             309 non-null    float64\n",
            " 5   degree_spondylolisthesis  309 non-null    float64\n",
            " 6   class                     309 non-null    int64  \n",
            "dtypes: float64(6), int64(1)\n",
            "memory usage: 17.0 KB\n"
          ],
          "name": "stdout"
        }
      ]
    },
    {
      "cell_type": "code",
      "metadata": {
        "colab": {
          "base_uri": "https://localhost:8080/"
        },
        "id": "p1tzJqANVvSr",
        "outputId": "178bb178-de89-4b8d-ce6d-9d706c8256fd"
      },
      "source": [
        "X_vert = np.array(df_vert.drop([\"pelvic_incidence\",\"pelvic_tilt\",\"sacral_slope\",\"pelvic_radius\",\"class\"], axis=1))\n",
        "y_vert = np.array(df_vert[\"class\"].values)\n",
        "\n",
        "X_vert.shape, y_vert.shape, np.transpose(set(y_vert))"
      ],
      "execution_count": 55,
      "outputs": [
        {
          "output_type": "execute_result",
          "data": {
            "text/plain": [
              "((309, 2), (309,), array({0, 1, 2}, dtype=object))"
            ]
          },
          "metadata": {
            "tags": []
          },
          "execution_count": 55
        }
      ]
    },
    {
      "cell_type": "code",
      "metadata": {
        "id": "QL5vjGsyzkbK"
      },
      "source": [
        "from sklearn.preprocessing import StandardScaler\n",
        "scaler = StandardScaler()\n",
        "X_vert = scaler.fit_transform(X_vert)"
      ],
      "execution_count": 56,
      "outputs": []
    },
    {
      "cell_type": "code",
      "metadata": {
        "colab": {
          "base_uri": "https://localhost:8080/"
        },
        "id": "VQg2CYDbWL36",
        "outputId": "578f8c11-1312-4708-e3e9-dc3480021719"
      },
      "source": [
        "melhor_feature_prof_vert = melhorCaracteristica(X_vert, y_vert)\n",
        "melhor_feature_rodrigo_vert = melhorCaracteristica_new(X_vert, y_vert)\n",
        "\n",
        "arvore_vert = DecisionTreeClassifier()\n",
        "arvore_vert.fit(X_vert,y_vert)\n",
        "melhor_feature_sklearn_vert = np.argmax(arvore_vert.feature_importances_), max(arvore_vert.feature_importances_), arvore_vert.tree_.impurity[np.argmax(arvore_vert.feature_importances_)]\n",
        "\n",
        "melhor_feature_prof_vert, melhor_feature_rodrigo_vert, melhor_feature_sklearn_vert"
      ],
      "execution_count": 57,
      "outputs": [
        {
          "output_type": "execute_result",
          "data": {
            "text/plain": [
              "((0, 0.9654236625002697, 0.557116117504467),\n",
              " (1, -0.38138182022588485, 0.7218581443968414),\n",
              " (1, 0.8033816592254606, 0.5017553335133675))"
            ]
          },
          "metadata": {
            "tags": []
          },
          "execution_count": 57
        }
      ]
    },
    {
      "cell_type": "code",
      "metadata": {
        "colab": {
          "base_uri": "https://localhost:8080/",
          "height": 853
        },
        "id": "FiooGKlLWjb-",
        "outputId": "477ca9dc-f1e3-4fb1-a674-90a5a9c1efd5"
      },
      "source": [
        "def plotDecisao_vert(modelo, X, y, title):\n",
        "    modelo.fit(X, y)\n",
        "    x0s = np.linspace(np.min(X[:,0])-0.2, np.max(X[:,0])+0.2, 100)\n",
        "    x1s = np.linspace(np.min(X[:,1])-0.2, np.max(X[:,1])+0.2, 100)\n",
        "    x0, x1 = np.meshgrid(x0s, x1s)\n",
        "    Xdec = np.c_[x0.ravel(), x1.ravel()]\n",
        "    ypred = modelo.predict(Xdec)\n",
        "    plt.title(title)\n",
        "    plt.contourf(x0, x1, ypred.reshape(x0.shape), alpha=0.25)\n",
        "    for k in set(y):\n",
        "        plt.plot(X[:,0][y==k], X[:,1][y==k], 'o', label=f\"{y_vert[k]} [{k}]\")\n",
        "    plt.xlabel(f\"X[0]: {df_vert.keys()[0]}\")\n",
        "    plt.ylabel(f\"X[1]: {df_vert.keys()[1]}\")\n",
        "    plt.show()\n",
        "\n",
        "\n",
        "plotDecisao_vert(Arvore(), X_vert, y_vert, \"Regiões vídeo aula\")\n",
        "plotDecisao_vert(Arvore_new(), X_vert, y_vert, \"Regiões Rodrigo\")\n",
        "plotDecisao_vert(DecisionTreeClassifier(), X_vert, y_vert, \"Regiões sklearn\")"
      ],
      "execution_count": 58,
      "outputs": [
        {
          "output_type": "display_data",
          "data": {
            "image/png": "[encoded data removed]",
            "text/plain": [
              "<Figure size 432x288 with 1 Axes>"
            ]
          },
          "metadata": {
            "tags": [],
            "needs_background": "light"
          }
        },
        {
          "output_type": "display_data",
          "data": {
            "image/png": "[encoded data removed]",
            "text/plain": [
              "<Figure size 432x288 with 1 Axes>"
            ]
          },
          "metadata": {
            "tags": [],
            "needs_background": "light"
          }
        },
        {
          "output_type": "display_data",
          "data": {
            "image/png": "[encoded data removed]",
            "text/plain": [
              "<Figure size 432x288 with 1 Axes>"
            ]
          },
          "metadata": {
            "tags": [],
            "needs_background": "light"
          }
        }
      ]
    },
    {
      "cell_type": "code",
      "metadata": {
        "id": "rs17bJBZWyoC"
      },
      "source": [
        "scores_vert_video_aula = cross_validate(Arvore(), X_vert, y_vert)\n",
        "scores_vert_rodrigo = cross_validate(Arvore_new(), X_vert, y_vert)\n",
        "scores_vert_sklearn = cross_validate(DecisionTreeClassifier(), X_vert, y_vert)"
      ],
      "execution_count": 59,
      "outputs": []
    },
    {
      "cell_type": "code",
      "metadata": {
        "id": "p4KSeSNlxHkA"
      },
      "source": [
        "resultados.append((\"Vertebral column\",\"Vídeo aula\",np.mean(scores_vert_video_aula['test_score'])))\n",
        "resultados.append((\"Vertebral column\",\"Rodrigo\",np.mean(scores_vert_rodrigo['test_score'])))\n",
        "resultados.append((\"Vertebral column\",\"Sklearn\",np.mean(scores_vert_sklearn['test_score'])))"
      ],
      "execution_count": 60,
      "outputs": []
    },
    {
      "cell_type": "code",
      "metadata": {
        "colab": {
          "base_uri": "https://localhost:8080/"
        },
        "id": "8gODD2b0xHfl",
        "outputId": "41f4aa28-0e29-4230-f911-ccd6c36adc68"
      },
      "source": [
        "scores_vert_video_aula['test_score'], np.mean(scores_vert_video_aula['test_score'])"
      ],
      "execution_count": 61,
      "outputs": [
        {
          "output_type": "execute_result",
          "data": {
            "text/plain": [
              "(array([0.70967742, 0.75806452, 0.75806452, 0.79032258, 0.75409836]),\n",
              " 0.7540454785827604)"
            ]
          },
          "metadata": {
            "tags": []
          },
          "execution_count": 61
        }
      ]
    },
    {
      "cell_type": "code",
      "metadata": {
        "colab": {
          "base_uri": "https://localhost:8080/"
        },
        "id": "fEfmsbJYxHbL",
        "outputId": "bc85c3bb-750b-43ea-8744-71c3c660b6a7"
      },
      "source": [
        "scores_vert_rodrigo['test_score'], np.mean(scores_vert_rodrigo['test_score'])"
      ],
      "execution_count": 62,
      "outputs": [
        {
          "output_type": "execute_result",
          "data": {
            "text/plain": [
              "(array([0.69354839, 0.74193548, 0.74193548, 0.72580645, 0.70491803]),\n",
              " 0.7216287678476997)"
            ]
          },
          "metadata": {
            "tags": []
          },
          "execution_count": 62
        }
      ]
    },
    {
      "cell_type": "code",
      "metadata": {
        "colab": {
          "base_uri": "https://localhost:8080/"
        },
        "id": "G_JaP5yNxHV8",
        "outputId": "a3c595d7-0412-48ca-9e1f-39917dc55072"
      },
      "source": [
        "scores_vert_sklearn['test_score'], np.mean(scores_vert_sklearn['test_score'])"
      ],
      "execution_count": 63,
      "outputs": [
        {
          "output_type": "execute_result",
          "data": {
            "text/plain": [
              "(array([0.72580645, 0.72580645, 0.77419355, 0.80645161, 0.75409836]),\n",
              " 0.7572712850343734)"
            ]
          },
          "metadata": {
            "tags": []
          },
          "execution_count": 63
        }
      ]
    },
    {
      "cell_type": "markdown",
      "metadata": {
        "id": "kErOf9V0xf1z"
      },
      "source": [
        "#Resultados "
      ]
    },
    {
      "cell_type": "code",
      "metadata": {
        "id": "stwVS_jrxiZY"
      },
      "source": [
        "df_resultados = pd.DataFrame(resultados,columns=[\"Dataset\", \"Modelo\", \"Média test_score\"])"
      ],
      "execution_count": 64,
      "outputs": []
    },
    {
      "cell_type": "code",
      "metadata": {
        "colab": {
          "base_uri": "https://localhost:8080/",
          "height": 403
        },
        "id": "bYUGS7bWx49o",
        "outputId": "dbabc09c-0c0f-487b-9802-8e42dd050acc"
      },
      "source": [
        "df_resultados"
      ],
      "execution_count": 65,
      "outputs": [
        {
          "output_type": "execute_result",
          "data": {
            "text/html": [
              "<div>\n",
              "<style scoped>\n",
              "    .dataframe tbody tr th:only-of-type {\n",
              "        vertical-align: middle;\n",
              "    }\n",
              "\n",
              "    .dataframe tbody tr th {\n",
              "        vertical-align: top;\n",
              "    }\n",
              "\n",
              "    .dataframe thead th {\n",
              "        text-align: right;\n",
              "    }\n",
              "</style>\n",
              "<table border=\"1\" class=\"dataframe\">\n",
              "  <thead>\n",
              "    <tr style=\"text-align: right;\">\n",
              "      <th></th>\n",
              "      <th>Dataset</th>\n",
              "      <th>Modelo</th>\n",
              "      <th>Média test_score</th>\n",
              "    </tr>\n",
              "  </thead>\n",
              "  <tbody>\n",
              "    <tr>\n",
              "      <th>0</th>\n",
              "      <td>Iris</td>\n",
              "      <td>Vídeo aula</td>\n",
              "      <td>0.953333</td>\n",
              "    </tr>\n",
              "    <tr>\n",
              "      <th>1</th>\n",
              "      <td>Iris</td>\n",
              "      <td>Rodrigo</td>\n",
              "      <td>0.933333</td>\n",
              "    </tr>\n",
              "    <tr>\n",
              "      <th>2</th>\n",
              "      <td>Iris</td>\n",
              "      <td>Sklearn</td>\n",
              "      <td>0.953333</td>\n",
              "    </tr>\n",
              "    <tr>\n",
              "      <th>3</th>\n",
              "      <td>Banknote</td>\n",
              "      <td>Vídeo aula</td>\n",
              "      <td>0.694368</td>\n",
              "    </tr>\n",
              "    <tr>\n",
              "      <th>4</th>\n",
              "      <td>Banknote</td>\n",
              "      <td>Rodrigo</td>\n",
              "      <td>0.675419</td>\n",
              "    </tr>\n",
              "    <tr>\n",
              "      <th>5</th>\n",
              "      <td>Banknote</td>\n",
              "      <td>Sklearn</td>\n",
              "      <td>0.697271</td>\n",
              "    </tr>\n",
              "    <tr>\n",
              "      <th>6</th>\n",
              "      <td>Cryotherapy</td>\n",
              "      <td>Vídeo aula</td>\n",
              "      <td>0.811111</td>\n",
              "    </tr>\n",
              "    <tr>\n",
              "      <th>7</th>\n",
              "      <td>Cryotherapy</td>\n",
              "      <td>Rodrigo</td>\n",
              "      <td>0.855556</td>\n",
              "    </tr>\n",
              "    <tr>\n",
              "      <th>8</th>\n",
              "      <td>Cryotherapy</td>\n",
              "      <td>Sklearn</td>\n",
              "      <td>0.866667</td>\n",
              "    </tr>\n",
              "    <tr>\n",
              "      <th>9</th>\n",
              "      <td>Vertebral column</td>\n",
              "      <td>Vídeo aula</td>\n",
              "      <td>0.754045</td>\n",
              "    </tr>\n",
              "    <tr>\n",
              "      <th>10</th>\n",
              "      <td>Vertebral column</td>\n",
              "      <td>Rodrigo</td>\n",
              "      <td>0.721629</td>\n",
              "    </tr>\n",
              "    <tr>\n",
              "      <th>11</th>\n",
              "      <td>Vertebral column</td>\n",
              "      <td>Sklearn</td>\n",
              "      <td>0.757271</td>\n",
              "    </tr>\n",
              "  </tbody>\n",
              "</table>\n",
              "</div>"
            ],
            "text/plain": [
              "             Dataset      Modelo  Média test_score\n",
              "0               Iris  Vídeo aula          0.953333\n",
              "1               Iris     Rodrigo          0.933333\n",
              "2               Iris     Sklearn          0.953333\n",
              "3           Banknote  Vídeo aula          0.694368\n",
              "4           Banknote     Rodrigo          0.675419\n",
              "5           Banknote     Sklearn          0.697271\n",
              "6        Cryotherapy  Vídeo aula          0.811111\n",
              "7        Cryotherapy     Rodrigo          0.855556\n",
              "8        Cryotherapy     Sklearn          0.866667\n",
              "9   Vertebral column  Vídeo aula          0.754045\n",
              "10  Vertebral column     Rodrigo          0.721629\n",
              "11  Vertebral column     Sklearn          0.757271"
            ]
          },
          "metadata": {
            "tags": []
          },
          "execution_count": 65
        }
      ]
    },
    {
      "cell_type": "markdown",
      "metadata": {
        "id": "4nJkYLkRJjSL"
      },
      "source": [
        "#Interpretação dos resultados"
      ]
    },
    {
      "cell_type": "markdown",
      "metadata": {
        "id": "rJWb_EBfJnRX"
      },
      "source": [
        "* Realizei testes para a minha heurística, utilizando para identificar o melhor valor, a mediana e a moda dos valores menores e maiores de x durante a busca deste melhor valor, porém a mediana apresentou melhores resultados na média do test_score, diferentemente da vídeo aula, que utilizou a média do menor e maior valor encontrados.\n",
        "\n",
        "* Também utilizei na minha heurística a entropia para cálculo da impureza, ao invés de Gini.\n",
        "\n",
        "* As regiões de decisão apresentadas utilizando minha heurística foram mais genéricas, o que reflete em resultados piores quando comparados com os resultados das outras heurísticas. Porém pode-se observar que em alguns casos minha heurística chegou em resultados próximos das outras duas, o que demonstra que em alguns casos ela pode apresentar resultados satisfatórios e pode ser considerada como uma opção de análise. \n",
        "\n",
        "* Porém, apesar de eu considerar minha heurística uma opção de análise, o uso do sklearn entendo que seja a escolha final para análises dos datasets, por conta de seus resultados terem sido melhores em todas as execuções e pela facilidade de uso."
      ]
    },
    {
      "cell_type": "code",
      "metadata": {
        "id": "pfyUxZTWNBMo"
      },
      "source": [
        ""
      ],
      "execution_count": 65,
      "outputs": []
    }
  ]
}