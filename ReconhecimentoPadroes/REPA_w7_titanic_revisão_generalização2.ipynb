{
  "nbformat": 4,
  "nbformat_minor": 0,
  "metadata": {
    "language_info": {
      "codemirror_mode": {
        "name": "ipython",
        "version": 3
      },
      "file_extension": ".py",
      "mimetype": "text/x-python",
      "name": "python",
      "nbconvert_exporter": "python",
      "pygments_lexer": "ipython3",
      "version": "3.8.5-final"
    },
    "orig_nbformat": 2,
    "kernelspec": {
      "name": "python38564bitvenv8df5f652c965478ab2804a4e99998afa",
      "display_name": "Python 3.8.5 64-bit ('.venv')",
      "language": "python"
    },
    "colab": {
      "name": "titanic_revisão_generalização2.ipynb",
      "provenance": []
    }
  },
  "cells": [
    {
      "cell_type": "code",
      "metadata": {
        "id": "-M02yBbYAciA"
      },
      "source": [
        "import os\r\n",
        "#IMPORT DATASET FROM KAGGLE\r\n",
        "os.environ['KAGGLE_USERNAME'] = \"XXX\" # username from the json file\r\n",
        "os.environ['KAGGLE_KEY'] = \"XXXX\" # key from the json file\r\n",
        "#!kaggle competitions download -c titanic"
      ],
      "execution_count": 18,
      "outputs": []
    },
    {
      "cell_type": "code",
      "metadata": {
        "id": "n2dCxbhgAW-k"
      },
      "source": [
        "import pandas as pd\n",
        "train = pd.read_csv('train.csv')\n",
        "test = pd.read_csv('test.csv')\n",
        "X = train[list(test.columns)]\n",
        "y = train[train.columns[~train.columns.isin(test.columns)]]\n"
      ],
      "execution_count": 35,
      "outputs": []
    },
    {
      "cell_type": "code",
      "metadata": {
        "id": "fThzCXVjVFUZ"
      },
      "source": [
        "#Criação colunas\r\n",
        "\r\n",
        "X[\"Family\"] = X[\"Name\"]\r\n",
        "#SibSp: esposa / Parch: pais/filhos\r\n",
        "#Informações sobre parentes e se estava sozinho ou não\r\n",
        "X[\"Alone\"] = X['Alone'] = np.where(X[\"SibSp\"] + X[\"Parch\"] > 0, 0, 1)\r\n"
      ],
      "execution_count": 36,
      "outputs": []
    },
    {
      "cell_type": "code",
      "metadata": {
        "id": "TnQSUl8lVe3V"
      },
      "source": [
        "#Criação colunas\r\n",
        "\r\n",
        "test[\"Family\"] = test[\"Name\"]\r\n",
        "#SibSp: esposa / Parch: pais/filhos\r\n",
        "#Informações sobre parentes e se estava sozinho ou não\r\n",
        "test[\"Alone\"] = test['Alone'] = np.where(test[\"SibSp\"] + test[\"Parch\"] > 0, 0, 1)\r\n"
      ],
      "execution_count": 37,
      "outputs": []
    },
    {
      "cell_type": "code",
      "metadata": {
        "id": "-jPtoOTjAW-r"
      },
      "source": [
        "from sklearn.base import BaseEstimator, TransformerMixin\n",
        "import numpy as np\n",
        "\n",
        "def extraiPronome(nome):\n",
        "    return nome.split(',')[1].split('.')[0].strip()\n",
        "\n",
        "def extraiFamilia(nome):\n",
        "    return nome.split(',')[0].strip()    \n",
        "\n",
        "class AtributosDesejados(BaseEstimator, TransformerMixin):\n",
        "    def __init__(self, excluirName=True, excluirFamily=True, excluirAlone=True):\n",
        "        self.excluirName = excluirName\n",
        "        self.excluirFamily = excluirFamily\n",
        "        self.excluirAlone = excluirAlone\n",
        "    def fit(self, X, y=None):\n",
        "        #Identificação da familia\n",
        "        X[\"Family\"] = X[\"Name\"]\n",
        "        X['Alone'] = 0\n",
        "        self.colunasIndesejadas = ['PassengerId', 'Ticket', 'Cabin']\n",
        "        \n",
        "        if self.excluirFamily:\n",
        "            self.colunasIndesejadas.append('Family')\n",
        "        if self.excluirName:\n",
        "            self.colunasIndesejadas.append('Name')\n",
        "        if self.excluirAlone:\n",
        "            self.colunasIndesejadas.append('Alone')    \n",
        "        return self\n",
        "    def transform(self, X, y=None):\n",
        "        Xdrop = X.drop(self.colunasIndesejadas,axis=1)\n",
        "        if 'Name' not in self.colunasIndesejadas:\n",
        "            Xdrop['Name'] = Xdrop['Name'].apply(extraiPronome)\n",
        "        if 'Family' not in self.colunasIndesejadas:\n",
        "            Xdrop['Family'] = Xdrop['Family'].apply(extraiFamilia)\n",
        "        if 'Alone' not in self.colunasIndesejadas:\n",
        "            Xdrop['Alone'] = np.where(Xdrop[\"SibSp\"] + Xdrop[\"Parch\"] > 0, 0, 1)\n",
        "            Xdrop = Xdrop.drop('SibSp',axis=1)\n",
        "            Xdrop = Xdrop.drop('Parch',axis=1)\n",
        "\n",
        "        return Xdrop\n"
      ],
      "execution_count": 38,
      "outputs": []
    },
    {
      "cell_type": "code",
      "metadata": {
        "colab": {
          "base_uri": "https://localhost:8080/",
          "height": 204
        },
        "id": "-LYvGAKeIl8d",
        "outputId": "c45e8d96-f152-4490-f5ba-116a3fc582dd"
      },
      "source": [
        "#Teste\r\n",
        "atributosDesejados = AtributosDesejados(excluirName=False,excluirFamily=False,excluirAlone=False)\r\n",
        "a = atributosDesejados.fit_transform(X)\r\n",
        "a.head()"
      ],
      "execution_count": 39,
      "outputs": [
        {
          "output_type": "execute_result",
          "data": {
            "text/html": [
              "<div>\n",
              "<style scoped>\n",
              "    .dataframe tbody tr th:only-of-type {\n",
              "        vertical-align: middle;\n",
              "    }\n",
              "\n",
              "    .dataframe tbody tr th {\n",
              "        vertical-align: top;\n",
              "    }\n",
              "\n",
              "    .dataframe thead th {\n",
              "        text-align: right;\n",
              "    }\n",
              "</style>\n",
              "<table border=\"1\" class=\"dataframe\">\n",
              "  <thead>\n",
              "    <tr style=\"text-align: right;\">\n",
              "      <th></th>\n",
              "      <th>Pclass</th>\n",
              "      <th>Name</th>\n",
              "      <th>Sex</th>\n",
              "      <th>Age</th>\n",
              "      <th>Fare</th>\n",
              "      <th>Embarked</th>\n",
              "      <th>Family</th>\n",
              "      <th>Alone</th>\n",
              "    </tr>\n",
              "  </thead>\n",
              "  <tbody>\n",
              "    <tr>\n",
              "      <th>0</th>\n",
              "      <td>3</td>\n",
              "      <td>Mr</td>\n",
              "      <td>male</td>\n",
              "      <td>22.0</td>\n",
              "      <td>7.2500</td>\n",
              "      <td>S</td>\n",
              "      <td>Braund</td>\n",
              "      <td>0</td>\n",
              "    </tr>\n",
              "    <tr>\n",
              "      <th>1</th>\n",
              "      <td>1</td>\n",
              "      <td>Mrs</td>\n",
              "      <td>female</td>\n",
              "      <td>38.0</td>\n",
              "      <td>71.2833</td>\n",
              "      <td>C</td>\n",
              "      <td>Cumings</td>\n",
              "      <td>0</td>\n",
              "    </tr>\n",
              "    <tr>\n",
              "      <th>2</th>\n",
              "      <td>3</td>\n",
              "      <td>Miss</td>\n",
              "      <td>female</td>\n",
              "      <td>26.0</td>\n",
              "      <td>7.9250</td>\n",
              "      <td>S</td>\n",
              "      <td>Heikkinen</td>\n",
              "      <td>1</td>\n",
              "    </tr>\n",
              "    <tr>\n",
              "      <th>3</th>\n",
              "      <td>1</td>\n",
              "      <td>Mrs</td>\n",
              "      <td>female</td>\n",
              "      <td>35.0</td>\n",
              "      <td>53.1000</td>\n",
              "      <td>S</td>\n",
              "      <td>Futrelle</td>\n",
              "      <td>0</td>\n",
              "    </tr>\n",
              "    <tr>\n",
              "      <th>4</th>\n",
              "      <td>3</td>\n",
              "      <td>Mr</td>\n",
              "      <td>male</td>\n",
              "      <td>35.0</td>\n",
              "      <td>8.0500</td>\n",
              "      <td>S</td>\n",
              "      <td>Allen</td>\n",
              "      <td>1</td>\n",
              "    </tr>\n",
              "  </tbody>\n",
              "</table>\n",
              "</div>"
            ],
            "text/plain": [
              "   Pclass  Name     Sex   Age     Fare Embarked     Family  Alone\n",
              "0       3    Mr    male  22.0   7.2500        S     Braund      0\n",
              "1       1   Mrs  female  38.0  71.2833        C    Cumings      0\n",
              "2       3  Miss  female  26.0   7.9250        S  Heikkinen      1\n",
              "3       1   Mrs  female  35.0  53.1000        S   Futrelle      0\n",
              "4       3    Mr    male  35.0   8.0500        S      Allen      1"
            ]
          },
          "metadata": {
            "tags": []
          },
          "execution_count": 39
        }
      ]
    },
    {
      "cell_type": "code",
      "metadata": {
        "id": "uixxtEv4AW-u"
      },
      "source": [
        "from sklearn.base import BaseEstimator, TransformerMixin\n",
        "\n",
        "class AtributosNumericos(BaseEstimator, TransformerMixin):\n",
        "    def fit(self, X, y=None):\n",
        "        self.colunasNumericas = X.select_dtypes(include='number').columns\n",
        "        return self\n",
        "    def transform(self, X, y=None):\n",
        "        return X[self.colunasNumericas].to_numpy()\n"
      ],
      "execution_count": 40,
      "outputs": []
    },
    {
      "cell_type": "code",
      "metadata": {
        "id": "MPzbTaMeAW-w"
      },
      "source": [
        "from sklearn.base import BaseEstimator, TransformerMixin\n",
        "\n",
        "class AtributosCategoricos(BaseEstimator, TransformerMixin):\n",
        "    def fit(self, X, y=None):\n",
        "        self.colunasCategoricas = X.select_dtypes(include='object').columns\n",
        "        return self\n",
        "    def transform(self, X, y=None):\n",
        "        return X[self.colunasCategoricas].to_numpy()\n"
      ],
      "execution_count": 41,
      "outputs": []
    },
    {
      "cell_type": "code",
      "metadata": {
        "id": "D7xhDzV_AW-x"
      },
      "source": [
        "from sklearn.impute import SimpleImputer\n",
        "from sklearn.preprocessing import OneHotEncoder, StandardScaler\n",
        "from sklearn.pipeline import Pipeline, FeatureUnion\n",
        "\n",
        "trataAtributos = Pipeline([\n",
        "    ('unecaracteristicas', FeatureUnion([\n",
        "        ('pipenum', Pipeline([\n",
        "            ('atributos_numericos', AtributosNumericos()),\n",
        "            ('imputer', SimpleImputer(strategy='median')),\n",
        "            ('scaler', StandardScaler())\n",
        "        ])),\n",
        "        ('pipecat', Pipeline([\n",
        "            ('atributos_categoricos', AtributosCategoricos()),\n",
        "            ('imputer', SimpleImputer(strategy='most_frequent')),\n",
        "            ('encoder', OneHotEncoder(handle_unknown='ignore'))\n",
        "        ]))\n",
        "    ])),\n",
        "])\n"
      ],
      "execution_count": 42,
      "outputs": []
    },
    {
      "cell_type": "code",
      "metadata": {
        "colab": {
          "base_uri": "https://localhost:8080/"
        },
        "id": "VjZ3EJjNAW-z",
        "outputId": "4794a73a-555d-4b18-c1e6-d1f659a71eae"
      },
      "source": [
        "from sklearn.ensemble import RandomForestClassifier\n",
        "from sklearn.model_selection import GridSearchCV, cross_validate, RepeatedKFold\n",
        "import numpy as np\n",
        "\n",
        "pipetotal = Pipeline([\n",
        "    ('atributosDesejados', AtributosDesejados()),\n",
        "    ('trataAtributos', trataAtributos),\n",
        "    ('classificador', RandomForestClassifier(n_jobs=-1))\n",
        "])\n",
        "\n",
        "parametros = {\n",
        "    'atributosDesejados__excluirName': [True, False],\n",
        "    'atributosDesejados__excluirFamily': [True, False],\n",
        "    'atributosDesejados__excluirAlone': [True, False],\n",
        "    'classificador__max_depth': [15],\n",
        "    #'classificador__criterion': ['gini', 'entropy'],\n",
        "    'classificador__n_estimators': [100]\n",
        "}\n",
        "modelo = GridSearchCV(pipetotal, param_grid=parametros)\n",
        "\n",
        "scores = cross_validate(modelo, X, y, cv=RepeatedKFold(),scoring=\"roc_auc\")\n",
        "scores['test_score'], np.mean(scores['test_score']), np.std(scores['test_score'])"
      ],
      "execution_count": 43,
      "outputs": [
        {
          "output_type": "stream",
          "text": [
            "\u001b[1;30;43mA saída de streaming foi truncada nas últimas 5000 linhas.\u001b[0m\n",
            "See the caveats in the documentation: https://pandas.pydata.org/pandas-docs/stable/user_guide/indexing.html#returning-a-view-versus-a-copy\n"         
          ],
          "name": "stderr"
        },
        {
          "output_type": "execute_result",
          "data": {
            "text/plain": [
              "(array([0.84967949, 0.87156085, 0.85742794, 0.89794974, 0.85993187,\n",
              "        0.86021722, 0.90006684, 0.8419244 , 0.87671327, 0.83402346,\n",
              "        0.87496626, 0.8715443 , 0.86997958, 0.8635582 , 0.87719537,\n",
              "        0.85280374, 0.87514124, 0.9002193 , 0.86660144, 0.85029354,\n",
              "        0.89025208, 0.86586811, 0.86394605, 0.86453645, 0.86478626,\n",
              "        0.8761085 , 0.83662281, 0.86775468, 0.87619048, 0.87687807,\n",
              "        0.8891097 , 0.87412067, 0.87703092, 0.79959156, 0.90338291,\n",
              "        0.87136304, 0.83121693, 0.85146358, 0.88424638, 0.92802589,\n",
              "        0.88705092, 0.89155107, 0.85948276, 0.88699487, 0.83007288,\n",
              "        0.86480051, 0.92557566, 0.83660901, 0.86303804, 0.85883424]),\n",
              " 0.8689660615900483,\n",
              " 0.023291130524214124)"
            ]
          },
          "metadata": {
            "tags": []
          },
          "execution_count": 43
        }
      ]
    },
    {
      "cell_type": "code",
      "metadata": {
        "id": "FpwL3jzgLWNZ"
      },
      "source": [
        "#test[\"Family\"] = test[\"Name\"].map(lambda x: x.split(',')[0].strip())"
      ],
      "execution_count": null,
      "outputs": []
    },
    {
      "cell_type": "code",
      "metadata": {
        "colab": {
          "base_uri": "https://localhost:8080/"
        },
        "id": "DK2JZYWtAW-1",
        "outputId": "0367a244-18fd-4e69-8960-1b6590030c37"
      },
      "source": [
        "modelo.fit(X,y)\n",
        "y_pred = modelo.predict(test)\n",
        "result = test[['PassengerId']]\n",
        "result['Survived'] = y_pred\n",
        "result.to_csv('submission.csv',index=False)"
      ],
      "execution_count": 44,
      "outputs": [
        {
          "output_type": "stream",
          "text": [
            "/usr/local/lib/python3.7/dist-packages/ipykernel_launcher.py:17: SettingWithCopyWarning: \n",
            "A value is trying to be set on a copy of a slice from a DataFrame.\n",
            "Try using .loc[row_indexer,col_indexer] = value instead\n"            
          ],
          "name": "stderr"
        }
      ]
    },
    {
      "cell_type": "code",
      "metadata": {
        "colab": {
          "base_uri": "https://localhost:8080/"
        },
        "id": "-3QRLavaKzGy",
        "outputId": "8d68d097-9c33-43f6-e53d-f638225ffc19"
      },
      "source": [
        "!kaggle competitions submit -c titanic -f submission.csv -m \"new submission\""
      ],
      "execution_count": 46,
      "outputs": [
        {
          "output_type": "stream",
          "text": [
            "Warning: Looks like you're using an outdated API Version, please consider updating (server 1.5.10 / client 1.5.4)\n",
            "100% 2.77k/2.77k [00:01<00:00, 1.70kB/s]\n",
            "Successfully submitted to Titanic - Machine Learning from Disaster"
          ],
          "name": "stdout"
        }
      ]
    },
    {
      "cell_type": "code",
      "metadata": {
        "id": "I46zhi0nMxF_"
      },
      "source": [
        ""
      ],
      "execution_count": null,
      "outputs": []
    },
    {
      "cell_type": "markdown",
      "metadata": {
        "id": "bp1TDEQrNaJu"
      },
      "source": [
        "Foram feitas diversas tentativas em outro notebook, no qual adicionei novas colunas calculadas, sendo elas, família, quantidade de parentes, se pessoa sozinha e o deck da cabine da pessoa. \r\n",
        "\r\n",
        "O notebook está disponível em: https://github.com/rodseidel/mpca/blob/master/ReconhecimentoPadroes/REPA_w7_titanic_revis%C3%A3o_generaliza%C3%A7%C3%A3o1.ipynb\r\n",
        "\r\n",
        "Os resultados foram:\r\n",
        "\r\n",
        "Adicionado colunas alone e relativies:\r\n",
        "- média test-score: 0.8306295901073381\r\n",
        "- Kaggle submission: 0.78468\r\n",
        "\r\n",
        "\r\n",
        "Adicionando coluna Deck:\r\n",
        "- média test-score: 0.8280679178959263\r\n",
        "- Kaggle submission: 0.78708\r\n",
        "\r\n",
        "\r\n",
        "Porém, as opções que adicionei ao GridSearchCV tornaram o processo muito lento para novas tentativas. \r\n",
        "\r\n",
        "\r\n",
        "Diante disso preparei este notebook e fazendo a criação da coluna Família, bem como a inclusão de novos parâmetros no GridSearchCV, bem como parâmetros de busca no modelo, cheguei ao resultado:\r\n",
        "\r\n",
        "- média test-score: 0.8698945617526356\r\n",
        "- Kaggle submission: 0.79425"
      ]
    },
    {
      "cell_type": "code",
      "metadata": {
        "id": "VTyUU2CYPtCt"
      },
      "source": [
        ""
      ],
      "execution_count": null,
      "outputs": []
    }
  ]
}